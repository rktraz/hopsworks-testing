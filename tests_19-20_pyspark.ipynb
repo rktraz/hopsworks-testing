{
 "cells": [
  {
   "cell_type": "markdown",
   "id": "06179fb2",
   "metadata": {},
   "source": [
    "# PySpark engine"
   ]
  },
  {
   "cell_type": "markdown",
   "id": "8713a4ce",
   "metadata": {},
   "source": [
    "## 19) a) Retrieve all features of a feature group at a point in the past."
   ]
  },
  {
   "cell_type": "code",
   "execution_count": 1,
   "id": "abd8d05c",
   "metadata": {},
   "outputs": [
    {
     "name": "stdout",
     "output_type": "stream",
     "text": [
      "Starting Spark application\n"
     ]
    },
    {
     "data": {
      "text/html": [
       "<table>\n",
       "<tr><th>ID</th><th>Application ID</th><th>Kind</th><th>State</th><th>Spark UI</th><th>Driver log</th></tr><tr><td>9</td><td>application_1653473648291_0102</td><td>pyspark</td><td>idle</td><td><a target=\"_blank\" href=\"/hopsworks-api/yarnui/https://ip-172-31-17-208.eu-north-1.compute.internal:8089/proxy/application_1653473648291_0102/\">Link</a></td><td><a target=\"_blank\" href=\"/hopsworks-api/yarnui/https://ip-172-31-16-76.eu-north-1.compute.internal:8044/node/containerlogs/container_e01_1653473648291_0102_01_000001/testing__romankah\">Link</a></td></tr></table>"
      ],
      "text/plain": [
       "<IPython.core.display.HTML object>"
      ]
     },
     "metadata": {},
     "output_type": "display_data"
    },
    {
     "name": "stdout",
     "output_type": "stream",
     "text": [
      "SparkSession available as 'spark'.\n"
     ]
    }
   ],
   "source": [
    "import numpy as np\n",
    "import pandas as pd\n",
    "import matplotlib.pyplot as plt\n",
    "import seaborn as sns\n",
    "\n",
    "import hashlib\n",
    "from datetime import datetime\n",
    "\n",
    "from hops import hdfs"
   ]
  },
  {
   "cell_type": "code",
   "execution_count": 2,
   "id": "64958122",
   "metadata": {},
   "outputs": [
    {
     "name": "stdout",
     "output_type": "stream",
     "text": [
      "Connected. Call `.close()` to terminate connection gracefully."
     ]
    }
   ],
   "source": [
    "import hsfs\n",
    "\n",
    "# Create a connection\n",
    "connection = hsfs.connection()\n",
    "\n",
    "# Get the feature store handle for the project's feature store\n",
    "fs = connection.get_feature_store()"
   ]
  },
  {
   "cell_type": "code",
   "execution_count": 3,
   "id": "dd09fb04",
   "metadata": {},
   "outputs": [
    {
     "name": "stdout",
     "output_type": "stream",
     "text": [
      "Connected. Call `.close()` to terminate connection gracefully."
     ]
    }
   ],
   "source": [
    "import hsfs\n",
    "connection = hsfs.connection()\n",
    "fs = connection.get_feature_store(name='testing_featurestore')\n",
    "fg = fs.get_feature_group('test19_fg', version=1)"
   ]
  },
  {
   "cell_type": "code",
   "execution_count": 4,
   "id": "c0e94178",
   "metadata": {},
   "outputs": [],
   "source": [
    "commit_details = fg.commit_details()"
   ]
  },
  {
   "cell_type": "code",
   "execution_count": 20,
   "id": "1cd4fd1a",
   "metadata": {},
   "outputs": [
    {
     "name": "stdout",
     "output_type": "stream",
     "text": [
      "[1653861666314, 1653861750879, 1653861907471, 1653862131777]"
     ]
    }
   ],
   "source": [
    "sorted(commit_details.keys())"
   ]
  },
  {
   "cell_type": "code",
   "execution_count": 28,
   "id": "a2c64dd8",
   "metadata": {},
   "outputs": [
    {
     "name": "stdout",
     "output_type": "stream",
     "text": [
      "{'committedOn': '20220529220851777', 'rowsUpdated': 0, 'rowsInserted': 5000, 'rowsDeleted': 0}"
     ]
    }
   ],
   "source": [
    "commit_details[1653862131777]"
   ]
  },
  {
   "cell_type": "code",
   "execution_count": 24,
   "id": "698ed8c7",
   "metadata": {},
   "outputs": [],
   "source": [
    "commit_time1 = \"20220529220851777\""
   ]
  },
  {
   "cell_type": "code",
   "execution_count": 25,
   "id": "3420fb06",
   "metadata": {},
   "outputs": [],
   "source": [
    "df1 = fg.select_all().as_of(commit_time1).read()"
   ]
  },
  {
   "cell_type": "code",
   "execution_count": 26,
   "id": "3f9f4fb7",
   "metadata": {},
   "outputs": [
    {
     "name": "stdout",
     "output_type": "stream",
     "text": [
      "+-------+-----------------+--------------------+----------------+-------------------+-------------------+\n",
      "|summary|          ride_id|     pickup_datetime|dropoff_datetime|   pickup_longitude|    pickup_latitude|\n",
      "+-------+-----------------+--------------------+----------------+-------------------+-------------------+\n",
      "|  count|            20000|               20000|           20000|              20000|              20000|\n",
      "|   mean|      10010.88395|   1.578080217679E12|             0.0| -73.88844381305061|   40.7328899003499|\n",
      "| stddev|5791.966436353222|1.1583932872605354E8|             0.0|0.06668079754638655|0.08486563160874719|\n",
      "|    min|                1|       1577880020000|               0|          -74.14067|           40.41188|\n",
      "|    max|            20998|       1578299960000|               0|         -73.625336|          41.067753|\n",
      "+-------+-----------------+--------------------+----------------+-------------------+-------------------+"
     ]
    }
   ],
   "source": [
    "df1.describe().show()"
   ]
  },
  {
   "cell_type": "code",
   "execution_count": 35,
   "id": "4e90c699",
   "metadata": {},
   "outputs": [],
   "source": [
    "commit_time2 = \"20220529220106314\""
   ]
  },
  {
   "cell_type": "code",
   "execution_count": 36,
   "id": "624efe75",
   "metadata": {},
   "outputs": [],
   "source": [
    "df2 = fg.select_all().as_of(commit_time2).read()"
   ]
  },
  {
   "cell_type": "code",
   "execution_count": 37,
   "id": "003b413f",
   "metadata": {},
   "outputs": [
    {
     "name": "stdout",
     "output_type": "stream",
     "text": [
      "+-------+-----------------+--------------------+----------------+-------------------+-------------------+\n",
      "|summary|          ride_id|     pickup_datetime|dropoff_datetime|   pickup_longitude|    pickup_latitude|\n",
      "+-------+-----------------+--------------------+----------------+-------------------+-------------------+\n",
      "|  count|            20000|               20000|           20000|              20000|              20000|\n",
      "|   mean|      10010.88395|   1.578080217679E12|             0.0| -73.88844381305061|   40.7328899003499|\n",
      "| stddev|5791.966436353222|1.1583932872605354E8|             0.0|0.06668079754638655|0.08486563160874719|\n",
      "|    min|                1|       1577880020000|               0|          -74.14067|           40.41188|\n",
      "|    max|            20998|       1578299960000|               0|         -73.625336|          41.067753|\n",
      "+-------+-----------------+--------------------+----------------+-------------------+-------------------+"
     ]
    }
   ],
   "source": [
    "df2.describe().show()"
   ]
  },
  {
   "cell_type": "markdown",
   "id": "4ad445af",
   "metadata": {},
   "source": [
    "## 20) Select all columns except a column which doesn’t exist\n"
   ]
  },
  {
   "cell_type": "code",
   "execution_count": 44,
   "id": "6710145b",
   "metadata": {},
   "outputs": [
    {
     "name": "stdout",
     "output_type": "stream",
     "text": [
      "+-------+---------------+----------------+----------------+---------------+\n",
      "|ride_id|pickup_datetime|dropoff_datetime|pickup_longitude|pickup_latitude|\n",
      "+-------+---------------+----------------+----------------+---------------+\n",
      "|   2172|  1577923440000|               0|       -73.82012|      40.819847|\n",
      "|   5331|  1577986620000|               0|       -73.87562|       40.74921|\n",
      "|   3135|  1577942700000|               0|      -73.837456|      40.797783|\n",
      "+-------+---------------+----------------+----------------+---------------+\n",
      "only showing top 3 rows"
     ]
    }
   ],
   "source": [
    "fg.select_all().show(3)"
   ]
  },
  {
   "cell_type": "code",
   "execution_count": 45,
   "id": "5349177a",
   "metadata": {},
   "outputs": [
    {
     "name": "stdout",
     "output_type": "stream",
     "text": [
      "+-------+----------------+----------------+---------------+\n",
      "|ride_id|dropoff_datetime|pickup_longitude|pickup_latitude|\n",
      "+-------+----------------+----------------+---------------+\n",
      "|   2172|               0|       -73.82012|      40.819847|\n",
      "|   5331|               0|       -73.87562|       40.74921|\n",
      "|   3135|               0|      -73.837456|      40.797783|\n",
      "+-------+----------------+----------------+---------------+\n",
      "only showing top 3 rows"
     ]
    }
   ],
   "source": [
    "fg.select_except([\"pickup_datetime\"]).show(3)"
   ]
  },
  {
   "cell_type": "code",
   "execution_count": 46,
   "id": "2e3ba961",
   "metadata": {},
   "outputs": [
    {
     "name": "stdout",
     "output_type": "stream",
     "text": [
      "+-------+---------------+----------------+----------------+---------------+\n",
      "|ride_id|pickup_datetime|dropoff_datetime|pickup_longitude|pickup_latitude|\n",
      "+-------+---------------+----------------+----------------+---------------+\n",
      "|   2172|  1577923440000|               0|       -73.82012|      40.819847|\n",
      "|   5331|  1577986620000|               0|       -73.87562|       40.74921|\n",
      "|   3135|  1577942700000|               0|      -73.837456|      40.797783|\n",
      "+-------+---------------+----------------+----------------+---------------+\n",
      "only showing top 3 rows"
     ]
    }
   ],
   "source": [
    "fg.select_except([\"AAAAAAAAAAAAAAA\"]).show(3)"
   ]
  }
 ],
 "metadata": {
  "kernelspec": {
   "display_name": "PySpark",
   "language": "python",
   "name": "pysparkkernel"
  },
  "language_info": {
   "codemirror_mode": {
    "name": "python",
    "version": 3
   },
   "mimetype": "text/x-python",
   "name": "pyspark",
   "pygments_lexer": "python3"
  }
 },
 "nbformat": 4,
 "nbformat_minor": 5
}