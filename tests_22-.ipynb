{
 "cells": [
  {
   "cell_type": "markdown",
   "id": "ee8b60c0",
   "metadata": {},
   "source": [
    "## 22) Create a feature view with a query which joins 2 or more cache groups. Apply filter on event time field."
   ]
  },
  {
   "cell_type": "code",
   "execution_count": 1,
   "id": "9e2cadbd",
   "metadata": {},
   "outputs": [
    {
     "name": "stdout",
     "output_type": "stream",
     "text": [
      "2022-06-01 10:35:30,313 INFO: generated new fontManager\n"
     ]
    }
   ],
   "source": [
    "import numpy as np\n",
    "import pandas as pd\n",
    "import matplotlib.pyplot as plt\n",
    "import seaborn as sns\n",
    "\n",
    "import hashlib\n",
    "from datetime import datetime\n",
    "\n",
    "from hops import hdfs"
   ]
  },
  {
   "cell_type": "code",
   "execution_count": 2,
   "id": "3497ade7",
   "metadata": {},
   "outputs": [
    {
     "name": "stdout",
     "output_type": "stream",
     "text": [
      "Connected. Call `.close()` to terminate connection gracefully.\n"
     ]
    }
   ],
   "source": [
    "import hsfs\n",
    "\n",
    "# Create a connection\n",
    "connection = hsfs.connection()\n",
    "\n",
    "# Get the feature store handle for the project's feature store\n",
    "fs = connection.get_feature_store()"
   ]
  },
  {
   "cell_type": "code",
   "execution_count": 3,
   "id": "b70be251",
   "metadata": {},
   "outputs": [
    {
     "name": "stderr",
     "output_type": "stream",
     "text": [
      "FutureWarning: pyarrow.hdfs.HadoopFileSystem is deprecated as of 2.0.0, please use pyarrow.fs.HadoopFileSystem instead.\n"
     ]
    }
   ],
   "source": [
    "df_rides = pd.read_csv(hdfs.project_path() + \"Resources/rides.csv\", index_col=0)"
   ]
  },
  {
   "cell_type": "code",
   "execution_count": 4,
   "id": "95596451",
   "metadata": {},
   "outputs": [],
   "source": [
    "df_fares = pd.read_csv(hdfs.project_path() + \"Resources/fares.csv\", index_col=0)"
   ]
  },
  {
   "cell_type": "code",
   "execution_count": 5,
   "id": "4fefd5b4",
   "metadata": {},
   "outputs": [],
   "source": [
    "df_rides = df_rides.drop(columns=[\"is_start\"])"
   ]
  },
  {
   "cell_type": "code",
   "execution_count": 6,
   "id": "ebed2f6f",
   "metadata": {},
   "outputs": [
    {
     "data": {
      "text/html": [
       "<div>\n",
       "<style scoped>\n",
       "    .dataframe tbody tr th:only-of-type {\n",
       "        vertical-align: middle;\n",
       "    }\n",
       "\n",
       "    .dataframe tbody tr th {\n",
       "        vertical-align: top;\n",
       "    }\n",
       "\n",
       "    .dataframe thead th {\n",
       "        text-align: right;\n",
       "    }\n",
       "</style>\n",
       "<table border=\"1\" class=\"dataframe\">\n",
       "  <thead>\n",
       "    <tr style=\"text-align: right;\">\n",
       "      <th></th>\n",
       "      <th>ride_id</th>\n",
       "      <th>pickup_datetime</th>\n",
       "      <th>dropoff_datetime</th>\n",
       "      <th>pickup_longitude</th>\n",
       "      <th>pickup_latitude</th>\n",
       "      <th>dropoff_longitude</th>\n",
       "      <th>dropoff_latitude</th>\n",
       "      <th>passenger_count</th>\n",
       "      <th>taxi_id</th>\n",
       "      <th>driver_id</th>\n",
       "    </tr>\n",
       "  </thead>\n",
       "  <tbody>\n",
       "    <tr>\n",
       "      <th>0</th>\n",
       "      <td>1228</td>\n",
       "      <td>1577904560000</td>\n",
       "      <td>0</td>\n",
       "      <td>-73.867676</td>\n",
       "      <td>40.759323</td>\n",
       "      <td>-73.864080</td>\n",
       "      <td>40.763897</td>\n",
       "      <td>3</td>\n",
       "      <td>2013000194</td>\n",
       "      <td>2013000194</td>\n",
       "    </tr>\n",
       "    <tr>\n",
       "      <th>1</th>\n",
       "      <td>527</td>\n",
       "      <td>1577890540000</td>\n",
       "      <td>0</td>\n",
       "      <td>-73.857086</td>\n",
       "      <td>40.772793</td>\n",
       "      <td>-73.807335</td>\n",
       "      <td>40.836117</td>\n",
       "      <td>3</td>\n",
       "      <td>2013000122</td>\n",
       "      <td>2013000122</td>\n",
       "    </tr>\n",
       "    <tr>\n",
       "      <th>2</th>\n",
       "      <td>394</td>\n",
       "      <td>1577887880000</td>\n",
       "      <td>0</td>\n",
       "      <td>-73.844320</td>\n",
       "      <td>40.789043</td>\n",
       "      <td>-73.765950</td>\n",
       "      <td>40.888790</td>\n",
       "      <td>3</td>\n",
       "      <td>2013000102</td>\n",
       "      <td>2013000102</td>\n",
       "    </tr>\n",
       "  </tbody>\n",
       "</table>\n",
       "</div>"
      ],
      "text/plain": [
       "   ride_id  pickup_datetime  dropoff_datetime  pickup_longitude  \\\n",
       "0     1228    1577904560000                 0        -73.867676   \n",
       "1      527    1577890540000                 0        -73.857086   \n",
       "2      394    1577887880000                 0        -73.844320   \n",
       "\n",
       "   pickup_latitude  dropoff_longitude  dropoff_latitude  passenger_count  \\\n",
       "0        40.759323         -73.864080         40.763897                3   \n",
       "1        40.772793         -73.807335         40.836117                3   \n",
       "2        40.789043         -73.765950         40.888790                3   \n",
       "\n",
       "      taxi_id   driver_id  \n",
       "0  2013000194  2013000194  \n",
       "1  2013000122  2013000122  \n",
       "2  2013000102  2013000102  "
      ]
     },
     "execution_count": 6,
     "metadata": {},
     "output_type": "execute_result"
    }
   ],
   "source": [
    "df_rides.head(3)"
   ]
  },
  {
   "cell_type": "code",
   "execution_count": 13,
   "id": "228636fc",
   "metadata": {},
   "outputs": [
    {
     "data": {
      "text/html": [
       "<div>\n",
       "<style scoped>\n",
       "    .dataframe tbody tr th:only-of-type {\n",
       "        vertical-align: middle;\n",
       "    }\n",
       "\n",
       "    .dataframe tbody tr th {\n",
       "        vertical-align: top;\n",
       "    }\n",
       "\n",
       "    .dataframe thead th {\n",
       "        text-align: right;\n",
       "    }\n",
       "</style>\n",
       "<table border=\"1\" class=\"dataframe\">\n",
       "  <thead>\n",
       "    <tr style=\"text-align: right;\">\n",
       "      <th></th>\n",
       "      <th>ride_id</th>\n",
       "      <th>taxi_id</th>\n",
       "      <th>driver_id</th>\n",
       "      <th>pickup_datetime</th>\n",
       "      <th>payment_type</th>\n",
       "      <th>tip</th>\n",
       "      <th>tolls</th>\n",
       "      <th>total_fare</th>\n",
       "    </tr>\n",
       "  </thead>\n",
       "  <tbody>\n",
       "    <tr>\n",
       "      <th>0</th>\n",
       "      <td>1</td>\n",
       "      <td>2013000185</td>\n",
       "      <td>2013000185</td>\n",
       "      <td>1577880020000</td>\n",
       "      <td>CASH</td>\n",
       "      <td>33.0</td>\n",
       "      <td>0.0</td>\n",
       "      <td>118.0</td>\n",
       "    </tr>\n",
       "    <tr>\n",
       "      <th>1</th>\n",
       "      <td>2</td>\n",
       "      <td>2013000108</td>\n",
       "      <td>2013000108</td>\n",
       "      <td>1577880040000</td>\n",
       "      <td>CARD</td>\n",
       "      <td>14.0</td>\n",
       "      <td>0.0</td>\n",
       "      <td>48.0</td>\n",
       "    </tr>\n",
       "    <tr>\n",
       "      <th>2</th>\n",
       "      <td>3</td>\n",
       "      <td>2013000134</td>\n",
       "      <td>2013000134</td>\n",
       "      <td>1577880060000</td>\n",
       "      <td>CASH</td>\n",
       "      <td>12.0</td>\n",
       "      <td>0.0</td>\n",
       "      <td>41.0</td>\n",
       "    </tr>\n",
       "  </tbody>\n",
       "</table>\n",
       "</div>"
      ],
      "text/plain": [
       "   ride_id     taxi_id   driver_id  pickup_datetime payment_type   tip  tolls  \\\n",
       "0        1  2013000185  2013000185    1577880020000         CASH  33.0    0.0   \n",
       "1        2  2013000108  2013000108    1577880040000         CARD  14.0    0.0   \n",
       "2        3  2013000134  2013000134    1577880060000         CASH  12.0    0.0   \n",
       "\n",
       "   total_fare  \n",
       "0       118.0  \n",
       "1        48.0  \n",
       "2        41.0  "
      ]
     },
     "execution_count": 13,
     "metadata": {},
     "output_type": "execute_result"
    }
   ],
   "source": [
    "df_fares.head(3)"
   ]
  },
  {
   "cell_type": "code",
   "execution_count": 9,
   "id": "061a5592",
   "metadata": {},
   "outputs": [],
   "source": [
    "df_rides[\"pickup_datetime\"] = df_rides[\"pickup_datetime\"].astype(int)\n",
    "df_fares[\"pickup_datetime\"] = df_fares[\"pickup_datetime\"].astype(int)"
   ]
  },
  {
   "cell_type": "code",
   "execution_count": 10,
   "id": "17d20d10",
   "metadata": {},
   "outputs": [
    {
     "name": "stdout",
     "output_type": "stream",
     "text": [
      "Launching offline feature group backfill job...\n",
      "Backfill Job started successfully, you can follow the progress at https://hopsworks.glassfish.service.consul:8182/p/123/jobs/named/test22_rides_fg_1_offline_fg_backfill/executions\n"
     ]
    },
    {
     "data": {
      "text/plain": [
       "<hsfs.core.job.Job at 0x7f94dece24c0>"
      ]
     },
     "execution_count": 10,
     "metadata": {},
     "output_type": "execute_result"
    }
   ],
   "source": [
    "test22_rides_fg = fs.create_feature_group(name=\"test22_rides_fg\",\n",
    "                                          version=1,\n",
    "                                          primary_key=[\"ride_id\"],\n",
    "                                          event_time=[\"pickup_datetime\"],\n",
    "                                          description=\"test22_rides_fg\",\n",
    "                                          online_enabled=True)   \n",
    "test22_rides_fg.save(df_rides)"
   ]
  },
  {
   "cell_type": "code",
   "execution_count": 12,
   "id": "4a0d20b4",
   "metadata": {},
   "outputs": [
    {
     "name": "stdout",
     "output_type": "stream",
     "text": [
      "Launching offline feature group backfill job...\n",
      "Backfill Job started successfully, you can follow the progress at https://hopsworks.glassfish.service.consul:8182/p/123/jobs/named/test22_fares_fg_1_offline_fg_backfill/executions\n"
     ]
    },
    {
     "data": {
      "text/plain": [
       "<hsfs.core.job.Job at 0x7f94decdeac0>"
      ]
     },
     "execution_count": 12,
     "metadata": {},
     "output_type": "execute_result"
    }
   ],
   "source": [
    "test22_fares_fg = fs.create_feature_group(name=\"test22_fares_fg\",\n",
    "                                          version=1,\n",
    "                                          primary_key=[\"ride_id\"],\n",
    "                                          event_time=[\"pickup_datetime\"],\n",
    "                                          description=\"test22_fares_fg\")   \n",
    "test22_fares_fg.save(df_fares)"
   ]
  },
  {
   "cell_type": "code",
   "execution_count": 25,
   "id": "0f019eb7",
   "metadata": {},
   "outputs": [],
   "source": [
    "from hsfs.feature import Feature"
   ]
  },
  {
   "cell_type": "code",
   "execution_count": 26,
   "id": "d8e9c491",
   "metadata": {},
   "outputs": [],
   "source": [
    "fg_query = test22_fares_fg.select(['total_fare', 'pickup_datetime'])\\\n",
    "                            .join(test22_rides_fg.select_except(['taxi_id',\n",
    "                                  'driver_id']), on=['ride_id']).filter(Feature(\"pickup_datetime\") > 1578701500000)"
   ]
  },
  {
   "cell_type": "code",
   "execution_count": 27,
   "id": "8b3ef08a",
   "metadata": {},
   "outputs": [
    {
     "name": "stdout",
     "output_type": "stream",
     "text": [
      "2022-05-29 23:10:24,374 INFO: USE `testing_featurestore`\n",
      "2022-05-29 23:10:25,053 INFO: WITH right_fg0 AS (SELECT *\n",
      "FROM (SELECT `fg1`.`total_fare` `total_fare`, `fg1`.`pickup_datetime` `pickup_datetime`, `fg1`.`ride_id` `join_pk_ride_id`, `fg1`.`pickup_datetime` `join_evt_pickup_datetime`, `fg0`.`ride_id` `ride_id`, `fg0`.`dropoff_datetime` `dropoff_datetime`, `fg0`.`pickup_longitude` `pickup_longitude`, `fg0`.`pickup_latitude` `pickup_latitude`, `fg0`.`dropoff_longitude` `dropoff_longitude`, `fg0`.`dropoff_latitude` `dropoff_latitude`, `fg0`.`passenger_count` `passenger_count`, RANK() OVER (PARTITION BY `fg1`.`ride_id`, `fg1`.`pickup_datetime` ORDER BY `fg0`.`pickup_datetime` DESC) pit_rank_hopsworks\n",
      "FROM `testing_featurestore`.`test22_fares_fg_1` `fg1`\n",
      "INNER JOIN `testing_featurestore`.`test22_rides_fg_1` `fg0` ON `fg1`.`ride_id` = `fg0`.`ride_id` AND `fg1`.`pickup_datetime` >= `fg0`.`pickup_datetime`\n",
      "WHERE `fg0`.`pickup_datetime` > 1578701500000) NA\n",
      "WHERE `pit_rank_hopsworks` = 1) (SELECT `right_fg0`.`total_fare` `total_fare`, `right_fg0`.`pickup_datetime` `pickup_datetime`, `right_fg0`.`ride_id` `ride_id`, `right_fg0`.`dropoff_datetime` `dropoff_datetime`, `right_fg0`.`pickup_longitude` `pickup_longitude`, `right_fg0`.`pickup_latitude` `pickup_latitude`, `right_fg0`.`dropoff_longitude` `dropoff_longitude`, `right_fg0`.`dropoff_latitude` `dropoff_latitude`, `right_fg0`.`passenger_count` `passenger_count`\n",
      "FROM right_fg0)\n"
     ]
    },
    {
     "data": {
      "text/html": [
       "<div>\n",
       "<style scoped>\n",
       "    .dataframe tbody tr th:only-of-type {\n",
       "        vertical-align: middle;\n",
       "    }\n",
       "\n",
       "    .dataframe tbody tr th {\n",
       "        vertical-align: top;\n",
       "    }\n",
       "\n",
       "    .dataframe thead th {\n",
       "        text-align: right;\n",
       "    }\n",
       "</style>\n",
       "<table border=\"1\" class=\"dataframe\">\n",
       "  <thead>\n",
       "    <tr style=\"text-align: right;\">\n",
       "      <th></th>\n",
       "      <th>total_fare</th>\n",
       "      <th>pickup_datetime</th>\n",
       "      <th>ride_id</th>\n",
       "      <th>dropoff_datetime</th>\n",
       "      <th>pickup_longitude</th>\n",
       "      <th>pickup_latitude</th>\n",
       "      <th>dropoff_longitude</th>\n",
       "      <th>dropoff_latitude</th>\n",
       "      <th>passenger_count</th>\n",
       "    </tr>\n",
       "  </thead>\n",
       "  <tbody>\n",
       "    <tr>\n",
       "      <th>0</th>\n",
       "      <td>76.0</td>\n",
       "      <td>1578701520000</td>\n",
       "      <td>41076</td>\n",
       "      <td>0</td>\n",
       "      <td>-73.82090</td>\n",
       "      <td>40.81886</td>\n",
       "      <td>-73.862236</td>\n",
       "      <td>40.766250</td>\n",
       "      <td>3</td>\n",
       "    </tr>\n",
       "    <tr>\n",
       "      <th>1</th>\n",
       "      <td>32.0</td>\n",
       "      <td>1578701540000</td>\n",
       "      <td>41077</td>\n",
       "      <td>0</td>\n",
       "      <td>-73.87703</td>\n",
       "      <td>40.74742</td>\n",
       "      <td>-73.935480</td>\n",
       "      <td>40.673030</td>\n",
       "      <td>2</td>\n",
       "    </tr>\n",
       "    <tr>\n",
       "      <th>2</th>\n",
       "      <td>14.0</td>\n",
       "      <td>1578701560000</td>\n",
       "      <td>41078</td>\n",
       "      <td>0</td>\n",
       "      <td>-73.89991</td>\n",
       "      <td>40.71830</td>\n",
       "      <td>-73.928530</td>\n",
       "      <td>40.681877</td>\n",
       "      <td>2</td>\n",
       "    </tr>\n",
       "  </tbody>\n",
       "</table>\n",
       "</div>"
      ],
      "text/plain": [
       "   total_fare  pickup_datetime  ride_id  dropoff_datetime  pickup_longitude  \\\n",
       "0        76.0    1578701520000    41076                 0         -73.82090   \n",
       "1        32.0    1578701540000    41077                 0         -73.87703   \n",
       "2        14.0    1578701560000    41078                 0         -73.89991   \n",
       "\n",
       "   pickup_latitude  dropoff_longitude  dropoff_latitude  passenger_count  \n",
       "0         40.81886         -73.862236         40.766250                3  \n",
       "1         40.74742         -73.935480         40.673030                2  \n",
       "2         40.71830         -73.928530         40.681877                2  "
      ]
     },
     "execution_count": 27,
     "metadata": {},
     "output_type": "execute_result"
    }
   ],
   "source": [
    "fg_query.show(3)"
   ]
  },
  {
   "cell_type": "code",
   "execution_count": 32,
   "id": "a303aa6c",
   "metadata": {},
   "outputs": [
    {
     "name": "stdout",
     "output_type": "stream",
     "text": [
      "2022-05-29 23:11:54,806 INFO: USE `testing_featurestore`\n",
      "2022-05-29 23:11:55,612 INFO: WITH right_fg0 AS (SELECT *\n",
      "FROM (SELECT `fg1`.`total_fare` `total_fare`, `fg1`.`pickup_datetime` `pickup_datetime`, `fg1`.`ride_id` `join_pk_ride_id`, `fg1`.`pickup_datetime` `join_evt_pickup_datetime`, `fg0`.`ride_id` `ride_id`, `fg0`.`dropoff_datetime` `dropoff_datetime`, `fg0`.`pickup_longitude` `pickup_longitude`, `fg0`.`pickup_latitude` `pickup_latitude`, `fg0`.`dropoff_longitude` `dropoff_longitude`, `fg0`.`dropoff_latitude` `dropoff_latitude`, `fg0`.`passenger_count` `passenger_count`, RANK() OVER (PARTITION BY `fg1`.`ride_id`, `fg1`.`pickup_datetime` ORDER BY `fg0`.`pickup_datetime` DESC) pit_rank_hopsworks\n",
      "FROM `testing_featurestore`.`test22_fares_fg_1` `fg1`\n",
      "INNER JOIN `testing_featurestore`.`test22_rides_fg_1` `fg0` ON `fg1`.`ride_id` = `fg0`.`ride_id` AND `fg1`.`pickup_datetime` >= `fg0`.`pickup_datetime`\n",
      "WHERE `fg0`.`pickup_datetime` > 1578701500000) NA\n",
      "WHERE `pit_rank_hopsworks` = 1) (SELECT `right_fg0`.`total_fare` `total_fare`, `right_fg0`.`pickup_datetime` `pickup_datetime`, `right_fg0`.`ride_id` `ride_id`, `right_fg0`.`dropoff_datetime` `dropoff_datetime`, `right_fg0`.`pickup_longitude` `pickup_longitude`, `right_fg0`.`pickup_latitude` `pickup_latitude`, `right_fg0`.`dropoff_longitude` `dropoff_longitude`, `right_fg0`.`dropoff_latitude` `dropoff_latitude`, `right_fg0`.`passenger_count` `passenger_count`\n",
      "FROM right_fg0)\n"
     ]
    },
    {
     "data": {
      "text/plain": [
       "total_fare           3\n",
       "pickup_datetime      3\n",
       "ride_id              3\n",
       "dropoff_datetime     3\n",
       "pickup_longitude     3\n",
       "pickup_latitude      3\n",
       "dropoff_longitude    3\n",
       "dropoff_latitude     3\n",
       "passenger_count      3\n",
       "dtype: int64"
      ]
     },
     "execution_count": 32,
     "metadata": {},
     "output_type": "execute_result"
    }
   ],
   "source": [
    "fg_query.read().count()"
   ]
  },
  {
   "cell_type": "code",
   "execution_count": 33,
   "id": "3b920f00",
   "metadata": {},
   "outputs": [],
   "source": [
    "fv = fs.create_feature_view(\n",
    "    name='test22',\n",
    "    query=fg_query,\n",
    "    label=[\"total_fare\"]\n",
    "#     transformation_functions=transformation_functions\n",
    ")"
   ]
  },
  {
   "cell_type": "markdown",
   "id": "bcf473d9",
   "metadata": {},
   "source": [
    "## 23) Create a feature view with a feature group which has no event time and multiple primary keys and with transformation."
   ]
  },
  {
   "cell_type": "code",
   "execution_count": 7,
   "id": "b813755e",
   "metadata": {},
   "outputs": [],
   "source": [
    "df23 = df_rides.copy()"
   ]
  },
  {
   "cell_type": "code",
   "execution_count": 8,
   "id": "02d9a515",
   "metadata": {},
   "outputs": [],
   "source": [
    "df23 = df23.iloc[:10000, :5]"
   ]
  },
  {
   "cell_type": "code",
   "execution_count": 9,
   "id": "7817f84b",
   "metadata": {},
   "outputs": [],
   "source": [
    "df23[\"second_pk\"] = - df23[\"ride_id\"] "
   ]
  },
  {
   "cell_type": "code",
   "execution_count": 10,
   "id": "b90dbf8e",
   "metadata": {},
   "outputs": [
    {
     "data": {
      "text/html": [
       "<div>\n",
       "<style scoped>\n",
       "    .dataframe tbody tr th:only-of-type {\n",
       "        vertical-align: middle;\n",
       "    }\n",
       "\n",
       "    .dataframe tbody tr th {\n",
       "        vertical-align: top;\n",
       "    }\n",
       "\n",
       "    .dataframe thead th {\n",
       "        text-align: right;\n",
       "    }\n",
       "</style>\n",
       "<table border=\"1\" class=\"dataframe\">\n",
       "  <thead>\n",
       "    <tr style=\"text-align: right;\">\n",
       "      <th></th>\n",
       "      <th>ride_id</th>\n",
       "      <th>pickup_datetime</th>\n",
       "      <th>dropoff_datetime</th>\n",
       "      <th>pickup_longitude</th>\n",
       "      <th>pickup_latitude</th>\n",
       "      <th>second_pk</th>\n",
       "    </tr>\n",
       "  </thead>\n",
       "  <tbody>\n",
       "    <tr>\n",
       "      <th>0</th>\n",
       "      <td>1228</td>\n",
       "      <td>1577904560000</td>\n",
       "      <td>0</td>\n",
       "      <td>-73.867676</td>\n",
       "      <td>40.759323</td>\n",
       "      <td>-1228</td>\n",
       "    </tr>\n",
       "    <tr>\n",
       "      <th>1</th>\n",
       "      <td>527</td>\n",
       "      <td>1577890540000</td>\n",
       "      <td>0</td>\n",
       "      <td>-73.857086</td>\n",
       "      <td>40.772793</td>\n",
       "      <td>-527</td>\n",
       "    </tr>\n",
       "    <tr>\n",
       "      <th>2</th>\n",
       "      <td>394</td>\n",
       "      <td>1577887880000</td>\n",
       "      <td>0</td>\n",
       "      <td>-73.844320</td>\n",
       "      <td>40.789043</td>\n",
       "      <td>-394</td>\n",
       "    </tr>\n",
       "    <tr>\n",
       "      <th>3</th>\n",
       "      <td>1366</td>\n",
       "      <td>1577907320000</td>\n",
       "      <td>0</td>\n",
       "      <td>-73.860565</td>\n",
       "      <td>40.768370</td>\n",
       "      <td>-1366</td>\n",
       "    </tr>\n",
       "    <tr>\n",
       "      <th>4</th>\n",
       "      <td>1085</td>\n",
       "      <td>1577901700000</td>\n",
       "      <td>0</td>\n",
       "      <td>-73.831210</td>\n",
       "      <td>40.805737</td>\n",
       "      <td>-1085</td>\n",
       "    </tr>\n",
       "    <tr>\n",
       "      <th>...</th>\n",
       "      <td>...</td>\n",
       "      <td>...</td>\n",
       "      <td>...</td>\n",
       "      <td>...</td>\n",
       "      <td>...</td>\n",
       "      <td>...</td>\n",
       "    </tr>\n",
       "    <tr>\n",
       "      <th>9995</th>\n",
       "      <td>10940</td>\n",
       "      <td>1578098800000</td>\n",
       "      <td>0</td>\n",
       "      <td>-73.910680</td>\n",
       "      <td>40.704590</td>\n",
       "      <td>-10940</td>\n",
       "    </tr>\n",
       "    <tr>\n",
       "      <th>9996</th>\n",
       "      <td>10359</td>\n",
       "      <td>1578087180000</td>\n",
       "      <td>0</td>\n",
       "      <td>-73.858990</td>\n",
       "      <td>40.770374</td>\n",
       "      <td>-10359</td>\n",
       "    </tr>\n",
       "    <tr>\n",
       "      <th>9997</th>\n",
       "      <td>10053</td>\n",
       "      <td>1578081060000</td>\n",
       "      <td>0</td>\n",
       "      <td>-73.822105</td>\n",
       "      <td>40.817326</td>\n",
       "      <td>-10053</td>\n",
       "    </tr>\n",
       "    <tr>\n",
       "      <th>9998</th>\n",
       "      <td>10187</td>\n",
       "      <td>1578083740000</td>\n",
       "      <td>0</td>\n",
       "      <td>-73.805600</td>\n",
       "      <td>40.838326</td>\n",
       "      <td>-10187</td>\n",
       "    </tr>\n",
       "    <tr>\n",
       "      <th>9999</th>\n",
       "      <td>10107</td>\n",
       "      <td>1578082140000</td>\n",
       "      <td>0</td>\n",
       "      <td>-73.932120</td>\n",
       "      <td>40.677300</td>\n",
       "      <td>-10107</td>\n",
       "    </tr>\n",
       "  </tbody>\n",
       "</table>\n",
       "<p>10000 rows × 6 columns</p>\n",
       "</div>"
      ],
      "text/plain": [
       "      ride_id  pickup_datetime  dropoff_datetime  pickup_longitude  \\\n",
       "0        1228    1577904560000                 0        -73.867676   \n",
       "1         527    1577890540000                 0        -73.857086   \n",
       "2         394    1577887880000                 0        -73.844320   \n",
       "3        1366    1577907320000                 0        -73.860565   \n",
       "4        1085    1577901700000                 0        -73.831210   \n",
       "...       ...              ...               ...               ...   \n",
       "9995    10940    1578098800000                 0        -73.910680   \n",
       "9996    10359    1578087180000                 0        -73.858990   \n",
       "9997    10053    1578081060000                 0        -73.822105   \n",
       "9998    10187    1578083740000                 0        -73.805600   \n",
       "9999    10107    1578082140000                 0        -73.932120   \n",
       "\n",
       "      pickup_latitude  second_pk  \n",
       "0           40.759323      -1228  \n",
       "1           40.772793       -527  \n",
       "2           40.789043       -394  \n",
       "3           40.768370      -1366  \n",
       "4           40.805737      -1085  \n",
       "...               ...        ...  \n",
       "9995        40.704590     -10940  \n",
       "9996        40.770374     -10359  \n",
       "9997        40.817326     -10053  \n",
       "9998        40.838326     -10187  \n",
       "9999        40.677300     -10107  \n",
       "\n",
       "[10000 rows x 6 columns]"
      ]
     },
     "execution_count": 10,
     "metadata": {},
     "output_type": "execute_result"
    }
   ],
   "source": [
    "df23"
   ]
  },
  {
   "cell_type": "code",
   "execution_count": null,
   "id": "761e0957",
   "metadata": {},
   "outputs": [],
   "source": []
  },
  {
   "cell_type": "code",
   "execution_count": 82,
   "id": "8d16816f",
   "metadata": {},
   "outputs": [
    {
     "name": "stdout",
     "output_type": "stream",
     "text": [
      "Launching offline feature group backfill job...\n",
      "Backfill Job started successfully, you can follow the progress at https://hopsworks.glassfish.service.consul:8182/p/123/jobs/named/test23_fg_1_offline_fg_backfill/executions\n"
     ]
    },
    {
     "data": {
      "text/plain": [
       "<hsfs.core.job.Job at 0x7f94ded477f0>"
      ]
     },
     "execution_count": 82,
     "metadata": {},
     "output_type": "execute_result"
    }
   ],
   "source": [
    "test23_fg = fs.create_feature_group(name=\"test23_fg\",\n",
    "                                    version=1,\n",
    "                                    primary_key=[\"ride_id\"],\n",
    "                                    description=\"test23_fg\",\n",
    "                                    online_enabled=True)   \n",
    "test23_fg.save(df23)"
   ]
  },
  {
   "cell_type": "markdown",
   "id": "135ea19c",
   "metadata": {},
   "source": [
    "---"
   ]
  },
  {
   "cell_type": "markdown",
   "id": "0438ab8d",
   "metadata": {},
   "source": [
    "Now we will try to apply transformation functions to df_fares"
   ]
  },
  {
   "cell_type": "code",
   "execution_count": 7,
   "id": "624f41ce",
   "metadata": {},
   "outputs": [
    {
     "data": {
      "text/html": [
       "<div>\n",
       "<style scoped>\n",
       "    .dataframe tbody tr th:only-of-type {\n",
       "        vertical-align: middle;\n",
       "    }\n",
       "\n",
       "    .dataframe tbody tr th {\n",
       "        vertical-align: top;\n",
       "    }\n",
       "\n",
       "    .dataframe thead th {\n",
       "        text-align: right;\n",
       "    }\n",
       "</style>\n",
       "<table border=\"1\" class=\"dataframe\">\n",
       "  <thead>\n",
       "    <tr style=\"text-align: right;\">\n",
       "      <th></th>\n",
       "      <th>ride_id</th>\n",
       "      <th>taxi_id</th>\n",
       "      <th>driver_id</th>\n",
       "      <th>pickup_datetime</th>\n",
       "      <th>payment_type</th>\n",
       "      <th>tip</th>\n",
       "      <th>tolls</th>\n",
       "      <th>total_fare</th>\n",
       "    </tr>\n",
       "  </thead>\n",
       "  <tbody>\n",
       "    <tr>\n",
       "      <th>0</th>\n",
       "      <td>1</td>\n",
       "      <td>2013000185</td>\n",
       "      <td>2013000185</td>\n",
       "      <td>1577880020000</td>\n",
       "      <td>CASH</td>\n",
       "      <td>33.0</td>\n",
       "      <td>0.0</td>\n",
       "      <td>118.0</td>\n",
       "    </tr>\n",
       "    <tr>\n",
       "      <th>1</th>\n",
       "      <td>2</td>\n",
       "      <td>2013000108</td>\n",
       "      <td>2013000108</td>\n",
       "      <td>1577880040000</td>\n",
       "      <td>CARD</td>\n",
       "      <td>14.0</td>\n",
       "      <td>0.0</td>\n",
       "      <td>48.0</td>\n",
       "    </tr>\n",
       "    <tr>\n",
       "      <th>2</th>\n",
       "      <td>3</td>\n",
       "      <td>2013000134</td>\n",
       "      <td>2013000134</td>\n",
       "      <td>1577880060000</td>\n",
       "      <td>CASH</td>\n",
       "      <td>12.0</td>\n",
       "      <td>0.0</td>\n",
       "      <td>41.0</td>\n",
       "    </tr>\n",
       "    <tr>\n",
       "      <th>3</th>\n",
       "      <td>4</td>\n",
       "      <td>2013000062</td>\n",
       "      <td>2013000062</td>\n",
       "      <td>1577880080000</td>\n",
       "      <td>CARD</td>\n",
       "      <td>13.0</td>\n",
       "      <td>0.0</td>\n",
       "      <td>44.0</td>\n",
       "    </tr>\n",
       "    <tr>\n",
       "      <th>4</th>\n",
       "      <td>5</td>\n",
       "      <td>2013000087</td>\n",
       "      <td>2013000087</td>\n",
       "      <td>1577880100000</td>\n",
       "      <td>CASH</td>\n",
       "      <td>14.0</td>\n",
       "      <td>0.0</td>\n",
       "      <td>46.0</td>\n",
       "    </tr>\n",
       "    <tr>\n",
       "      <th>...</th>\n",
       "      <td>...</td>\n",
       "      <td>...</td>\n",
       "      <td>...</td>\n",
       "      <td>...</td>\n",
       "      <td>...</td>\n",
       "      <td>...</td>\n",
       "      <td>...</td>\n",
       "      <td>...</td>\n",
       "    </tr>\n",
       "    <tr>\n",
       "      <th>41073</th>\n",
       "      <td>41074</td>\n",
       "      <td>2013000022</td>\n",
       "      <td>2013000022</td>\n",
       "      <td>1578701480000</td>\n",
       "      <td>CARD</td>\n",
       "      <td>10.0</td>\n",
       "      <td>0.0</td>\n",
       "      <td>34.0</td>\n",
       "    </tr>\n",
       "    <tr>\n",
       "      <th>41074</th>\n",
       "      <td>41075</td>\n",
       "      <td>2013000048</td>\n",
       "      <td>2013000048</td>\n",
       "      <td>1578701500000</td>\n",
       "      <td>CASH</td>\n",
       "      <td>11.0</td>\n",
       "      <td>0.0</td>\n",
       "      <td>37.0</td>\n",
       "    </tr>\n",
       "    <tr>\n",
       "      <th>41075</th>\n",
       "      <td>41076</td>\n",
       "      <td>2013000176</td>\n",
       "      <td>2013000176</td>\n",
       "      <td>1578701520000</td>\n",
       "      <td>CARD</td>\n",
       "      <td>22.0</td>\n",
       "      <td>0.0</td>\n",
       "      <td>76.0</td>\n",
       "    </tr>\n",
       "    <tr>\n",
       "      <th>41076</th>\n",
       "      <td>41077</td>\n",
       "      <td>2013000001</td>\n",
       "      <td>2013000001</td>\n",
       "      <td>1578701540000</td>\n",
       "      <td>CASH</td>\n",
       "      <td>10.0</td>\n",
       "      <td>0.0</td>\n",
       "      <td>32.0</td>\n",
       "    </tr>\n",
       "    <tr>\n",
       "      <th>41077</th>\n",
       "      <td>41078</td>\n",
       "      <td>2013000125</td>\n",
       "      <td>2013000125</td>\n",
       "      <td>1578701560000</td>\n",
       "      <td>CARD</td>\n",
       "      <td>5.0</td>\n",
       "      <td>0.0</td>\n",
       "      <td>14.0</td>\n",
       "    </tr>\n",
       "  </tbody>\n",
       "</table>\n",
       "<p>41078 rows × 8 columns</p>\n",
       "</div>"
      ],
      "text/plain": [
       "       ride_id     taxi_id   driver_id  pickup_datetime payment_type   tip  \\\n",
       "0            1  2013000185  2013000185    1577880020000         CASH  33.0   \n",
       "1            2  2013000108  2013000108    1577880040000         CARD  14.0   \n",
       "2            3  2013000134  2013000134    1577880060000         CASH  12.0   \n",
       "3            4  2013000062  2013000062    1577880080000         CARD  13.0   \n",
       "4            5  2013000087  2013000087    1577880100000         CASH  14.0   \n",
       "...        ...         ...         ...              ...          ...   ...   \n",
       "41073    41074  2013000022  2013000022    1578701480000         CARD  10.0   \n",
       "41074    41075  2013000048  2013000048    1578701500000         CASH  11.0   \n",
       "41075    41076  2013000176  2013000176    1578701520000         CARD  22.0   \n",
       "41076    41077  2013000001  2013000001    1578701540000         CASH  10.0   \n",
       "41077    41078  2013000125  2013000125    1578701560000         CARD   5.0   \n",
       "\n",
       "       tolls  total_fare  \n",
       "0        0.0       118.0  \n",
       "1        0.0        48.0  \n",
       "2        0.0        41.0  \n",
       "3        0.0        44.0  \n",
       "4        0.0        46.0  \n",
       "...      ...         ...  \n",
       "41073    0.0        34.0  \n",
       "41074    0.0        37.0  \n",
       "41075    0.0        76.0  \n",
       "41076    0.0        32.0  \n",
       "41077    0.0        14.0  \n",
       "\n",
       "[41078 rows x 8 columns]"
      ]
     },
     "execution_count": 7,
     "metadata": {},
     "output_type": "execute_result"
    }
   ],
   "source": [
    "df_fares"
   ]
  },
  {
   "cell_type": "code",
   "execution_count": 10,
   "id": "d0661616",
   "metadata": {},
   "outputs": [
    {
     "name": "stdout",
     "output_type": "stream",
     "text": [
      "Launching offline feature group backfill job...\n",
      "Backfill Job started successfully, you can follow the progress at https://hopsworks.glassfish.service.consul:8182/p/123/jobs/named/test23_fares_fg_1_offline_fg_backfill/executions\n"
     ]
    },
    {
     "data": {
      "text/plain": [
       "<hsfs.core.job.Job at 0x7fe1fa3fa7c0>"
      ]
     },
     "execution_count": 10,
     "metadata": {},
     "output_type": "execute_result"
    }
   ],
   "source": [
    "test23_fares_fg = fs.create_feature_group(name=\"test23_fares_fg\",\n",
    "                                    version=1,\n",
    "                                    primary_key=[\"ride_id\"],\n",
    "                                    description=\"test23_fares_fg\",\n",
    "                                    online_enabled=True)   \n",
    "test23_fares_fg.save(df_fares.loc[:10000])"
   ]
  },
  {
   "cell_type": "code",
   "execution_count": 11,
   "id": "84e5c246",
   "metadata": {},
   "outputs": [],
   "source": [
    "# Load transformation functions.\n",
    "min_max_scaler = fs.get_transformation_function(name=\"min_max_scaler\")\n",
    "\n",
    "# Map features to transformations.\n",
    "transformation_functions = {\n",
    "    \"tip\": min_max_scaler,\n",
    "    \"total_fare\": min_max_scaler\n",
    "}"
   ]
  },
  {
   "cell_type": "code",
   "execution_count": 25,
   "id": "6804e389",
   "metadata": {},
   "outputs": [],
   "source": [
    "fg_query23_fares = test23_fares_fg.select_all()"
   ]
  },
  {
   "cell_type": "code",
   "execution_count": 26,
   "id": "fac0ab80",
   "metadata": {},
   "outputs": [
    {
     "name": "stdout",
     "output_type": "stream",
     "text": [
      "2022-05-30 17:32:52,731 INFO: USE `testing_featurestore`\n",
      "2022-05-30 17:32:53,577 INFO: SELECT `fg0`.`ride_id` `ride_id`, `fg0`.`taxi_id` `taxi_id`, `fg0`.`driver_id` `driver_id`, `fg0`.`pickup_datetime` `pickup_datetime`, `fg0`.`payment_type` `payment_type`, `fg0`.`tip` `tip`, `fg0`.`tolls` `tolls`, `fg0`.`total_fare` `total_fare`\n",
      "FROM `testing_featurestore`.`test23_fares_fg_1` `fg0`\n"
     ]
    },
    {
     "data": {
      "text/html": [
       "<div>\n",
       "<style scoped>\n",
       "    .dataframe tbody tr th:only-of-type {\n",
       "        vertical-align: middle;\n",
       "    }\n",
       "\n",
       "    .dataframe tbody tr th {\n",
       "        vertical-align: top;\n",
       "    }\n",
       "\n",
       "    .dataframe thead th {\n",
       "        text-align: right;\n",
       "    }\n",
       "</style>\n",
       "<table border=\"1\" class=\"dataframe\">\n",
       "  <thead>\n",
       "    <tr style=\"text-align: right;\">\n",
       "      <th></th>\n",
       "      <th>ride_id</th>\n",
       "      <th>taxi_id</th>\n",
       "      <th>driver_id</th>\n",
       "      <th>pickup_datetime</th>\n",
       "      <th>payment_type</th>\n",
       "      <th>tip</th>\n",
       "      <th>tolls</th>\n",
       "      <th>total_fare</th>\n",
       "    </tr>\n",
       "  </thead>\n",
       "  <tbody>\n",
       "    <tr>\n",
       "      <th>0</th>\n",
       "      <td>8518</td>\n",
       "      <td>2013000010</td>\n",
       "      <td>2013000010</td>\n",
       "      <td>1578050360000</td>\n",
       "      <td>CARD</td>\n",
       "      <td>4.0</td>\n",
       "      <td>0.0</td>\n",
       "      <td>10.0</td>\n",
       "    </tr>\n",
       "    <tr>\n",
       "      <th>1</th>\n",
       "      <td>7091</td>\n",
       "      <td>2013000186</td>\n",
       "      <td>2013000186</td>\n",
       "      <td>1578021820000</td>\n",
       "      <td>CASH</td>\n",
       "      <td>1.0</td>\n",
       "      <td>0.0</td>\n",
       "      <td>57.0</td>\n",
       "    </tr>\n",
       "    <tr>\n",
       "      <th>2</th>\n",
       "      <td>5129</td>\n",
       "      <td>2013000052</td>\n",
       "      <td>2013000052</td>\n",
       "      <td>1577982580000</td>\n",
       "      <td>CASH</td>\n",
       "      <td>29.0</td>\n",
       "      <td>0.0</td>\n",
       "      <td>103.0</td>\n",
       "    </tr>\n",
       "  </tbody>\n",
       "</table>\n",
       "</div>"
      ],
      "text/plain": [
       "   ride_id     taxi_id   driver_id  pickup_datetime payment_type   tip  tolls  \\\n",
       "0     8518  2013000010  2013000010    1578050360000         CARD   4.0    0.0   \n",
       "1     7091  2013000186  2013000186    1578021820000         CASH   1.0    0.0   \n",
       "2     5129  2013000052  2013000052    1577982580000         CASH  29.0    0.0   \n",
       "\n",
       "   total_fare  \n",
       "0        10.0  \n",
       "1        57.0  \n",
       "2       103.0  "
      ]
     },
     "execution_count": 26,
     "metadata": {},
     "output_type": "execute_result"
    }
   ],
   "source": [
    "fg_query23_fares.show(3)"
   ]
  },
  {
   "cell_type": "code",
   "execution_count": 27,
   "id": "6e5ba5cd",
   "metadata": {},
   "outputs": [],
   "source": [
    "fv23_fares = fs.create_feature_view(\n",
    "    name='test23_fares',\n",
    "    query=fg_query23_fares,\n",
    "    label=[\"payment_type\"],\n",
    "    transformation_functions=transformation_functions\n",
    ")"
   ]
  },
  {
   "cell_type": "code",
   "execution_count": 104,
   "id": "7fa86c23",
   "metadata": {},
   "outputs": [],
   "source": [
    "# fv23.preview_feature_vector(3)"
   ]
  },
  {
   "cell_type": "code",
   "execution_count": 46,
   "id": "f537ec60",
   "metadata": {},
   "outputs": [
    {
     "name": "stdout",
     "output_type": "stream",
     "text": [
      "Training dataset job started successfully, you can follow the progress at https://hopsworks.glassfish.service.consul:8182/p/123/jobs/named/test23_fares_2_1_create_fv_td_30052022194057/executions\n"
     ]
    },
    {
     "name": "stderr",
     "output_type": "stream",
     "text": [
      "VersionWarning: No version provided for creating training dataset, incremented version to `1`.\n"
     ]
    }
   ],
   "source": [
    "td_metadata = fv23_fares.create_training_dataset(\n",
    "    description = 'test23_fares',\n",
    "    data_format = 'csv',\n",
    "    splits = {'train': 80, 'validation': 20},\n",
    "    train_split = \"train\",\n",
    "    write_options = {'wait_for_job': False}\n",
    ")"
   ]
  },
  {
   "cell_type": "code",
   "execution_count": 47,
   "id": "66149b34",
   "metadata": {},
   "outputs": [
    {
     "name": "stdout",
     "output_type": "stream",
     "text": [
      "2022-05-30 19:41:03,621 INFO: USE `testing_featurestore`\n",
      "2022-05-30 19:41:04,447 INFO: SELECT `fg0`.`ride_id` `ride_id`, `fg0`.`taxi_id` `taxi_id`, `fg0`.`driver_id` `driver_id`, `fg0`.`pickup_datetime` `pickup_datetime`, `fg0`.`payment_type` `payment_type`, `fg0`.`tip` `tip`, `fg0`.`tolls` `tolls`, `fg0`.`total_fare` `total_fare`\n",
      "FROM `testing_featurestore`.`test23_fares_fg_1` `fg0`\n"
     ]
    },
    {
     "name": "stderr",
     "output_type": "stream",
     "text": [
      "VersionWarning: No version provided for creating training dataset, incremented version to `2`.\n"
     ]
    },
    {
     "data": {
      "text/html": [
       "<div>\n",
       "<style scoped>\n",
       "    .dataframe tbody tr th:only-of-type {\n",
       "        vertical-align: middle;\n",
       "    }\n",
       "\n",
       "    .dataframe tbody tr th {\n",
       "        vertical-align: top;\n",
       "    }\n",
       "\n",
       "    .dataframe thead th {\n",
       "        text-align: right;\n",
       "    }\n",
       "</style>\n",
       "<table border=\"1\" class=\"dataframe\">\n",
       "  <thead>\n",
       "    <tr style=\"text-align: right;\">\n",
       "      <th></th>\n",
       "      <th>ride_id</th>\n",
       "      <th>taxi_id</th>\n",
       "      <th>driver_id</th>\n",
       "      <th>pickup_datetime</th>\n",
       "      <th>payment_type</th>\n",
       "      <th>tip</th>\n",
       "      <th>tolls</th>\n",
       "      <th>total_fare</th>\n",
       "    </tr>\n",
       "  </thead>\n",
       "  <tbody>\n",
       "    <tr>\n",
       "      <th>0</th>\n",
       "      <td>8518</td>\n",
       "      <td>2013000010</td>\n",
       "      <td>2013000010</td>\n",
       "      <td>1578050360000</td>\n",
       "      <td>CARD</td>\n",
       "      <td>0.004878</td>\n",
       "      <td>0.0</td>\n",
       "      <td>0.034146</td>\n",
       "    </tr>\n",
       "    <tr>\n",
       "      <th>1</th>\n",
       "      <td>7091</td>\n",
       "      <td>2013000186</td>\n",
       "      <td>2013000186</td>\n",
       "      <td>1578021820000</td>\n",
       "      <td>CASH</td>\n",
       "      <td>-0.009756</td>\n",
       "      <td>0.0</td>\n",
       "      <td>0.263415</td>\n",
       "    </tr>\n",
       "    <tr>\n",
       "      <th>2</th>\n",
       "      <td>5129</td>\n",
       "      <td>2013000052</td>\n",
       "      <td>2013000052</td>\n",
       "      <td>1577982580000</td>\n",
       "      <td>CASH</td>\n",
       "      <td>0.126829</td>\n",
       "      <td>0.0</td>\n",
       "      <td>0.487805</td>\n",
       "    </tr>\n",
       "    <tr>\n",
       "      <th>3</th>\n",
       "      <td>6443</td>\n",
       "      <td>2013000188</td>\n",
       "      <td>2013000188</td>\n",
       "      <td>1578008860000</td>\n",
       "      <td>CASH</td>\n",
       "      <td>0.107317</td>\n",
       "      <td>0.0</td>\n",
       "      <td>0.419512</td>\n",
       "    </tr>\n",
       "    <tr>\n",
       "      <th>4</th>\n",
       "      <td>6231</td>\n",
       "      <td>2013000036</td>\n",
       "      <td>2013000036</td>\n",
       "      <td>1578004620000</td>\n",
       "      <td>CASH</td>\n",
       "      <td>-0.014634</td>\n",
       "      <td>0.0</td>\n",
       "      <td>0.121951</td>\n",
       "    </tr>\n",
       "  </tbody>\n",
       "</table>\n",
       "</div>"
      ],
      "text/plain": [
       "   ride_id     taxi_id   driver_id  pickup_datetime payment_type       tip  \\\n",
       "0     8518  2013000010  2013000010    1578050360000         CARD  0.004878   \n",
       "1     7091  2013000186  2013000186    1578021820000         CASH -0.009756   \n",
       "2     5129  2013000052  2013000052    1577982580000         CASH  0.126829   \n",
       "3     6443  2013000188  2013000188    1578008860000         CASH  0.107317   \n",
       "4     6231  2013000036  2013000036    1578004620000         CASH -0.014634   \n",
       "\n",
       "   tolls  total_fare  \n",
       "0    0.0    0.034146  \n",
       "1    0.0    0.263415  \n",
       "2    0.0    0.487805  \n",
       "3    0.0    0.419512  \n",
       "4    0.0    0.121951  "
      ]
     },
     "execution_count": 47,
     "metadata": {},
     "output_type": "execute_result"
    }
   ],
   "source": [
    "td_version, retrieved_df = fv23_fares.get_training_dataset()\n",
    "\n",
    "retrieved_df.head()"
   ]
  },
  {
   "cell_type": "code",
   "execution_count": 48,
   "id": "7aecb337",
   "metadata": {},
   "outputs": [
    {
     "data": {
      "text/plain": [
       "2"
      ]
     },
     "execution_count": 48,
     "metadata": {},
     "output_type": "execute_result"
    }
   ],
   "source": [
    "td_version"
   ]
  },
  {
   "cell_type": "code",
   "execution_count": 18,
   "id": "5995d2a9",
   "metadata": {},
   "outputs": [
    {
     "data": {
      "text/html": [
       "<div>\n",
       "<style scoped>\n",
       "    .dataframe tbody tr th:only-of-type {\n",
       "        vertical-align: middle;\n",
       "    }\n",
       "\n",
       "    .dataframe tbody tr th {\n",
       "        vertical-align: top;\n",
       "    }\n",
       "\n",
       "    .dataframe thead th {\n",
       "        text-align: right;\n",
       "    }\n",
       "</style>\n",
       "<table border=\"1\" class=\"dataframe\">\n",
       "  <thead>\n",
       "    <tr style=\"text-align: right;\">\n",
       "      <th></th>\n",
       "      <th>ride_id</th>\n",
       "      <th>taxi_id</th>\n",
       "      <th>driver_id</th>\n",
       "      <th>pickup_datetime</th>\n",
       "      <th>tip</th>\n",
       "      <th>tolls</th>\n",
       "      <th>total_fare</th>\n",
       "    </tr>\n",
       "  </thead>\n",
       "  <tbody>\n",
       "    <tr>\n",
       "      <th>count</th>\n",
       "      <td>10001.000000</td>\n",
       "      <td>1.000100e+04</td>\n",
       "      <td>1.000100e+04</td>\n",
       "      <td>1.000100e+04</td>\n",
       "      <td>10001.000000</td>\n",
       "      <td>10001.000000</td>\n",
       "      <td>10001.000000</td>\n",
       "    </tr>\n",
       "    <tr>\n",
       "      <th>mean</th>\n",
       "      <td>5001.000000</td>\n",
       "      <td>2.013000e+09</td>\n",
       "      <td>2.013000e+09</td>\n",
       "      <td>1.577980e+12</td>\n",
       "      <td>0.067384</td>\n",
       "      <td>0.261274</td>\n",
       "      <td>0.284120</td>\n",
       "    </tr>\n",
       "    <tr>\n",
       "      <th>std</th>\n",
       "      <td>2887.184355</td>\n",
       "      <td>5.773268e+01</td>\n",
       "      <td>5.773268e+01</td>\n",
       "      <td>5.774369e+07</td>\n",
       "      <td>0.050869</td>\n",
       "      <td>0.809833</td>\n",
       "      <td>0.173708</td>\n",
       "    </tr>\n",
       "    <tr>\n",
       "      <th>min</th>\n",
       "      <td>1.000000</td>\n",
       "      <td>2.013000e+09</td>\n",
       "      <td>2.013000e+09</td>\n",
       "      <td>1.577880e+12</td>\n",
       "      <td>-0.014634</td>\n",
       "      <td>0.000000</td>\n",
       "      <td>0.000000</td>\n",
       "    </tr>\n",
       "    <tr>\n",
       "      <th>25%</th>\n",
       "      <td>2501.000000</td>\n",
       "      <td>2.013000e+09</td>\n",
       "      <td>2.013000e+09</td>\n",
       "      <td>1.577930e+12</td>\n",
       "      <td>0.024390</td>\n",
       "      <td>0.000000</td>\n",
       "      <td>0.151220</td>\n",
       "    </tr>\n",
       "    <tr>\n",
       "      <th>50%</th>\n",
       "      <td>5001.000000</td>\n",
       "      <td>2.013000e+09</td>\n",
       "      <td>2.013000e+09</td>\n",
       "      <td>1.577980e+12</td>\n",
       "      <td>0.063415</td>\n",
       "      <td>0.000000</td>\n",
       "      <td>0.268293</td>\n",
       "    </tr>\n",
       "    <tr>\n",
       "      <th>75%</th>\n",
       "      <td>7501.000000</td>\n",
       "      <td>2.013000e+09</td>\n",
       "      <td>2.013000e+09</td>\n",
       "      <td>1.578030e+12</td>\n",
       "      <td>0.097561</td>\n",
       "      <td>0.000000</td>\n",
       "      <td>0.395122</td>\n",
       "    </tr>\n",
       "    <tr>\n",
       "      <th>max</th>\n",
       "      <td>10001.000000</td>\n",
       "      <td>2.013000e+09</td>\n",
       "      <td>2.013000e+09</td>\n",
       "      <td>1.578080e+12</td>\n",
       "      <td>0.268293</td>\n",
       "      <td>4.000000</td>\n",
       "      <td>1.000000</td>\n",
       "    </tr>\n",
       "  </tbody>\n",
       "</table>\n",
       "</div>"
      ],
      "text/plain": [
       "            ride_id       taxi_id     driver_id  pickup_datetime  \\\n",
       "count  10001.000000  1.000100e+04  1.000100e+04     1.000100e+04   \n",
       "mean    5001.000000  2.013000e+09  2.013000e+09     1.577980e+12   \n",
       "std     2887.184355  5.773268e+01  5.773268e+01     5.774369e+07   \n",
       "min        1.000000  2.013000e+09  2.013000e+09     1.577880e+12   \n",
       "25%     2501.000000  2.013000e+09  2.013000e+09     1.577930e+12   \n",
       "50%     5001.000000  2.013000e+09  2.013000e+09     1.577980e+12   \n",
       "75%     7501.000000  2.013000e+09  2.013000e+09     1.578030e+12   \n",
       "max    10001.000000  2.013000e+09  2.013000e+09     1.578080e+12   \n",
       "\n",
       "                tip         tolls    total_fare  \n",
       "count  10001.000000  10001.000000  10001.000000  \n",
       "mean       0.067384      0.261274      0.284120  \n",
       "std        0.050869      0.809833      0.173708  \n",
       "min       -0.014634      0.000000      0.000000  \n",
       "25%        0.024390      0.000000      0.151220  \n",
       "50%        0.063415      0.000000      0.268293  \n",
       "75%        0.097561      0.000000      0.395122  \n",
       "max        0.268293      4.000000      1.000000  "
      ]
     },
     "execution_count": 18,
     "metadata": {},
     "output_type": "execute_result"
    }
   ],
   "source": [
    "retrieved_df.describe()"
   ]
  },
  {
   "cell_type": "markdown",
   "id": "507ba5ad",
   "metadata": {},
   "source": [
    "## 24) Use preview_feature_vector()."
   ]
  },
  {
   "cell_type": "code",
   "execution_count": 4,
   "id": "be69b6c5",
   "metadata": {},
   "outputs": [],
   "source": [
    "df_electricity = pd.read_csv(hdfs.project_path() + \"Resources/electricity.csv\", index_col=0)"
   ]
  },
  {
   "cell_type": "code",
   "execution_count": 10,
   "id": "5e409b32",
   "metadata": {},
   "outputs": [],
   "source": [
    "df_electricity = df_electricity.drop(columns=[\"date\"])"
   ]
  },
  {
   "cell_type": "code",
   "execution_count": 11,
   "id": "a52dfd76",
   "metadata": {},
   "outputs": [
    {
     "data": {
      "text/html": [
       "<div>\n",
       "<style scoped>\n",
       "    .dataframe tbody tr th:only-of-type {\n",
       "        vertical-align: middle;\n",
       "    }\n",
       "\n",
       "    .dataframe tbody tr th {\n",
       "        vertical-align: top;\n",
       "    }\n",
       "\n",
       "    .dataframe thead th {\n",
       "        text-align: right;\n",
       "    }\n",
       "</style>\n",
       "<table border=\"1\" class=\"dataframe\">\n",
       "  <thead>\n",
       "    <tr style=\"text-align: right;\">\n",
       "      <th></th>\n",
       "      <th>RRP</th>\n",
       "      <th>frac_at_neg_RRP</th>\n",
       "      <th>demand</th>\n",
       "      <th>RRP_positive</th>\n",
       "      <th>demand_neg_RRP</th>\n",
       "      <th>RRP_negative</th>\n",
       "      <th>demand_pos_RRP</th>\n",
       "    </tr>\n",
       "  </thead>\n",
       "  <tbody>\n",
       "    <tr>\n",
       "      <th>0</th>\n",
       "      <td>25.633696</td>\n",
       "      <td>0.020833</td>\n",
       "      <td>99635.03</td>\n",
       "      <td>26.415953</td>\n",
       "      <td>2315.790</td>\n",
       "      <td>-7.240000</td>\n",
       "      <td>97319.240</td>\n",
       "    </tr>\n",
       "    <tr>\n",
       "      <th>1</th>\n",
       "      <td>33.138988</td>\n",
       "      <td>0.062500</td>\n",
       "      <td>129606.01</td>\n",
       "      <td>38.837661</td>\n",
       "      <td>8523.995</td>\n",
       "      <td>-47.809777</td>\n",
       "      <td>121082.015</td>\n",
       "    </tr>\n",
       "    <tr>\n",
       "      <th>2</th>\n",
       "      <td>34.564855</td>\n",
       "      <td>0.000000</td>\n",
       "      <td>142300.54</td>\n",
       "      <td>34.564855</td>\n",
       "      <td>0.000</td>\n",
       "      <td>0.000000</td>\n",
       "      <td>142300.540</td>\n",
       "    </tr>\n",
       "  </tbody>\n",
       "</table>\n",
       "</div>"
      ],
      "text/plain": [
       "         RRP  frac_at_neg_RRP     demand  RRP_positive  demand_neg_RRP  \\\n",
       "0  25.633696         0.020833   99635.03     26.415953        2315.790   \n",
       "1  33.138988         0.062500  129606.01     38.837661        8523.995   \n",
       "2  34.564855         0.000000  142300.54     34.564855           0.000   \n",
       "\n",
       "   RRP_negative  demand_pos_RRP  \n",
       "0     -7.240000       97319.240  \n",
       "1    -47.809777      121082.015  \n",
       "2      0.000000      142300.540  "
      ]
     },
     "execution_count": 11,
     "metadata": {},
     "output_type": "execute_result"
    }
   ],
   "source": [
    "df_electricity.head(3)"
   ]
  },
  {
   "cell_type": "code",
   "execution_count": 12,
   "id": "2a1e682a",
   "metadata": {},
   "outputs": [
    {
     "data": {
      "text/plain": [
       "(2106, 7)"
      ]
     },
     "execution_count": 12,
     "metadata": {},
     "output_type": "execute_result"
    }
   ],
   "source": [
    "df_electricity.shape"
   ]
  },
  {
   "cell_type": "code",
   "execution_count": 16,
   "id": "ff3d40e5",
   "metadata": {},
   "outputs": [],
   "source": [
    "test24_fg = fs.create_feature_group(name=\"test24_fg\",\n",
    "                                    version=1,\n",
    "                                    primary_key=[\"demand\"],\n",
    "                                    description=\"test24_fg\",\n",
    "                                    online_enabled=True)   \n",
    "test24_fg.save(df_electricity)"
   ]
  },
  {
   "cell_type": "code",
   "execution_count": 6,
   "id": "8061be06",
   "metadata": {},
   "outputs": [],
   "source": [
    "df_fares.pickup_datetime = df_fares.pickup_datetime.astype(int)"
   ]
  },
  {
   "cell_type": "code",
   "execution_count": 7,
   "id": "93783751",
   "metadata": {},
   "outputs": [],
   "source": [
    "df_fares = df_fares.drop(columns=[\"payment_type\"])"
   ]
  },
  {
   "cell_type": "code",
   "execution_count": 8,
   "id": "c532a1bb",
   "metadata": {},
   "outputs": [
    {
     "data": {
      "text/html": [
       "<div>\n",
       "<style scoped>\n",
       "    .dataframe tbody tr th:only-of-type {\n",
       "        vertical-align: middle;\n",
       "    }\n",
       "\n",
       "    .dataframe tbody tr th {\n",
       "        vertical-align: top;\n",
       "    }\n",
       "\n",
       "    .dataframe thead th {\n",
       "        text-align: right;\n",
       "    }\n",
       "</style>\n",
       "<table border=\"1\" class=\"dataframe\">\n",
       "  <thead>\n",
       "    <tr style=\"text-align: right;\">\n",
       "      <th></th>\n",
       "      <th>ride_id</th>\n",
       "      <th>taxi_id</th>\n",
       "      <th>driver_id</th>\n",
       "      <th>pickup_datetime</th>\n",
       "      <th>tip</th>\n",
       "      <th>tolls</th>\n",
       "      <th>total_fare</th>\n",
       "    </tr>\n",
       "  </thead>\n",
       "  <tbody>\n",
       "    <tr>\n",
       "      <th>0</th>\n",
       "      <td>1</td>\n",
       "      <td>2013000185</td>\n",
       "      <td>2013000185</td>\n",
       "      <td>1577880020000</td>\n",
       "      <td>33.0</td>\n",
       "      <td>0.0</td>\n",
       "      <td>118.0</td>\n",
       "    </tr>\n",
       "    <tr>\n",
       "      <th>1</th>\n",
       "      <td>2</td>\n",
       "      <td>2013000108</td>\n",
       "      <td>2013000108</td>\n",
       "      <td>1577880040000</td>\n",
       "      <td>14.0</td>\n",
       "      <td>0.0</td>\n",
       "      <td>48.0</td>\n",
       "    </tr>\n",
       "    <tr>\n",
       "      <th>2</th>\n",
       "      <td>3</td>\n",
       "      <td>2013000134</td>\n",
       "      <td>2013000134</td>\n",
       "      <td>1577880060000</td>\n",
       "      <td>12.0</td>\n",
       "      <td>0.0</td>\n",
       "      <td>41.0</td>\n",
       "    </tr>\n",
       "    <tr>\n",
       "      <th>3</th>\n",
       "      <td>4</td>\n",
       "      <td>2013000062</td>\n",
       "      <td>2013000062</td>\n",
       "      <td>1577880080000</td>\n",
       "      <td>13.0</td>\n",
       "      <td>0.0</td>\n",
       "      <td>44.0</td>\n",
       "    </tr>\n",
       "    <tr>\n",
       "      <th>4</th>\n",
       "      <td>5</td>\n",
       "      <td>2013000087</td>\n",
       "      <td>2013000087</td>\n",
       "      <td>1577880100000</td>\n",
       "      <td>14.0</td>\n",
       "      <td>0.0</td>\n",
       "      <td>46.0</td>\n",
       "    </tr>\n",
       "    <tr>\n",
       "      <th>...</th>\n",
       "      <td>...</td>\n",
       "      <td>...</td>\n",
       "      <td>...</td>\n",
       "      <td>...</td>\n",
       "      <td>...</td>\n",
       "      <td>...</td>\n",
       "      <td>...</td>\n",
       "    </tr>\n",
       "    <tr>\n",
       "      <th>41073</th>\n",
       "      <td>41074</td>\n",
       "      <td>2013000022</td>\n",
       "      <td>2013000022</td>\n",
       "      <td>1578701480000</td>\n",
       "      <td>10.0</td>\n",
       "      <td>0.0</td>\n",
       "      <td>34.0</td>\n",
       "    </tr>\n",
       "    <tr>\n",
       "      <th>41074</th>\n",
       "      <td>41075</td>\n",
       "      <td>2013000048</td>\n",
       "      <td>2013000048</td>\n",
       "      <td>1578701500000</td>\n",
       "      <td>11.0</td>\n",
       "      <td>0.0</td>\n",
       "      <td>37.0</td>\n",
       "    </tr>\n",
       "    <tr>\n",
       "      <th>41075</th>\n",
       "      <td>41076</td>\n",
       "      <td>2013000176</td>\n",
       "      <td>2013000176</td>\n",
       "      <td>1578701520000</td>\n",
       "      <td>22.0</td>\n",
       "      <td>0.0</td>\n",
       "      <td>76.0</td>\n",
       "    </tr>\n",
       "    <tr>\n",
       "      <th>41076</th>\n",
       "      <td>41077</td>\n",
       "      <td>2013000001</td>\n",
       "      <td>2013000001</td>\n",
       "      <td>1578701540000</td>\n",
       "      <td>10.0</td>\n",
       "      <td>0.0</td>\n",
       "      <td>32.0</td>\n",
       "    </tr>\n",
       "    <tr>\n",
       "      <th>41077</th>\n",
       "      <td>41078</td>\n",
       "      <td>2013000125</td>\n",
       "      <td>2013000125</td>\n",
       "      <td>1578701560000</td>\n",
       "      <td>5.0</td>\n",
       "      <td>0.0</td>\n",
       "      <td>14.0</td>\n",
       "    </tr>\n",
       "  </tbody>\n",
       "</table>\n",
       "<p>41078 rows × 7 columns</p>\n",
       "</div>"
      ],
      "text/plain": [
       "       ride_id     taxi_id   driver_id  pickup_datetime   tip  tolls  \\\n",
       "0            1  2013000185  2013000185    1577880020000  33.0    0.0   \n",
       "1            2  2013000108  2013000108    1577880040000  14.0    0.0   \n",
       "2            3  2013000134  2013000134    1577880060000  12.0    0.0   \n",
       "3            4  2013000062  2013000062    1577880080000  13.0    0.0   \n",
       "4            5  2013000087  2013000087    1577880100000  14.0    0.0   \n",
       "...        ...         ...         ...              ...   ...    ...   \n",
       "41073    41074  2013000022  2013000022    1578701480000  10.0    0.0   \n",
       "41074    41075  2013000048  2013000048    1578701500000  11.0    0.0   \n",
       "41075    41076  2013000176  2013000176    1578701520000  22.0    0.0   \n",
       "41076    41077  2013000001  2013000001    1578701540000  10.0    0.0   \n",
       "41077    41078  2013000125  2013000125    1578701560000   5.0    0.0   \n",
       "\n",
       "       total_fare  \n",
       "0           118.0  \n",
       "1            48.0  \n",
       "2            41.0  \n",
       "3            44.0  \n",
       "4            46.0  \n",
       "...           ...  \n",
       "41073        34.0  \n",
       "41074        37.0  \n",
       "41075        76.0  \n",
       "41076        32.0  \n",
       "41077        14.0  \n",
       "\n",
       "[41078 rows x 7 columns]"
      ]
     },
     "execution_count": 8,
     "metadata": {},
     "output_type": "execute_result"
    }
   ],
   "source": [
    "df_fares"
   ]
  },
  {
   "cell_type": "code",
   "execution_count": 10,
   "id": "d7dcc509",
   "metadata": {},
   "outputs": [
    {
     "name": "stdout",
     "output_type": "stream",
     "text": [
      "<class 'pandas.core.frame.DataFrame'>\n",
      "Int64Index: 41078 entries, 0 to 41077\n",
      "Data columns (total 7 columns):\n",
      " #   Column           Non-Null Count  Dtype  \n",
      "---  ------           --------------  -----  \n",
      " 0   ride_id          41078 non-null  int64  \n",
      " 1   taxi_id          41078 non-null  int64  \n",
      " 2   driver_id        41078 non-null  int64  \n",
      " 3   pickup_datetime  41078 non-null  int64  \n",
      " 4   tip              41078 non-null  float64\n",
      " 5   tolls            41078 non-null  float64\n",
      " 6   total_fare       41078 non-null  float64\n",
      "dtypes: float64(3), int64(4)\n",
      "memory usage: 2.5 MB\n"
     ]
    }
   ],
   "source": [
    "df_fares.info()"
   ]
  },
  {
   "cell_type": "code",
   "execution_count": 9,
   "id": "7ca8d4ec",
   "metadata": {},
   "outputs": [
    {
     "name": "stdout",
     "output_type": "stream",
     "text": [
      "Launching offline feature group backfill job...\n",
      "Backfill Job started successfully, you can follow the progress at https://hopsworks.glassfish.service.consul:8182/p/123/jobs/named/test24_fares2_fg_1_offline_fg_backfill/executions\n"
     ]
    },
    {
     "ename": "FeatureStoreException",
     "evalue": "The Hopsworks Job failed, use the Hopsworks UI to access the job logs",
     "output_type": "error",
     "traceback": [
      "\u001b[0;31m---------------------------------------------------------------------------\u001b[0m",
      "\u001b[0;31mFeatureStoreException\u001b[0m                     Traceback (most recent call last)",
      "\u001b[0;32m<ipython-input-9-0e8a0bcf4e4e>\u001b[0m in \u001b[0;36m<module>\u001b[0;34m\u001b[0m\n\u001b[1;32m      5\u001b[0m                                        \u001b[0mevent_time\u001b[0m\u001b[0;34m=\u001b[0m\u001b[0;34m[\u001b[0m\u001b[0;34m\"pickup_datetime\"\u001b[0m\u001b[0;34m]\u001b[0m\u001b[0;34m,\u001b[0m\u001b[0;34m\u001b[0m\u001b[0;34m\u001b[0m\u001b[0m\n\u001b[1;32m      6\u001b[0m                                     online_enabled=True)   \n\u001b[0;32m----> 7\u001b[0;31m \u001b[0mtest24_fares2_fg\u001b[0m\u001b[0;34m.\u001b[0m\u001b[0msave\u001b[0m\u001b[0;34m(\u001b[0m\u001b[0mdf_fares\u001b[0m\u001b[0;34m)\u001b[0m\u001b[0;34m\u001b[0m\u001b[0;34m\u001b[0m\u001b[0m\n\u001b[0m",
      "\u001b[0;32m/srv/hops/anaconda/envs/theenv/lib/python3.8/site-packages/hsfs/feature_group.py\u001b[0m in \u001b[0;36msave\u001b[0;34m(self, features, write_options)\u001b[0m\n\u001b[1;32m    859\u001b[0m \u001b[0;34m\u001b[0m\u001b[0m\n\u001b[1;32m    860\u001b[0m         \u001b[0;31m# fg_job is used only if the python engine is used\u001b[0m\u001b[0;34m\u001b[0m\u001b[0;34m\u001b[0m\u001b[0;34m\u001b[0m\u001b[0m\n\u001b[0;32m--> 861\u001b[0;31m         \u001b[0mfg_job\u001b[0m \u001b[0;34m=\u001b[0m \u001b[0mself\u001b[0m\u001b[0;34m.\u001b[0m\u001b[0m_feature_group_engine\u001b[0m\u001b[0;34m.\u001b[0m\u001b[0msave\u001b[0m\u001b[0;34m(\u001b[0m\u001b[0mself\u001b[0m\u001b[0;34m,\u001b[0m \u001b[0mfeature_dataframe\u001b[0m\u001b[0;34m,\u001b[0m \u001b[0mwrite_options\u001b[0m\u001b[0;34m)\u001b[0m\u001b[0;34m\u001b[0m\u001b[0;34m\u001b[0m\u001b[0m\n\u001b[0m\u001b[1;32m    862\u001b[0m         \u001b[0mself\u001b[0m\u001b[0;34m.\u001b[0m\u001b[0m_code_engine\u001b[0m\u001b[0;34m.\u001b[0m\u001b[0msave_code\u001b[0m\u001b[0;34m(\u001b[0m\u001b[0mself\u001b[0m\u001b[0;34m)\u001b[0m\u001b[0;34m\u001b[0m\u001b[0;34m\u001b[0m\u001b[0m\n\u001b[1;32m    863\u001b[0m         \u001b[0;32mif\u001b[0m \u001b[0mself\u001b[0m\u001b[0;34m.\u001b[0m\u001b[0mstatistics_config\u001b[0m\u001b[0;34m.\u001b[0m\u001b[0menabled\u001b[0m \u001b[0;32mand\u001b[0m \u001b[0mengine\u001b[0m\u001b[0;34m.\u001b[0m\u001b[0mget_type\u001b[0m\u001b[0;34m(\u001b[0m\u001b[0;34m)\u001b[0m \u001b[0;34m==\u001b[0m \u001b[0;34m\"spark\"\u001b[0m\u001b[0;34m:\u001b[0m\u001b[0;34m\u001b[0m\u001b[0;34m\u001b[0m\u001b[0m\n",
      "\u001b[0;32m/srv/hops/anaconda/envs/theenv/lib/python3.8/site-packages/hsfs/core/feature_group_engine.py\u001b[0m in \u001b[0;36msave\u001b[0;34m(self, feature_group, feature_dataframe, write_options)\u001b[0m\n\u001b[1;32m     63\u001b[0m         \u001b[0monline_write_options\u001b[0m \u001b[0;34m=\u001b[0m \u001b[0mself\u001b[0m\u001b[0;34m.\u001b[0m\u001b[0mget_kafka_config\u001b[0m\u001b[0;34m(\u001b[0m\u001b[0mwrite_options\u001b[0m\u001b[0;34m)\u001b[0m\u001b[0;34m\u001b[0m\u001b[0;34m\u001b[0m\u001b[0m\n\u001b[1;32m     64\u001b[0m \u001b[0;34m\u001b[0m\u001b[0m\n\u001b[0;32m---> 65\u001b[0;31m         return engine.get_instance().save_dataframe(\n\u001b[0m\u001b[1;32m     66\u001b[0m             \u001b[0mfeature_group\u001b[0m\u001b[0;34m,\u001b[0m\u001b[0;34m\u001b[0m\u001b[0;34m\u001b[0m\u001b[0m\n\u001b[1;32m     67\u001b[0m             \u001b[0mfeature_dataframe\u001b[0m\u001b[0;34m,\u001b[0m\u001b[0;34m\u001b[0m\u001b[0;34m\u001b[0m\u001b[0m\n",
      "\u001b[0;32m/srv/hops/anaconda/envs/theenv/lib/python3.8/site-packages/hsfs/engine/python.py\u001b[0m in \u001b[0;36msave_dataframe\u001b[0;34m(self, feature_group, dataframe, operation, online_enabled, storage, offline_write_options, online_write_options, validation_id)\u001b[0m\n\u001b[1;32m    380\u001b[0m     ):\n\u001b[1;32m    381\u001b[0m         \u001b[0;32mif\u001b[0m \u001b[0mfeature_group\u001b[0m\u001b[0;34m.\u001b[0m\u001b[0mstream\u001b[0m\u001b[0;34m:\u001b[0m\u001b[0;34m\u001b[0m\u001b[0;34m\u001b[0m\u001b[0m\n\u001b[0;32m--> 382\u001b[0;31m             return self._write_dataframe_kafka(\n\u001b[0m\u001b[1;32m    383\u001b[0m                 \u001b[0mfeature_group\u001b[0m\u001b[0;34m,\u001b[0m \u001b[0mdataframe\u001b[0m\u001b[0;34m,\u001b[0m \u001b[0moffline_write_options\u001b[0m\u001b[0;34m\u001b[0m\u001b[0;34m\u001b[0m\u001b[0m\n\u001b[1;32m    384\u001b[0m             )\n",
      "\u001b[0;32m/srv/hops/anaconda/envs/theenv/lib/python3.8/site-packages/hsfs/engine/python.py\u001b[0m in \u001b[0;36m_write_dataframe_kafka\u001b[0;34m(self, feature_group, dataframe, offline_write_options)\u001b[0m\n\u001b[1;32m    736\u001b[0m                 )\n\u001b[1;32m    737\u001b[0m             )\n\u001b[0;32m--> 738\u001b[0;31m             \u001b[0mself\u001b[0m\u001b[0;34m.\u001b[0m\u001b[0m_wait_for_job\u001b[0m\u001b[0;34m(\u001b[0m\u001b[0mjob\u001b[0m\u001b[0;34m,\u001b[0m \u001b[0moffline_write_options\u001b[0m\u001b[0;34m)\u001b[0m\u001b[0;34m\u001b[0m\u001b[0;34m\u001b[0m\u001b[0m\n\u001b[0m\u001b[1;32m    739\u001b[0m \u001b[0;34m\u001b[0m\u001b[0m\n\u001b[1;32m    740\u001b[0m         \u001b[0;32mreturn\u001b[0m \u001b[0mjob\u001b[0m\u001b[0;34m\u001b[0m\u001b[0;34m\u001b[0m\u001b[0m\n",
      "\u001b[0;32m/srv/hops/anaconda/envs/theenv/lib/python3.8/site-packages/hsfs/engine/python.py\u001b[0m in \u001b[0;36m_wait_for_job\u001b[0;34m(self, job, user_write_options)\u001b[0m\n\u001b[1;32m    632\u001b[0m                 \u001b[0;32mreturn\u001b[0m\u001b[0;34m\u001b[0m\u001b[0;34m\u001b[0m\u001b[0m\n\u001b[1;32m    633\u001b[0m             \u001b[0;32melif\u001b[0m \u001b[0mexecution\u001b[0m\u001b[0;34m.\u001b[0m\u001b[0mfinal_status\u001b[0m\u001b[0;34m.\u001b[0m\u001b[0mlower\u001b[0m\u001b[0;34m(\u001b[0m\u001b[0;34m)\u001b[0m \u001b[0;34m==\u001b[0m \u001b[0;34m\"failed\"\u001b[0m\u001b[0;34m:\u001b[0m\u001b[0;34m\u001b[0m\u001b[0;34m\u001b[0m\u001b[0m\n\u001b[0;32m--> 634\u001b[0;31m                 raise exceptions.FeatureStoreException(\n\u001b[0m\u001b[1;32m    635\u001b[0m                     \u001b[0;34m\"The Hopsworks Job failed, use the Hopsworks UI to access the job logs\"\u001b[0m\u001b[0;34m\u001b[0m\u001b[0;34m\u001b[0m\u001b[0m\n\u001b[1;32m    636\u001b[0m                 )\n",
      "\u001b[0;31mFeatureStoreException\u001b[0m: The Hopsworks Job failed, use the Hopsworks UI to access the job logs"
     ]
    }
   ],
   "source": [
    "test24_fares2_fg = fs.create_feature_group(name=\"test24_fares2_fg\",\n",
    "                                    version=1,\n",
    "                                    primary_key=[\"total_fare\"],\n",
    "                                    description=\"test24_fares2_fg\",\n",
    "#                                        event_time=[\"pickup_datetime\"],\n",
    "                                    online_enabled=True)   \n",
    "test24_fares2_fg.save(df_fares)"
   ]
  },
  {
   "cell_type": "code",
   "execution_count": null,
   "id": "41ae07aa",
   "metadata": {},
   "outputs": [],
   "source": []
  },
  {
   "cell_type": "code",
   "execution_count": null,
   "id": "8718144a",
   "metadata": {},
   "outputs": [],
   "source": []
  },
  {
   "cell_type": "code",
   "execution_count": null,
   "id": "d410cf69",
   "metadata": {},
   "outputs": [],
   "source": []
  },
  {
   "cell_type": "code",
   "execution_count": null,
   "id": "85b9aabb",
   "metadata": {},
   "outputs": [],
   "source": []
  },
  {
   "cell_type": "code",
   "execution_count": null,
   "id": "6c015cc2",
   "metadata": {},
   "outputs": [],
   "source": []
  },
  {
   "cell_type": "code",
   "execution_count": null,
   "id": "d5c7f25e",
   "metadata": {},
   "outputs": [],
   "source": []
  },
  {
   "cell_type": "code",
   "execution_count": 30,
   "id": "e8125af6",
   "metadata": {},
   "outputs": [
    {
     "ename": "ValueError",
     "evalue": "Training data version is required for transformation. Call `feature_view.init_serving(version)` to pass the training dataset version.Training data can be created by `feature_view.create_training_data` or `feature_view.get_training_data`.",
     "output_type": "error",
     "traceback": [
      "\u001b[0;31m---------------------------------------------------------------------------\u001b[0m",
      "\u001b[0;31mValueError\u001b[0m                                Traceback (most recent call last)",
      "\u001b[0;32m<ipython-input-30-9087fe6e9590>\u001b[0m in \u001b[0;36m<module>\u001b[0;34m\u001b[0m\n\u001b[0;32m----> 1\u001b[0;31m \u001b[0mfv23_fares\u001b[0m\u001b[0;34m.\u001b[0m\u001b[0mpreview_feature_vector\u001b[0m\u001b[0;34m(\u001b[0m\u001b[0;34m)\u001b[0m\u001b[0;34m\u001b[0m\u001b[0;34m\u001b[0m\u001b[0m\n\u001b[0m",
      "\u001b[0;32m/srv/hops/anaconda/envs/theenv/lib/python3.8/site-packages/hsfs/feature_view.py\u001b[0m in \u001b[0;36mpreview_feature_vector\u001b[0;34m(self, external)\u001b[0m\n\u001b[1;32m    178\u001b[0m         \"\"\"\n\u001b[1;32m    179\u001b[0m         \u001b[0;32mif\u001b[0m \u001b[0mself\u001b[0m\u001b[0;34m.\u001b[0m\u001b[0m_vector_server\u001b[0m \u001b[0;32mis\u001b[0m \u001b[0;32mNone\u001b[0m\u001b[0;34m:\u001b[0m\u001b[0;34m\u001b[0m\u001b[0;34m\u001b[0m\u001b[0m\n\u001b[0;32m--> 180\u001b[0;31m             \u001b[0mself\u001b[0m\u001b[0;34m.\u001b[0m\u001b[0minit_serving\u001b[0m\u001b[0;34m(\u001b[0m\u001b[0;34m)\u001b[0m\u001b[0;34m\u001b[0m\u001b[0;34m\u001b[0m\u001b[0m\n\u001b[0m\u001b[1;32m    181\u001b[0m         \u001b[0;32mreturn\u001b[0m \u001b[0mself\u001b[0m\u001b[0;34m.\u001b[0m\u001b[0m_vector_server\u001b[0m\u001b[0;34m.\u001b[0m\u001b[0mget_preview_vectors\u001b[0m\u001b[0;34m(\u001b[0m\u001b[0mself\u001b[0m\u001b[0;34m,\u001b[0m \u001b[0mexternal\u001b[0m\u001b[0;34m,\u001b[0m \u001b[0;36m1\u001b[0m\u001b[0;34m)\u001b[0m\u001b[0;34m\u001b[0m\u001b[0;34m\u001b[0m\u001b[0m\n\u001b[1;32m    182\u001b[0m \u001b[0;34m\u001b[0m\u001b[0m\n",
      "\u001b[0;32m/srv/hops/anaconda/envs/theenv/lib/python3.8/site-packages/hsfs/feature_view.py\u001b[0m in \u001b[0;36minit_serving\u001b[0;34m(self, training_dataset_version, batch, external)\u001b[0m\n\u001b[1;32m    104\u001b[0m             \u001b[0mself\u001b[0m\u001b[0;34m.\u001b[0m\u001b[0m_featurestore_id\u001b[0m\u001b[0;34m,\u001b[0m \u001b[0mtraining_dataset_version\u001b[0m\u001b[0;34m\u001b[0m\u001b[0;34m\u001b[0m\u001b[0m\n\u001b[1;32m    105\u001b[0m         )\n\u001b[0;32m--> 106\u001b[0;31m         \u001b[0mself\u001b[0m\u001b[0;34m.\u001b[0m\u001b[0m_vector_server\u001b[0m\u001b[0;34m.\u001b[0m\u001b[0minit_serving\u001b[0m\u001b[0;34m(\u001b[0m\u001b[0mself\u001b[0m\u001b[0;34m,\u001b[0m \u001b[0mbatch\u001b[0m\u001b[0;34m,\u001b[0m \u001b[0mexternal\u001b[0m\u001b[0;34m)\u001b[0m\u001b[0;34m\u001b[0m\u001b[0;34m\u001b[0m\u001b[0m\n\u001b[0m\u001b[1;32m    107\u001b[0m \u001b[0;34m\u001b[0m\u001b[0m\n\u001b[1;32m    108\u001b[0m     def get_batch_query(\n",
      "\u001b[0;32m/srv/hops/anaconda/envs/theenv/lib/python3.8/site-packages/hsfs/core/vector_server.py\u001b[0m in \u001b[0;36minit_serving\u001b[0;34m(self, vector_server, batch, external)\u001b[0m\n\u001b[1;32m     56\u001b[0m     \u001b[0;32mdef\u001b[0m \u001b[0minit_serving\u001b[0m\u001b[0;34m(\u001b[0m\u001b[0mself\u001b[0m\u001b[0;34m,\u001b[0m \u001b[0mvector_server\u001b[0m\u001b[0;34m,\u001b[0m \u001b[0mbatch\u001b[0m\u001b[0;34m,\u001b[0m \u001b[0mexternal\u001b[0m\u001b[0;34m)\u001b[0m\u001b[0;34m:\u001b[0m\u001b[0;34m\u001b[0m\u001b[0;34m\u001b[0m\u001b[0m\n\u001b[1;32m     57\u001b[0m         \u001b[0mself\u001b[0m\u001b[0;34m.\u001b[0m\u001b[0minit_prepared_statement\u001b[0m\u001b[0;34m(\u001b[0m\u001b[0mvector_server\u001b[0m\u001b[0;34m,\u001b[0m \u001b[0mbatch\u001b[0m\u001b[0;34m,\u001b[0m \u001b[0mexternal\u001b[0m\u001b[0;34m)\u001b[0m\u001b[0;34m\u001b[0m\u001b[0;34m\u001b[0m\u001b[0m\n\u001b[0;32m---> 58\u001b[0;31m         \u001b[0mself\u001b[0m\u001b[0;34m.\u001b[0m\u001b[0minit_transformation\u001b[0m\u001b[0;34m(\u001b[0m\u001b[0mvector_server\u001b[0m\u001b[0;34m)\u001b[0m\u001b[0;34m\u001b[0m\u001b[0;34m\u001b[0m\u001b[0m\n\u001b[0m\u001b[1;32m     59\u001b[0m \u001b[0;34m\u001b[0m\u001b[0m\n\u001b[1;32m     60\u001b[0m     \u001b[0;32mdef\u001b[0m \u001b[0minit_transformation\u001b[0m\u001b[0;34m(\u001b[0m\u001b[0mself\u001b[0m\u001b[0;34m,\u001b[0m \u001b[0mvector_server\u001b[0m\u001b[0;34m)\u001b[0m\u001b[0;34m:\u001b[0m\u001b[0;34m\u001b[0m\u001b[0;34m\u001b[0m\u001b[0m\n",
      "\u001b[0;32m/srv/hops/anaconda/envs/theenv/lib/python3.8/site-packages/hsfs/core/vector_server.py\u001b[0m in \u001b[0;36minit_transformation\u001b[0;34m(self, vector_server)\u001b[0m\n\u001b[1;32m     60\u001b[0m     \u001b[0;32mdef\u001b[0m \u001b[0minit_transformation\u001b[0m\u001b[0;34m(\u001b[0m\u001b[0mself\u001b[0m\u001b[0;34m,\u001b[0m \u001b[0mvector_server\u001b[0m\u001b[0;34m)\u001b[0m\u001b[0;34m:\u001b[0m\u001b[0;34m\u001b[0m\u001b[0;34m\u001b[0m\u001b[0m\n\u001b[1;32m     61\u001b[0m         \u001b[0;31m# attach transformation functions\u001b[0m\u001b[0;34m\u001b[0m\u001b[0;34m\u001b[0m\u001b[0;34m\u001b[0m\u001b[0m\n\u001b[0;32m---> 62\u001b[0;31m         vector_server.transformation_functions = self._get_transformation_fns(\n\u001b[0m\u001b[1;32m     63\u001b[0m             \u001b[0mvector_server\u001b[0m\u001b[0;34m\u001b[0m\u001b[0;34m\u001b[0m\u001b[0m\n\u001b[1;32m     64\u001b[0m         )\n",
      "\u001b[0;32m/srv/hops/anaconda/envs/theenv/lib/python3.8/site-packages/hsfs/core/vector_server.py\u001b[0m in \u001b[0;36m_get_transformation_fns\u001b[0;34m(self, vector_server)\u001b[0m\n\u001b[1;32m    364\u001b[0m             \u001b[0;31m# there should be only one statistics object with for_transformation=true\u001b[0m\u001b[0;34m\u001b[0m\u001b[0;34m\u001b[0m\u001b[0;34m\u001b[0m\u001b[0m\n\u001b[1;32m    365\u001b[0m             \u001b[0;32mif\u001b[0m \u001b[0mis_feat_view\u001b[0m \u001b[0;32mand\u001b[0m \u001b[0mself\u001b[0m\u001b[0;34m.\u001b[0m\u001b[0m_training_dataset_version\u001b[0m \u001b[0;32mis\u001b[0m \u001b[0;32mNone\u001b[0m\u001b[0;34m:\u001b[0m\u001b[0;34m\u001b[0m\u001b[0;34m\u001b[0m\u001b[0m\n\u001b[0;32m--> 366\u001b[0;31m                 raise ValueError(\n\u001b[0m\u001b[1;32m    367\u001b[0m                     \u001b[0;34m\"Training data version is required for transformation. Call `feature_view.init_serving(version)` to pass the training dataset version.\"\u001b[0m\u001b[0;34m\u001b[0m\u001b[0;34m\u001b[0m\u001b[0m\n\u001b[1;32m    368\u001b[0m                     \u001b[0;34m\"Training data can be created by `feature_view.create_training_data` or `feature_view.get_training_data`.\"\u001b[0m\u001b[0;34m\u001b[0m\u001b[0;34m\u001b[0m\u001b[0m\n",
      "\u001b[0;31mValueError\u001b[0m: Training data version is required for transformation. Call `feature_view.init_serving(version)` to pass the training dataset version.Training data can be created by `feature_view.create_training_data` or `feature_view.get_training_data`."
     ]
    }
   ],
   "source": [
    "fv23_fares.preview_feature_vector()"
   ]
  },
  {
   "cell_type": "code",
   "execution_count": 49,
   "id": "c3dfa7ab",
   "metadata": {},
   "outputs": [],
   "source": [
    "fv23_fares.init_serving(2)"
   ]
  },
  {
   "cell_type": "code",
   "execution_count": 55,
   "id": "2579f14f",
   "metadata": {},
   "outputs": [
    {
     "data": {
      "text/plain": [
       "[]"
      ]
     },
     "execution_count": 55,
     "metadata": {},
     "output_type": "execute_result"
    }
   ],
   "source": [
    "fv23_fares.preview_feature_vector(5)"
   ]
  },
  {
   "cell_type": "code",
   "execution_count": 59,
   "id": "23780572",
   "metadata": {},
   "outputs": [],
   "source": [
    "# help(fs)"
   ]
  },
  {
   "cell_type": "code",
   "execution_count": 50,
   "id": "330e5c1c",
   "metadata": {},
   "outputs": [
    {
     "ename": "AttributeError",
     "evalue": "'FeatureView' object has no attribute 'get_training_data'",
     "output_type": "error",
     "traceback": [
      "\u001b[0;31m---------------------------------------------------------------------------\u001b[0m",
      "\u001b[0;31mAttributeError\u001b[0m                            Traceback (most recent call last)",
      "\u001b[0;32m<ipython-input-50-0d05c98104be>\u001b[0m in \u001b[0;36m<module>\u001b[0;34m\u001b[0m\n\u001b[0;32m----> 1\u001b[0;31m \u001b[0mfv23_fares\u001b[0m\u001b[0;34m.\u001b[0m\u001b[0mget_training_data\u001b[0m\u001b[0;34m\u001b[0m\u001b[0;34m\u001b[0m\u001b[0m\n\u001b[0m",
      "\u001b[0;31mAttributeError\u001b[0m: 'FeatureView' object has no attribute 'get_training_data'"
     ]
    }
   ],
   "source": [
    "fv23_fares.get_training_data"
   ]
  },
  {
   "cell_type": "code",
   "execution_count": 32,
   "id": "e6705aca",
   "metadata": {},
   "outputs": [
    {
     "ename": "AttributeError",
     "evalue": "'FeatureView' object has no attribute 'create_training_data'",
     "output_type": "error",
     "traceback": [
      "\u001b[0;31m---------------------------------------------------------------------------\u001b[0m",
      "\u001b[0;31mAttributeError\u001b[0m                            Traceback (most recent call last)",
      "\u001b[0;32m<ipython-input-32-174b9ec57060>\u001b[0m in \u001b[0;36m<module>\u001b[0;34m\u001b[0m\n\u001b[0;32m----> 1\u001b[0;31m \u001b[0mfv23_fares\u001b[0m\u001b[0;34m.\u001b[0m\u001b[0mcreate_training_data\u001b[0m\u001b[0;34m\u001b[0m\u001b[0;34m\u001b[0m\u001b[0m\n\u001b[0m",
      "\u001b[0;31mAttributeError\u001b[0m: 'FeatureView' object has no attribute 'create_training_data'"
     ]
    }
   ],
   "source": [
    "fv23_fares.create_training_data"
   ]
  },
  {
   "cell_type": "code",
   "execution_count": 28,
   "id": "f0ba9784",
   "metadata": {},
   "outputs": [
    {
     "name": "stdout",
     "output_type": "stream",
     "text": [
      "Help on method preview_feature_vector in module hsfs.feature_view:\n",
      "\n",
      "preview_feature_vector(external: Union[bool, NoneType] = False) method of hsfs.feature_view.FeatureView instance\n",
      "    Returns a sample of assembled serving vector from online feature store.\n",
      "    \n",
      "    # Arguments\n",
      "        external: boolean, optional. If set to True, the connection to the\n",
      "            online feature store is established using the same host as\n",
      "            for the `host` parameter in the [`hsfs.connection()`](project.md#connection) method.\n",
      "            If set to False, the online feature store storage connector is used\n",
      "            which relies on the private IP.\n",
      "    # Returns\n",
      "        `list` List of feature values, ordered according to positions of this\n",
      "        features in training dataset query.\n",
      "\n"
     ]
    }
   ],
   "source": [
    "help(fv23_fares.preview_feature_vector)"
   ]
  },
  {
   "cell_type": "code",
   "execution_count": null,
   "id": "6ce70746",
   "metadata": {},
   "outputs": [],
   "source": []
  },
  {
   "cell_type": "code",
   "execution_count": null,
   "id": "2acec41e",
   "metadata": {},
   "outputs": [],
   "source": []
  },
  {
   "cell_type": "markdown",
   "id": "96a0193e",
   "metadata": {},
   "source": [
    "## 25) Create a feature view with a feature group which has a timestamp as event time and with transformation."
   ]
  },
  {
   "cell_type": "code",
   "execution_count": 116,
   "id": "56a8956d",
   "metadata": {},
   "outputs": [],
   "source": [
    "fg_query24 = test22_fares_fg.select(['total_fare', 'pickup_datetime'])\\\n",
    "                            .join(test22_rides_fg.select_except(['taxi_id',\n",
    "                                  'driver_id']), on=['ride_id'])"
   ]
  },
  {
   "cell_type": "code",
   "execution_count": 62,
   "id": "ce3422db",
   "metadata": {},
   "outputs": [
    {
     "name": "stdout",
     "output_type": "stream",
     "text": [
      "2022-05-29 23:31:56,862 INFO: USE `testing_featurestore`\n",
      "2022-05-29 23:31:57,722 INFO: WITH right_fg0 AS (SELECT *\n",
      "FROM (SELECT `fg1`.`total_fare` `total_fare`, `fg1`.`pickup_datetime` `pickup_datetime`, `fg1`.`ride_id` `join_pk_ride_id`, `fg1`.`pickup_datetime` `join_evt_pickup_datetime`, `fg0`.`ride_id` `ride_id`, `fg0`.`dropoff_datetime` `dropoff_datetime`, `fg0`.`pickup_longitude` `pickup_longitude`, `fg0`.`pickup_latitude` `pickup_latitude`, `fg0`.`dropoff_longitude` `dropoff_longitude`, `fg0`.`dropoff_latitude` `dropoff_latitude`, `fg0`.`passenger_count` `passenger_count`, RANK() OVER (PARTITION BY `fg1`.`ride_id`, `fg1`.`pickup_datetime` ORDER BY `fg0`.`pickup_datetime` DESC) pit_rank_hopsworks\n",
      "FROM `testing_featurestore`.`test22_fares_fg_1` `fg1`\n",
      "INNER JOIN `testing_featurestore`.`test22_rides_fg_1` `fg0` ON `fg1`.`ride_id` = `fg0`.`ride_id` AND `fg1`.`pickup_datetime` >= `fg0`.`pickup_datetime`) NA\n",
      "WHERE `pit_rank_hopsworks` = 1) (SELECT `right_fg0`.`total_fare` `total_fare`, `right_fg0`.`pickup_datetime` `pickup_datetime`, `right_fg0`.`ride_id` `ride_id`, `right_fg0`.`dropoff_datetime` `dropoff_datetime`, `right_fg0`.`pickup_longitude` `pickup_longitude`, `right_fg0`.`pickup_latitude` `pickup_latitude`, `right_fg0`.`dropoff_longitude` `dropoff_longitude`, `right_fg0`.`dropoff_latitude` `dropoff_latitude`, `right_fg0`.`passenger_count` `passenger_count`\n",
      "FROM right_fg0)\n"
     ]
    },
    {
     "data": {
      "text/html": [
       "<div>\n",
       "<style scoped>\n",
       "    .dataframe tbody tr th:only-of-type {\n",
       "        vertical-align: middle;\n",
       "    }\n",
       "\n",
       "    .dataframe tbody tr th {\n",
       "        vertical-align: top;\n",
       "    }\n",
       "\n",
       "    .dataframe thead th {\n",
       "        text-align: right;\n",
       "    }\n",
       "</style>\n",
       "<table border=\"1\" class=\"dataframe\">\n",
       "  <thead>\n",
       "    <tr style=\"text-align: right;\">\n",
       "      <th></th>\n",
       "      <th>total_fare</th>\n",
       "      <th>pickup_datetime</th>\n",
       "      <th>ride_id</th>\n",
       "      <th>dropoff_datetime</th>\n",
       "      <th>pickup_longitude</th>\n",
       "      <th>pickup_latitude</th>\n",
       "      <th>dropoff_longitude</th>\n",
       "      <th>dropoff_latitude</th>\n",
       "      <th>passenger_count</th>\n",
       "    </tr>\n",
       "  </thead>\n",
       "  <tbody>\n",
       "    <tr>\n",
       "      <th>0</th>\n",
       "      <td>118.0</td>\n",
       "      <td>1577880020000</td>\n",
       "      <td>1</td>\n",
       "      <td>0</td>\n",
       "      <td>-73.76764</td>\n",
       "      <td>40.886640</td>\n",
       "      <td>-73.843834</td>\n",
       "      <td>40.789670</td>\n",
       "      <td>3</td>\n",
       "    </tr>\n",
       "    <tr>\n",
       "      <th>1</th>\n",
       "      <td>48.0</td>\n",
       "      <td>1577880040000</td>\n",
       "      <td>2</td>\n",
       "      <td>0</td>\n",
       "      <td>-73.85604</td>\n",
       "      <td>40.774130</td>\n",
       "      <td>-73.802030</td>\n",
       "      <td>40.842870</td>\n",
       "      <td>3</td>\n",
       "    </tr>\n",
       "    <tr>\n",
       "      <th>2</th>\n",
       "      <td>41.0</td>\n",
       "      <td>1577880060000</td>\n",
       "      <td>3</td>\n",
       "      <td>0</td>\n",
       "      <td>-73.86453</td>\n",
       "      <td>40.763325</td>\n",
       "      <td>-73.847970</td>\n",
       "      <td>40.784400</td>\n",
       "      <td>3</td>\n",
       "    </tr>\n",
       "    <tr>\n",
       "      <th>3</th>\n",
       "      <td>44.0</td>\n",
       "      <td>1577880080000</td>\n",
       "      <td>4</td>\n",
       "      <td>0</td>\n",
       "      <td>-73.86093</td>\n",
       "      <td>40.767902</td>\n",
       "      <td>-73.781784</td>\n",
       "      <td>40.868633</td>\n",
       "      <td>3</td>\n",
       "    </tr>\n",
       "    <tr>\n",
       "      <th>4</th>\n",
       "      <td>46.0</td>\n",
       "      <td>1577880100000</td>\n",
       "      <td>5</td>\n",
       "      <td>0</td>\n",
       "      <td>-73.85884</td>\n",
       "      <td>40.770570</td>\n",
       "      <td>-73.754680</td>\n",
       "      <td>40.903137</td>\n",
       "      <td>3</td>\n",
       "    </tr>\n",
       "    <tr>\n",
       "      <th>...</th>\n",
       "      <td>...</td>\n",
       "      <td>...</td>\n",
       "      <td>...</td>\n",
       "      <td>...</td>\n",
       "      <td>...</td>\n",
       "      <td>...</td>\n",
       "      <td>...</td>\n",
       "      <td>...</td>\n",
       "      <td>...</td>\n",
       "    </tr>\n",
       "    <tr>\n",
       "      <th>41073</th>\n",
       "      <td>34.0</td>\n",
       "      <td>1578701480000</td>\n",
       "      <td>41074</td>\n",
       "      <td>0</td>\n",
       "      <td>-73.87370</td>\n",
       "      <td>40.751648</td>\n",
       "      <td>-73.923590</td>\n",
       "      <td>40.688152</td>\n",
       "      <td>3</td>\n",
       "    </tr>\n",
       "    <tr>\n",
       "      <th>41074</th>\n",
       "      <td>37.0</td>\n",
       "      <td>1578701500000</td>\n",
       "      <td>41075</td>\n",
       "      <td>0</td>\n",
       "      <td>-73.92870</td>\n",
       "      <td>40.681652</td>\n",
       "      <td>-73.926890</td>\n",
       "      <td>40.683964</td>\n",
       "      <td>2</td>\n",
       "    </tr>\n",
       "    <tr>\n",
       "      <th>41075</th>\n",
       "      <td>76.0</td>\n",
       "      <td>1578701520000</td>\n",
       "      <td>41076</td>\n",
       "      <td>0</td>\n",
       "      <td>-73.82090</td>\n",
       "      <td>40.818860</td>\n",
       "      <td>-73.862236</td>\n",
       "      <td>40.766250</td>\n",
       "      <td>3</td>\n",
       "    </tr>\n",
       "    <tr>\n",
       "      <th>41076</th>\n",
       "      <td>32.0</td>\n",
       "      <td>1578701540000</td>\n",
       "      <td>41077</td>\n",
       "      <td>0</td>\n",
       "      <td>-73.87703</td>\n",
       "      <td>40.747420</td>\n",
       "      <td>-73.935480</td>\n",
       "      <td>40.673030</td>\n",
       "      <td>2</td>\n",
       "    </tr>\n",
       "    <tr>\n",
       "      <th>41077</th>\n",
       "      <td>14.0</td>\n",
       "      <td>1578701560000</td>\n",
       "      <td>41078</td>\n",
       "      <td>0</td>\n",
       "      <td>-73.89991</td>\n",
       "      <td>40.718300</td>\n",
       "      <td>-73.928530</td>\n",
       "      <td>40.681877</td>\n",
       "      <td>2</td>\n",
       "    </tr>\n",
       "  </tbody>\n",
       "</table>\n",
       "<p>41078 rows × 9 columns</p>\n",
       "</div>"
      ],
      "text/plain": [
       "       total_fare  pickup_datetime  ride_id  dropoff_datetime  \\\n",
       "0           118.0    1577880020000        1                 0   \n",
       "1            48.0    1577880040000        2                 0   \n",
       "2            41.0    1577880060000        3                 0   \n",
       "3            44.0    1577880080000        4                 0   \n",
       "4            46.0    1577880100000        5                 0   \n",
       "...           ...              ...      ...               ...   \n",
       "41073        34.0    1578701480000    41074                 0   \n",
       "41074        37.0    1578701500000    41075                 0   \n",
       "41075        76.0    1578701520000    41076                 0   \n",
       "41076        32.0    1578701540000    41077                 0   \n",
       "41077        14.0    1578701560000    41078                 0   \n",
       "\n",
       "       pickup_longitude  pickup_latitude  dropoff_longitude  dropoff_latitude  \\\n",
       "0             -73.76764        40.886640         -73.843834         40.789670   \n",
       "1             -73.85604        40.774130         -73.802030         40.842870   \n",
       "2             -73.86453        40.763325         -73.847970         40.784400   \n",
       "3             -73.86093        40.767902         -73.781784         40.868633   \n",
       "4             -73.85884        40.770570         -73.754680         40.903137   \n",
       "...                 ...              ...                ...               ...   \n",
       "41073         -73.87370        40.751648         -73.923590         40.688152   \n",
       "41074         -73.92870        40.681652         -73.926890         40.683964   \n",
       "41075         -73.82090        40.818860         -73.862236         40.766250   \n",
       "41076         -73.87703        40.747420         -73.935480         40.673030   \n",
       "41077         -73.89991        40.718300         -73.928530         40.681877   \n",
       "\n",
       "       passenger_count  \n",
       "0                    3  \n",
       "1                    3  \n",
       "2                    3  \n",
       "3                    3  \n",
       "4                    3  \n",
       "...                ...  \n",
       "41073                3  \n",
       "41074                2  \n",
       "41075                3  \n",
       "41076                2  \n",
       "41077                2  \n",
       "\n",
       "[41078 rows x 9 columns]"
      ]
     },
     "execution_count": 62,
     "metadata": {},
     "output_type": "execute_result"
    }
   ],
   "source": [
    "fg_query24.read()"
   ]
  },
  {
   "cell_type": "code",
   "execution_count": 117,
   "id": "4ba4d353",
   "metadata": {},
   "outputs": [],
   "source": [
    "# Load transformation functions.\n",
    "min_max_scaler = fs.get_transformation_function(name=\"min_max_scaler\")\n",
    "\n",
    "# Map features to transformations.\n",
    "transformation_functions = {\n",
    "    \"pickup_longitude\": min_max_scaler,\n",
    "    \"pickup_latitude\": min_max_scaler\n",
    "}"
   ]
  },
  {
   "cell_type": "code",
   "execution_count": 118,
   "id": "e1541463",
   "metadata": {},
   "outputs": [],
   "source": [
    "fv24 = fs.create_feature_view(\n",
    "    name='test24',\n",
    "    query=fg_query24,\n",
    "    label=[\"total_fare\"],\n",
    "    transformation_functions=transformation_functions\n",
    ")"
   ]
  },
  {
   "cell_type": "code",
   "execution_count": 108,
   "id": "95b8c992",
   "metadata": {},
   "outputs": [
    {
     "name": "stdout",
     "output_type": "stream",
     "text": [
      "Training dataset job started successfully, you can follow the progress at https://hopsworks.glassfish.service.consul:8182/p/123/jobs/named/test24_2_1_create_fv_td_29052022235312/executions\n"
     ]
    },
    {
     "name": "stderr",
     "output_type": "stream",
     "text": [
      "VersionWarning: No version provided for creating training dataset, incremented version to `1`.\n"
     ]
    }
   ],
   "source": [
    "td_metadata = fv24.create_training_dataset(\n",
    "    description = 'test24',\n",
    "    data_format = 'csv',\n",
    "    splits = {'train': 80, 'validation': 20},\n",
    "    train_split = \"train\",\n",
    "    write_options = {'wait_for_job': False}\n",
    ")"
   ]
  },
  {
   "cell_type": "code",
   "execution_count": 68,
   "id": "998a2451",
   "metadata": {},
   "outputs": [
    {
     "name": "stdout",
     "output_type": "stream",
     "text": [
      "2022-05-29 23:38:35,404 INFO: USE `testing_featurestore`\n",
      "2022-05-29 23:38:36,290 INFO: WITH right_fg0 AS (SELECT *\n",
      "FROM (SELECT `fg1`.`total_fare` `total_fare`, `fg1`.`pickup_datetime` `pickup_datetime`, `fg1`.`ride_id` `join_pk_ride_id`, `fg1`.`pickup_datetime` `join_evt_pickup_datetime`, `fg0`.`ride_id` `ride_id`, `fg0`.`dropoff_datetime` `dropoff_datetime`, `fg0`.`pickup_longitude` `pickup_longitude`, `fg0`.`pickup_latitude` `pickup_latitude`, `fg0`.`dropoff_longitude` `dropoff_longitude`, `fg0`.`dropoff_latitude` `dropoff_latitude`, `fg0`.`passenger_count` `passenger_count`, RANK() OVER (PARTITION BY `fg1`.`ride_id`, `fg1`.`pickup_datetime` ORDER BY `fg0`.`pickup_datetime` DESC) pit_rank_hopsworks\n",
      "FROM `testing_featurestore`.`test22_fares_fg_1` `fg1`\n",
      "INNER JOIN `testing_featurestore`.`test22_rides_fg_1` `fg0` ON `fg1`.`ride_id` = `fg0`.`ride_id` AND `fg1`.`pickup_datetime` >= `fg0`.`pickup_datetime`) NA\n",
      "WHERE `pit_rank_hopsworks` = 1) (SELECT `right_fg0`.`total_fare` `total_fare`, `right_fg0`.`pickup_datetime` `pickup_datetime`, `right_fg0`.`ride_id` `ride_id`, `right_fg0`.`dropoff_datetime` `dropoff_datetime`, `right_fg0`.`pickup_longitude` `pickup_longitude`, `right_fg0`.`pickup_latitude` `pickup_latitude`, `right_fg0`.`dropoff_longitude` `dropoff_longitude`, `right_fg0`.`dropoff_latitude` `dropoff_latitude`, `right_fg0`.`passenger_count` `passenger_count`\n",
      "FROM right_fg0)\n"
     ]
    },
    {
     "name": "stderr",
     "output_type": "stream",
     "text": [
      "VersionWarning: No version provided for creating training dataset, incremented version to `3`.\n"
     ]
    },
    {
     "data": {
      "text/html": [
       "<div>\n",
       "<style scoped>\n",
       "    .dataframe tbody tr th:only-of-type {\n",
       "        vertical-align: middle;\n",
       "    }\n",
       "\n",
       "    .dataframe tbody tr th {\n",
       "        vertical-align: top;\n",
       "    }\n",
       "\n",
       "    .dataframe thead th {\n",
       "        text-align: right;\n",
       "    }\n",
       "</style>\n",
       "<table border=\"1\" class=\"dataframe\">\n",
       "  <thead>\n",
       "    <tr style=\"text-align: right;\">\n",
       "      <th></th>\n",
       "      <th>total_fare</th>\n",
       "      <th>pickup_datetime</th>\n",
       "      <th>ride_id</th>\n",
       "      <th>dropoff_datetime</th>\n",
       "      <th>pickup_longitude</th>\n",
       "      <th>pickup_latitude</th>\n",
       "      <th>dropoff_longitude</th>\n",
       "      <th>dropoff_latitude</th>\n",
       "      <th>passenger_count</th>\n",
       "    </tr>\n",
       "  </thead>\n",
       "  <tbody>\n",
       "    <tr>\n",
       "      <th>0</th>\n",
       "      <td>118.0</td>\n",
       "      <td>1577880020000</td>\n",
       "      <td>1</td>\n",
       "      <td>0</td>\n",
       "      <td>-167.092796</td>\n",
       "      <td>0.694774</td>\n",
       "      <td>-73.843834</td>\n",
       "      <td>40.789670</td>\n",
       "      <td>3</td>\n",
       "    </tr>\n",
       "    <tr>\n",
       "      <th>1</th>\n",
       "      <td>48.0</td>\n",
       "      <td>1577880040000</td>\n",
       "      <td>2</td>\n",
       "      <td>0</td>\n",
       "      <td>-167.222162</td>\n",
       "      <td>0.530125</td>\n",
       "      <td>-73.802030</td>\n",
       "      <td>40.842870</td>\n",
       "      <td>3</td>\n",
       "    </tr>\n",
       "    <tr>\n",
       "      <th>2</th>\n",
       "      <td>41.0</td>\n",
       "      <td>1577880060000</td>\n",
       "      <td>3</td>\n",
       "      <td>0</td>\n",
       "      <td>-167.234587</td>\n",
       "      <td>0.514312</td>\n",
       "      <td>-73.847970</td>\n",
       "      <td>40.784400</td>\n",
       "      <td>3</td>\n",
       "    </tr>\n",
       "    <tr>\n",
       "      <th>3</th>\n",
       "      <td>44.0</td>\n",
       "      <td>1577880080000</td>\n",
       "      <td>4</td>\n",
       "      <td>0</td>\n",
       "      <td>-167.229318</td>\n",
       "      <td>0.521010</td>\n",
       "      <td>-73.781784</td>\n",
       "      <td>40.868633</td>\n",
       "      <td>3</td>\n",
       "    </tr>\n",
       "    <tr>\n",
       "      <th>4</th>\n",
       "      <td>46.0</td>\n",
       "      <td>1577880100000</td>\n",
       "      <td>5</td>\n",
       "      <td>0</td>\n",
       "      <td>-167.226260</td>\n",
       "      <td>0.524915</td>\n",
       "      <td>-73.754680</td>\n",
       "      <td>40.903137</td>\n",
       "      <td>3</td>\n",
       "    </tr>\n",
       "  </tbody>\n",
       "</table>\n",
       "</div>"
      ],
      "text/plain": [
       "   total_fare  pickup_datetime  ride_id  dropoff_datetime  pickup_longitude  \\\n",
       "0       118.0    1577880020000        1                 0       -167.092796   \n",
       "1        48.0    1577880040000        2                 0       -167.222162   \n",
       "2        41.0    1577880060000        3                 0       -167.234587   \n",
       "3        44.0    1577880080000        4                 0       -167.229318   \n",
       "4        46.0    1577880100000        5                 0       -167.226260   \n",
       "\n",
       "   pickup_latitude  dropoff_longitude  dropoff_latitude  passenger_count  \n",
       "0         0.694774         -73.843834         40.789670                3  \n",
       "1         0.530125         -73.802030         40.842870                3  \n",
       "2         0.514312         -73.847970         40.784400                3  \n",
       "3         0.521010         -73.781784         40.868633                3  \n",
       "4         0.524915         -73.754680         40.903137                3  "
      ]
     },
     "execution_count": 68,
     "metadata": {},
     "output_type": "execute_result"
    }
   ],
   "source": [
    "td_version, retrieved_df24 = fv24.get_training_dataset()\n",
    "\n",
    "retrieved_df24.head()"
   ]
  },
  {
   "cell_type": "markdown",
   "id": "46eee54b",
   "metadata": {},
   "source": [
    "## 27) Delete a feature view."
   ]
  },
  {
   "cell_type": "code",
   "execution_count": 70,
   "id": "86919492",
   "metadata": {},
   "outputs": [],
   "source": [
    "fv23.delete()"
   ]
  },
  {
   "cell_type": "markdown",
   "id": "d2c24972",
   "metadata": {},
   "source": [
    "## 28) Get_feature_vector - single id"
   ]
  },
  {
   "cell_type": "code",
   "execution_count": 120,
   "id": "c1449505",
   "metadata": {},
   "outputs": [],
   "source": [
    "fg_query27= test22_fares_fg.select_all()"
   ]
  },
  {
   "cell_type": "code",
   "execution_count": null,
   "id": "35270b5c",
   "metadata": {},
   "outputs": [],
   "source": [
    "fv24= fs.create_feature_view(\n",
    "    name='test24',\n",
    "    query=fg_query24,\n",
    "    label=[\"total_fare\"],\n",
    "    transformation_functions=transformation_functions\n",
    ")"
   ]
  },
  {
   "cell_type": "code",
   "execution_count": 42,
   "id": "74d0e378",
   "metadata": {},
   "outputs": [
    {
     "name": "stdout",
     "output_type": "stream",
     "text": [
      "Help on method get_feature_vectors in module hsfs.feature_view:\n",
      "\n",
      "get_feature_vectors(entry: Dict[str, List[Any]], external: Union[bool, NoneType] = False) method of hsfs.feature_view.FeatureView instance\n",
      "    Returns assembled serving vectors in batches from online feature store.\n",
      "    \n",
      "    # Arguments\n",
      "        entry: dict of feature group primary key names as keys and value as list of primary keys provided by\n",
      "            serving application.\n",
      "        external: boolean, optional. If set to True, the connection to the\n",
      "            online feature store is established using the same host as\n",
      "            for the `host` parameter in the [`hsfs.connection()`](project.md#connection) method.\n",
      "            If set to False, the online feature store storage connector is used\n",
      "            which relies on the private IP.\n",
      "    # Returns\n",
      "        `List[list]` List of lists of feature values related to provided primary keys, ordered according to\n",
      "        positions of this features in training dataset query.\n",
      "\n"
     ]
    }
   ],
   "source": [
    "help(fv23_fares.get_feature_vectors)"
   ]
  },
  {
   "cell_type": "code",
   "execution_count": 45,
   "id": "bfae3353",
   "metadata": {},
   "outputs": [
    {
     "ename": "TypeError",
     "evalue": "'NoneType' object is not subscriptable",
     "output_type": "error",
     "traceback": [
      "\u001b[0;31m---------------------------------------------------------------------------\u001b[0m",
      "\u001b[0;31mTypeError\u001b[0m                                 Traceback (most recent call last)",
      "\u001b[0;32m<ipython-input-45-3d60047115e3>\u001b[0m in \u001b[0;36m<module>\u001b[0;34m\u001b[0m\n\u001b[0;32m----> 1\u001b[0;31m \u001b[0mfv23_fares\u001b[0m\u001b[0;34m.\u001b[0m\u001b[0mget_feature_vectors\u001b[0m\u001b[0;34m(\u001b[0m\u001b[0;34m{\u001b[0m\u001b[0;34m\"ride_id\"\u001b[0m\u001b[0;34m:\u001b[0m \u001b[0;34m[\u001b[0m\u001b[0;36m1\u001b[0m\u001b[0;34m,\u001b[0m \u001b[0;36m2\u001b[0m \u001b[0;34m,\u001b[0m\u001b[0;36m3\u001b[0m\u001b[0;34m]\u001b[0m\u001b[0;34m}\u001b[0m\u001b[0;34m)\u001b[0m\u001b[0;34m\u001b[0m\u001b[0;34m\u001b[0m\u001b[0m\n\u001b[0m",
      "\u001b[0;32m/srv/hops/anaconda/envs/theenv/lib/python3.8/site-packages/hsfs/feature_view.py\u001b[0m in \u001b[0;36mget_feature_vectors\u001b[0;34m(self, entry, external)\u001b[0m\n\u001b[1;32m    162\u001b[0m         \u001b[0;32mif\u001b[0m \u001b[0mself\u001b[0m\u001b[0;34m.\u001b[0m\u001b[0m_vector_server\u001b[0m \u001b[0;32mis\u001b[0m \u001b[0;32mNone\u001b[0m\u001b[0;34m:\u001b[0m\u001b[0;34m\u001b[0m\u001b[0;34m\u001b[0m\u001b[0m\n\u001b[1;32m    163\u001b[0m             \u001b[0mself\u001b[0m\u001b[0;34m.\u001b[0m\u001b[0minit_serving\u001b[0m\u001b[0;34m(\u001b[0m\u001b[0mbatch\u001b[0m\u001b[0;34m=\u001b[0m\u001b[0;32mTrue\u001b[0m\u001b[0;34m,\u001b[0m \u001b[0mexternal\u001b[0m\u001b[0;34m=\u001b[0m\u001b[0mexternal\u001b[0m\u001b[0;34m)\u001b[0m\u001b[0;34m\u001b[0m\u001b[0;34m\u001b[0m\u001b[0m\n\u001b[0;32m--> 164\u001b[0;31m         \u001b[0;32mreturn\u001b[0m \u001b[0mself\u001b[0m\u001b[0;34m.\u001b[0m\u001b[0m_vector_server\u001b[0m\u001b[0;34m.\u001b[0m\u001b[0mget_feature_vectors\u001b[0m\u001b[0;34m(\u001b[0m\u001b[0mself\u001b[0m\u001b[0;34m,\u001b[0m \u001b[0mentry\u001b[0m\u001b[0;34m,\u001b[0m \u001b[0mexternal\u001b[0m\u001b[0;34m)\u001b[0m\u001b[0;34m\u001b[0m\u001b[0;34m\u001b[0m\u001b[0m\n\u001b[0m\u001b[1;32m    165\u001b[0m \u001b[0;34m\u001b[0m\u001b[0m\n\u001b[1;32m    166\u001b[0m     \u001b[0;32mdef\u001b[0m \u001b[0mpreview_feature_vector\u001b[0m\u001b[0;34m(\u001b[0m\u001b[0mself\u001b[0m\u001b[0;34m,\u001b[0m \u001b[0mexternal\u001b[0m\u001b[0;34m:\u001b[0m \u001b[0mOptional\u001b[0m\u001b[0;34m[\u001b[0m\u001b[0mbool\u001b[0m\u001b[0;34m]\u001b[0m \u001b[0;34m=\u001b[0m \u001b[0;32mFalse\u001b[0m\u001b[0;34m)\u001b[0m\u001b[0;34m:\u001b[0m\u001b[0;34m\u001b[0m\u001b[0;34m\u001b[0m\u001b[0m\n",
      "\u001b[0;32m/srv/hops/anaconda/envs/theenv/lib/python3.8/site-packages/hsfs/core/vector_server.py\u001b[0m in \u001b[0;36mget_feature_vectors\u001b[0;34m(self, vector_server, entry, external, preview_sample)\u001b[0m\n\u001b[1;32m    247\u001b[0m                             *[\n\u001b[1;32m    248\u001b[0m                                 \u001b[0mentry\u001b[0m\u001b[0;34m.\u001b[0m\u001b[0mget\u001b[0m\u001b[0;34m(\u001b[0m\u001b[0mkey\u001b[0m\u001b[0;34m)\u001b[0m\u001b[0;34m\u001b[0m\u001b[0;34m\u001b[0m\u001b[0m\n\u001b[0;32m--> 249\u001b[0;31m                                 for key in self._pkname_by_serving_index[\n\u001b[0m\u001b[1;32m    250\u001b[0m                                     \u001b[0mprepared_statement_index\u001b[0m\u001b[0;34m\u001b[0m\u001b[0;34m\u001b[0m\u001b[0m\n\u001b[1;32m    251\u001b[0m                                 ]\n",
      "\u001b[0;31mTypeError\u001b[0m: 'NoneType' object is not subscriptable"
     ]
    }
   ],
   "source": [
    "fv23_fares.get_feature_vectors({\"ride_id\": [1, 2 ,3]})"
   ]
  }
 ],
 "metadata": {
  "kernelspec": {
   "display_name": "Python",
   "language": "python",
   "name": "python3"
  },
  "language_info": {
   "codemirror_mode": {
    "name": "ipython",
    "version": 3
   },
   "file_extension": ".py",
   "mimetype": "text/x-python",
   "name": "python",
   "nbconvert_exporter": "python",
   "pygments_lexer": "ipython3",
   "version": "3.8.11"
  }
 },
 "nbformat": 4,
 "nbformat_minor": 5
}