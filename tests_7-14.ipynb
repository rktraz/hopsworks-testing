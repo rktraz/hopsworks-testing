{
 "cells": [
  {
   "cell_type": "code",
   "execution_count": 1,
   "id": "0e7ee892",
   "metadata": {},
   "outputs": [
    {
     "name": "stdout",
     "output_type": "stream",
     "text": [
      "2022-05-29 10:44:00,984 INFO: generated new fontManager\n"
     ]
    }
   ],
   "source": [
    "import numpy as np\n",
    "import pandas as pd\n",
    "import matplotlib.pyplot as plt\n",
    "import seaborn as sns"
   ]
  },
  {
   "cell_type": "code",
   "execution_count": 2,
   "id": "a626516a",
   "metadata": {},
   "outputs": [],
   "source": [
    "import hashlib\n",
    "from datetime import datetime"
   ]
  },
  {
   "cell_type": "code",
   "execution_count": 3,
   "id": "f86c5351",
   "metadata": {},
   "outputs": [],
   "source": [
    "from hops import hdfs"
   ]
  },
  {
   "cell_type": "markdown",
   "id": "409bcae7",
   "metadata": {},
   "source": [
    "### We will use rides.csv dataset for testing purposes\n",
    "It doesn't have any missing data. Shape = (41078, 11)."
   ]
  },
  {
   "cell_type": "code",
   "execution_count": 4,
   "id": "c299f605",
   "metadata": {},
   "outputs": [
    {
     "name": "stdout",
     "output_type": "stream",
     "text": [
      "Connected. Call `.close()` to terminate connection gracefully.\n"
     ]
    }
   ],
   "source": [
    "import hsfs\n",
    "\n",
    "# Create a connection\n",
    "connection = hsfs.connection()\n",
    "\n",
    "# Get the feature store handle for the project's feature store\n",
    "fs = connection.get_feature_store()"
   ]
  },
  {
   "cell_type": "code",
   "execution_count": 2,
   "id": "a45a0d5e",
   "metadata": {},
   "outputs": [
    {
     "ename": "NameError",
     "evalue": "name 'pd' is not defined",
     "output_type": "error",
     "traceback": [
      "\u001b[0;31m---------------------------------------------------------------------------\u001b[0m",
      "\u001b[0;31mNameError\u001b[0m                                 Traceback (most recent call last)",
      "\u001b[0;32m<ipython-input-2-54ae06ac3786>\u001b[0m in \u001b[0;36m<module>\u001b[0;34m\u001b[0m\n\u001b[0;32m----> 1\u001b[0;31m \u001b[0mdf\u001b[0m \u001b[0;34m=\u001b[0m \u001b[0mpd\u001b[0m\u001b[0;34m.\u001b[0m\u001b[0mread_csv\u001b[0m\u001b[0;34m(\u001b[0m\u001b[0mhdfs\u001b[0m\u001b[0;34m.\u001b[0m\u001b[0mproject_path\u001b[0m\u001b[0;34m(\u001b[0m\u001b[0;34m)\u001b[0m \u001b[0;34m+\u001b[0m \u001b[0;34m\"Resources/rides.csv\"\u001b[0m\u001b[0;34m,\u001b[0m \u001b[0mindex_col\u001b[0m\u001b[0;34m=\u001b[0m\u001b[0;36m0\u001b[0m\u001b[0;34m)\u001b[0m\u001b[0;34m\u001b[0m\u001b[0;34m\u001b[0m\u001b[0m\n\u001b[0m",
      "\u001b[0;31mNameError\u001b[0m: name 'pd' is not defined"
     ]
    }
   ],
   "source": [
    "df = pd.read_csv(hdfs.project_path() + \"Resources/rides.csv\", index_col=0)"
   ]
  },
  {
   "cell_type": "code",
   "execution_count": 6,
   "id": "16b5864e",
   "metadata": {},
   "outputs": [
    {
     "data": {
      "text/html": [
       "<div>\n",
       "<style scoped>\n",
       "    .dataframe tbody tr th:only-of-type {\n",
       "        vertical-align: middle;\n",
       "    }\n",
       "\n",
       "    .dataframe tbody tr th {\n",
       "        vertical-align: top;\n",
       "    }\n",
       "\n",
       "    .dataframe thead th {\n",
       "        text-align: right;\n",
       "    }\n",
       "</style>\n",
       "<table border=\"1\" class=\"dataframe\">\n",
       "  <thead>\n",
       "    <tr style=\"text-align: right;\">\n",
       "      <th></th>\n",
       "      <th>ride_id</th>\n",
       "      <th>is_start</th>\n",
       "      <th>pickup_datetime</th>\n",
       "      <th>dropoff_datetime</th>\n",
       "      <th>pickup_longitude</th>\n",
       "      <th>pickup_latitude</th>\n",
       "      <th>dropoff_longitude</th>\n",
       "      <th>dropoff_latitude</th>\n",
       "      <th>passenger_count</th>\n",
       "      <th>taxi_id</th>\n",
       "      <th>driver_id</th>\n",
       "    </tr>\n",
       "  </thead>\n",
       "  <tbody>\n",
       "    <tr>\n",
       "      <th>0</th>\n",
       "      <td>1228</td>\n",
       "      <td>True</td>\n",
       "      <td>1577904560000</td>\n",
       "      <td>0</td>\n",
       "      <td>-73.867676</td>\n",
       "      <td>40.759323</td>\n",
       "      <td>-73.864080</td>\n",
       "      <td>40.763897</td>\n",
       "      <td>3</td>\n",
       "      <td>2013000194</td>\n",
       "      <td>2013000194</td>\n",
       "    </tr>\n",
       "    <tr>\n",
       "      <th>1</th>\n",
       "      <td>527</td>\n",
       "      <td>True</td>\n",
       "      <td>1577890540000</td>\n",
       "      <td>0</td>\n",
       "      <td>-73.857086</td>\n",
       "      <td>40.772793</td>\n",
       "      <td>-73.807335</td>\n",
       "      <td>40.836117</td>\n",
       "      <td>3</td>\n",
       "      <td>2013000122</td>\n",
       "      <td>2013000122</td>\n",
       "    </tr>\n",
       "    <tr>\n",
       "      <th>2</th>\n",
       "      <td>394</td>\n",
       "      <td>True</td>\n",
       "      <td>1577887880000</td>\n",
       "      <td>0</td>\n",
       "      <td>-73.844320</td>\n",
       "      <td>40.789043</td>\n",
       "      <td>-73.765950</td>\n",
       "      <td>40.888790</td>\n",
       "      <td>3</td>\n",
       "      <td>2013000102</td>\n",
       "      <td>2013000102</td>\n",
       "    </tr>\n",
       "  </tbody>\n",
       "</table>\n",
       "</div>"
      ],
      "text/plain": [
       "   ride_id  is_start pickup_datetime  dropoff_datetime  pickup_longitude  \\\n",
       "0     1228      True   1577904560000                 0        -73.867676   \n",
       "1      527      True   1577890540000                 0        -73.857086   \n",
       "2      394      True   1577887880000                 0        -73.844320   \n",
       "\n",
       "   pickup_latitude  dropoff_longitude  dropoff_latitude  passenger_count  \\\n",
       "0        40.759323         -73.864080         40.763897                3   \n",
       "1        40.772793         -73.807335         40.836117                3   \n",
       "2        40.789043         -73.765950         40.888790                3   \n",
       "\n",
       "      taxi_id   driver_id  \n",
       "0  2013000194  2013000194  \n",
       "1  2013000122  2013000122  \n",
       "2  2013000102  2013000102  "
      ]
     },
     "execution_count": 6,
     "metadata": {},
     "output_type": "execute_result"
    }
   ],
   "source": [
    "df.head(3)"
   ]
  },
  {
   "cell_type": "code",
   "execution_count": 7,
   "id": "7734538f",
   "metadata": {},
   "outputs": [
    {
     "name": "stdout",
     "output_type": "stream",
     "text": [
      "<class 'pandas.core.frame.DataFrame'>\n",
      "Int64Index: 41078 entries, 0 to 41077\n",
      "Data columns (total 11 columns):\n",
      " #   Column             Non-Null Count  Dtype  \n",
      "---  ------             --------------  -----  \n",
      " 0   ride_id            41078 non-null  int64  \n",
      " 1   is_start           41078 non-null  bool   \n",
      " 2   pickup_datetime    41078 non-null  object \n",
      " 3   dropoff_datetime   41078 non-null  int64  \n",
      " 4   pickup_longitude   41078 non-null  float64\n",
      " 5   pickup_latitude    41078 non-null  float64\n",
      " 6   dropoff_longitude  41078 non-null  float64\n",
      " 7   dropoff_latitude   41078 non-null  float64\n",
      " 8   passenger_count    41078 non-null  int64  \n",
      " 9   taxi_id            41078 non-null  int64  \n",
      " 10  driver_id          41078 non-null  int64  \n",
      "dtypes: bool(1), float64(4), int64(5), object(1)\n",
      "memory usage: 3.5+ MB\n"
     ]
    }
   ],
   "source": [
    "df.info()"
   ]
  },
  {
   "cell_type": "code",
   "execution_count": 47,
   "id": "ca25de48",
   "metadata": {},
   "outputs": [],
   "source": [
    "df = df.drop(columns=[\"is_start\"])"
   ]
  },
  {
   "cell_type": "markdown",
   "id": "57681d96",
   "metadata": {},
   "source": [
    "## 7) Create fg with partition_key that is not equally distributed."
   ]
  },
  {
   "cell_type": "code",
   "execution_count": 11,
   "id": "d2fb94d5",
   "metadata": {},
   "outputs": [
    {
     "data": {
      "text/html": [
       "<div>\n",
       "<style scoped>\n",
       "    .dataframe tbody tr th:only-of-type {\n",
       "        vertical-align: middle;\n",
       "    }\n",
       "\n",
       "    .dataframe tbody tr th {\n",
       "        vertical-align: top;\n",
       "    }\n",
       "\n",
       "    .dataframe thead th {\n",
       "        text-align: right;\n",
       "    }\n",
       "</style>\n",
       "<table border=\"1\" class=\"dataframe\">\n",
       "  <thead>\n",
       "    <tr style=\"text-align: right;\">\n",
       "      <th></th>\n",
       "      <th>ride_id</th>\n",
       "      <th>pickup_datetime</th>\n",
       "      <th>dropoff_datetime</th>\n",
       "      <th>pickup_longitude</th>\n",
       "      <th>pickup_latitude</th>\n",
       "      <th>dropoff_longitude</th>\n",
       "      <th>dropoff_latitude</th>\n",
       "      <th>passenger_count</th>\n",
       "      <th>taxi_id</th>\n",
       "      <th>driver_id</th>\n",
       "    </tr>\n",
       "  </thead>\n",
       "  <tbody>\n",
       "    <tr>\n",
       "      <th>0</th>\n",
       "      <td>1228</td>\n",
       "      <td>1577904560000</td>\n",
       "      <td>0</td>\n",
       "      <td>-73.867676</td>\n",
       "      <td>40.759323</td>\n",
       "      <td>-73.864080</td>\n",
       "      <td>40.763897</td>\n",
       "      <td>3</td>\n",
       "      <td>2013000194</td>\n",
       "      <td>2013000194</td>\n",
       "    </tr>\n",
       "    <tr>\n",
       "      <th>1</th>\n",
       "      <td>527</td>\n",
       "      <td>1577890540000</td>\n",
       "      <td>0</td>\n",
       "      <td>-73.857086</td>\n",
       "      <td>40.772793</td>\n",
       "      <td>-73.807335</td>\n",
       "      <td>40.836117</td>\n",
       "      <td>3</td>\n",
       "      <td>2013000122</td>\n",
       "      <td>2013000122</td>\n",
       "    </tr>\n",
       "    <tr>\n",
       "      <th>2</th>\n",
       "      <td>394</td>\n",
       "      <td>1577887880000</td>\n",
       "      <td>0</td>\n",
       "      <td>-73.844320</td>\n",
       "      <td>40.789043</td>\n",
       "      <td>-73.765950</td>\n",
       "      <td>40.888790</td>\n",
       "      <td>3</td>\n",
       "      <td>2013000102</td>\n",
       "      <td>2013000102</td>\n",
       "    </tr>\n",
       "  </tbody>\n",
       "</table>\n",
       "</div>"
      ],
      "text/plain": [
       "   ride_id pickup_datetime  dropoff_datetime  pickup_longitude  \\\n",
       "0     1228   1577904560000                 0        -73.867676   \n",
       "1      527   1577890540000                 0        -73.857086   \n",
       "2      394   1577887880000                 0        -73.844320   \n",
       "\n",
       "   pickup_latitude  dropoff_longitude  dropoff_latitude  passenger_count  \\\n",
       "0        40.759323         -73.864080         40.763897                3   \n",
       "1        40.772793         -73.807335         40.836117                3   \n",
       "2        40.789043         -73.765950         40.888790                3   \n",
       "\n",
       "      taxi_id   driver_id  \n",
       "0  2013000194  2013000194  \n",
       "1  2013000122  2013000122  \n",
       "2  2013000102  2013000102  "
      ]
     },
     "execution_count": 11,
     "metadata": {},
     "output_type": "execute_result"
    }
   ],
   "source": [
    "df.head(3)"
   ]
  },
  {
   "cell_type": "code",
   "execution_count": 12,
   "id": "94e412bc",
   "metadata": {},
   "outputs": [],
   "source": [
    "df[\"unbalanced_partition_key\"] = df.ride_id"
   ]
  },
  {
   "cell_type": "code",
   "execution_count": 13,
   "id": "a2610336",
   "metadata": {},
   "outputs": [
    {
     "data": {
      "text/plain": [
       "(41078, 11)"
      ]
     },
     "execution_count": 13,
     "metadata": {},
     "output_type": "execute_result"
    }
   ],
   "source": [
    "df.shape"
   ]
  },
  {
   "cell_type": "code",
   "execution_count": 17,
   "id": "bc6cae28",
   "metadata": {},
   "outputs": [],
   "source": [
    "df.loc[:10000, \"unbalanced_partition_key\"] = 1\n",
    "df.loc[10000:12000, \"unbalanced_partition_key\"] = 2\n",
    "df.loc[12000:22000, \"unbalanced_partition_key\"] = 3\n",
    "df.loc[22000:24000, \"unbalanced_partition_key\"] = 4\n",
    "df.loc[24000:25000, \"unbalanced_partition_key\"] = 5\n",
    "df.loc[25000:41078, \"unbalanced_partition_key\"] = 6\n"
   ]
  },
  {
   "cell_type": "code",
   "execution_count": 23,
   "id": "3c42a6f7",
   "metadata": {},
   "outputs": [
    {
     "data": {
      "image/png": "[encoded data removed]",
      "text/plain": [
       "<Figure size 640x480 with 1 Axes>"
      ]
     },
     "metadata": {},
     "output_type": "display_data"
    }
   ],
   "source": [
    "df.unbalanced_partition_key.hist()\n",
    "plt.show()"
   ]
  },
  {
   "cell_type": "code",
   "execution_count": 20,
   "id": "545b9a72",
   "metadata": {},
   "outputs": [
    {
     "name": "stdout",
     "output_type": "stream",
     "text": [
      "Launching offline feature group backfill job...\n",
      "Backfill Job started successfully, you can follow the progress at https://hopsworks.glassfish.service.consul:8182/p/123/jobs/named/test7_fg_1_offline_fg_backfill/executions\n"
     ]
    },
    {
     "data": {
      "text/plain": [
       "<hsfs.core.job.Job at 0x7fe02aa2a5b0>"
      ]
     },
     "execution_count": 20,
     "metadata": {},
     "output_type": "execute_result"
    }
   ],
   "source": [
    "test7_fg = fs.create_feature_group(name=\"test7_fg\",\n",
    "                                   version=1,\n",
    "                                   primary_key=[\"ride_id\"],\n",
    "                                   partition_key=[\"unbalanced_partition_key\"],\n",
    "                                   description=\"test7_fg\")   \n",
    "test7_fg.save(df)"
   ]
  },
  {
   "cell_type": "markdown",
   "id": "60313254",
   "metadata": {},
   "source": [
    "## 8) Create a feature group with multiple primary keys, some of them are duplicated."
   ]
  },
  {
   "cell_type": "code",
   "execution_count": 24,
   "id": "cc012853",
   "metadata": {},
   "outputs": [
    {
     "data": {
      "text/html": [
       "<div>\n",
       "<style scoped>\n",
       "    .dataframe tbody tr th:only-of-type {\n",
       "        vertical-align: middle;\n",
       "    }\n",
       "\n",
       "    .dataframe tbody tr th {\n",
       "        vertical-align: top;\n",
       "    }\n",
       "\n",
       "    .dataframe thead th {\n",
       "        text-align: right;\n",
       "    }\n",
       "</style>\n",
       "<table border=\"1\" class=\"dataframe\">\n",
       "  <thead>\n",
       "    <tr style=\"text-align: right;\">\n",
       "      <th></th>\n",
       "      <th>ride_id</th>\n",
       "      <th>pickup_datetime</th>\n",
       "      <th>dropoff_datetime</th>\n",
       "      <th>pickup_longitude</th>\n",
       "      <th>pickup_latitude</th>\n",
       "      <th>dropoff_longitude</th>\n",
       "      <th>dropoff_latitude</th>\n",
       "      <th>passenger_count</th>\n",
       "      <th>taxi_id</th>\n",
       "      <th>driver_id</th>\n",
       "      <th>unbalanced_partition_key</th>\n",
       "    </tr>\n",
       "  </thead>\n",
       "  <tbody>\n",
       "    <tr>\n",
       "      <th>0</th>\n",
       "      <td>1228</td>\n",
       "      <td>1577904560000</td>\n",
       "      <td>0</td>\n",
       "      <td>-73.867676</td>\n",
       "      <td>40.759323</td>\n",
       "      <td>-73.864080</td>\n",
       "      <td>40.763897</td>\n",
       "      <td>3</td>\n",
       "      <td>2013000194</td>\n",
       "      <td>2013000194</td>\n",
       "      <td>1</td>\n",
       "    </tr>\n",
       "    <tr>\n",
       "      <th>1</th>\n",
       "      <td>527</td>\n",
       "      <td>1577890540000</td>\n",
       "      <td>0</td>\n",
       "      <td>-73.857086</td>\n",
       "      <td>40.772793</td>\n",
       "      <td>-73.807335</td>\n",
       "      <td>40.836117</td>\n",
       "      <td>3</td>\n",
       "      <td>2013000122</td>\n",
       "      <td>2013000122</td>\n",
       "      <td>1</td>\n",
       "    </tr>\n",
       "    <tr>\n",
       "      <th>2</th>\n",
       "      <td>394</td>\n",
       "      <td>1577887880000</td>\n",
       "      <td>0</td>\n",
       "      <td>-73.844320</td>\n",
       "      <td>40.789043</td>\n",
       "      <td>-73.765950</td>\n",
       "      <td>40.888790</td>\n",
       "      <td>3</td>\n",
       "      <td>2013000102</td>\n",
       "      <td>2013000102</td>\n",
       "      <td>1</td>\n",
       "    </tr>\n",
       "  </tbody>\n",
       "</table>\n",
       "</div>"
      ],
      "text/plain": [
       "   ride_id pickup_datetime  dropoff_datetime  pickup_longitude  \\\n",
       "0     1228   1577904560000                 0        -73.867676   \n",
       "1      527   1577890540000                 0        -73.857086   \n",
       "2      394   1577887880000                 0        -73.844320   \n",
       "\n",
       "   pickup_latitude  dropoff_longitude  dropoff_latitude  passenger_count  \\\n",
       "0        40.759323         -73.864080         40.763897                3   \n",
       "1        40.772793         -73.807335         40.836117                3   \n",
       "2        40.789043         -73.765950         40.888790                3   \n",
       "\n",
       "      taxi_id   driver_id  unbalanced_partition_key  \n",
       "0  2013000194  2013000194                         1  \n",
       "1  2013000122  2013000122                         1  \n",
       "2  2013000102  2013000102                         1  "
      ]
     },
     "execution_count": 24,
     "metadata": {},
     "output_type": "execute_result"
    }
   ],
   "source": [
    "df.head(3)"
   ]
  },
  {
   "cell_type": "code",
   "execution_count": null,
   "id": "41892b47",
   "metadata": {},
   "outputs": [],
   "source": []
  },
  {
   "cell_type": "code",
   "execution_count": 27,
   "id": "e6817469",
   "metadata": {},
   "outputs": [],
   "source": [
    "df[\"second_pk\"] = df.ride_id + 100000"
   ]
  },
  {
   "cell_type": "code",
   "execution_count": 29,
   "id": "b80fe89d",
   "metadata": {},
   "outputs": [],
   "source": [
    "df[\"third_duplicated_pk\"] = df.taxi_id + 1000000"
   ]
  },
  {
   "cell_type": "code",
   "execution_count": 32,
   "id": "5def0b3a",
   "metadata": {},
   "outputs": [
    {
     "data": {
      "text/plain": [
       "200"
      ]
     },
     "execution_count": 32,
     "metadata": {},
     "output_type": "execute_result"
    }
   ],
   "source": [
    "df[\"third_duplicated_pk\"].nunique()"
   ]
  },
  {
   "cell_type": "code",
   "execution_count": 33,
   "id": "8f428d3d",
   "metadata": {},
   "outputs": [
    {
     "data": {
      "text/plain": [
       "(41078, 13)"
      ]
     },
     "execution_count": 33,
     "metadata": {},
     "output_type": "execute_result"
    }
   ],
   "source": [
    "df.shape"
   ]
  },
  {
   "cell_type": "code",
   "execution_count": 30,
   "id": "a5e04989",
   "metadata": {},
   "outputs": [
    {
     "data": {
      "text/html": [
       "<div>\n",
       "<style scoped>\n",
       "    .dataframe tbody tr th:only-of-type {\n",
       "        vertical-align: middle;\n",
       "    }\n",
       "\n",
       "    .dataframe tbody tr th {\n",
       "        vertical-align: top;\n",
       "    }\n",
       "\n",
       "    .dataframe thead th {\n",
       "        text-align: right;\n",
       "    }\n",
       "</style>\n",
       "<table border=\"1\" class=\"dataframe\">\n",
       "  <thead>\n",
       "    <tr style=\"text-align: right;\">\n",
       "      <th></th>\n",
       "      <th>ride_id</th>\n",
       "      <th>pickup_datetime</th>\n",
       "      <th>dropoff_datetime</th>\n",
       "      <th>pickup_longitude</th>\n",
       "      <th>pickup_latitude</th>\n",
       "      <th>dropoff_longitude</th>\n",
       "      <th>dropoff_latitude</th>\n",
       "      <th>passenger_count</th>\n",
       "      <th>taxi_id</th>\n",
       "      <th>driver_id</th>\n",
       "      <th>unbalanced_partition_key</th>\n",
       "      <th>second_pk</th>\n",
       "      <th>third_duplicated_pk</th>\n",
       "    </tr>\n",
       "  </thead>\n",
       "  <tbody>\n",
       "    <tr>\n",
       "      <th>0</th>\n",
       "      <td>1228</td>\n",
       "      <td>1577904560000</td>\n",
       "      <td>0</td>\n",
       "      <td>-73.867676</td>\n",
       "      <td>40.759323</td>\n",
       "      <td>-73.864080</td>\n",
       "      <td>40.763897</td>\n",
       "      <td>3</td>\n",
       "      <td>2013000194</td>\n",
       "      <td>2013000194</td>\n",
       "      <td>1</td>\n",
       "      <td>101228</td>\n",
       "      <td>2014000194</td>\n",
       "    </tr>\n",
       "    <tr>\n",
       "      <th>1</th>\n",
       "      <td>527</td>\n",
       "      <td>1577890540000</td>\n",
       "      <td>0</td>\n",
       "      <td>-73.857086</td>\n",
       "      <td>40.772793</td>\n",
       "      <td>-73.807335</td>\n",
       "      <td>40.836117</td>\n",
       "      <td>3</td>\n",
       "      <td>2013000122</td>\n",
       "      <td>2013000122</td>\n",
       "      <td>1</td>\n",
       "      <td>100527</td>\n",
       "      <td>2014000122</td>\n",
       "    </tr>\n",
       "    <tr>\n",
       "      <th>2</th>\n",
       "      <td>394</td>\n",
       "      <td>1577887880000</td>\n",
       "      <td>0</td>\n",
       "      <td>-73.844320</td>\n",
       "      <td>40.789043</td>\n",
       "      <td>-73.765950</td>\n",
       "      <td>40.888790</td>\n",
       "      <td>3</td>\n",
       "      <td>2013000102</td>\n",
       "      <td>2013000102</td>\n",
       "      <td>1</td>\n",
       "      <td>100394</td>\n",
       "      <td>2014000102</td>\n",
       "    </tr>\n",
       "  </tbody>\n",
       "</table>\n",
       "</div>"
      ],
      "text/plain": [
       "   ride_id pickup_datetime  dropoff_datetime  pickup_longitude  \\\n",
       "0     1228   1577904560000                 0        -73.867676   \n",
       "1      527   1577890540000                 0        -73.857086   \n",
       "2      394   1577887880000                 0        -73.844320   \n",
       "\n",
       "   pickup_latitude  dropoff_longitude  dropoff_latitude  passenger_count  \\\n",
       "0        40.759323         -73.864080         40.763897                3   \n",
       "1        40.772793         -73.807335         40.836117                3   \n",
       "2        40.789043         -73.765950         40.888790                3   \n",
       "\n",
       "      taxi_id   driver_id  unbalanced_partition_key  second_pk  \\\n",
       "0  2013000194  2013000194                         1     101228   \n",
       "1  2013000122  2013000122                         1     100527   \n",
       "2  2013000102  2013000102                         1     100394   \n",
       "\n",
       "   third_duplicated_pk  \n",
       "0           2014000194  \n",
       "1           2014000122  \n",
       "2           2014000102  "
      ]
     },
     "execution_count": 30,
     "metadata": {},
     "output_type": "execute_result"
    }
   ],
   "source": [
    "df.head(3)"
   ]
  },
  {
   "cell_type": "code",
   "execution_count": 31,
   "id": "36188ccd",
   "metadata": {},
   "outputs": [
    {
     "name": "stdout",
     "output_type": "stream",
     "text": [
      "Launching offline feature group backfill job...\n",
      "Backfill Job started successfully, you can follow the progress at https://hopsworks.glassfish.service.consul:8182/p/123/jobs/named/test8_fg_1_offline_fg_backfill/executions\n"
     ]
    },
    {
     "data": {
      "text/plain": [
       "<hsfs.core.job.Job at 0x7fe029f1dd30>"
      ]
     },
     "execution_count": 31,
     "metadata": {},
     "output_type": "execute_result"
    }
   ],
   "source": [
    "test8_fg = fs.create_feature_group(name=\"test8_fg\",\n",
    "                                   version=1,\n",
    "                                   primary_key=[\"ride_id\", \"second_pk\", \"third_duplicated_pk\"],\n",
    "                                   description=\"test8_fg\")   \n",
    "test8_fg.save(df)"
   ]
  },
  {
   "cell_type": "markdown",
   "id": "deed32ca",
   "metadata": {},
   "source": [
    "## 9) Read the feature group into a dataframe using the .read() method."
   ]
  },
  {
   "cell_type": "code",
   "execution_count": 34,
   "id": "e730f2f7",
   "metadata": {},
   "outputs": [
    {
     "name": "stdout",
     "output_type": "stream",
     "text": [
      "Connected. Call `.close()` to terminate connection gracefully.\n"
     ]
    }
   ],
   "source": [
    "import hsfs\n",
    "connection = hsfs.connection()\n",
    "fs = connection.get_feature_store(name='testing_featurestore')\n",
    "fg = fs.get_feature_group('test8_fg', version=1)"
   ]
  },
  {
   "cell_type": "code",
   "execution_count": 35,
   "id": "b1ca4bd3",
   "metadata": {},
   "outputs": [
    {
     "name": "stdout",
     "output_type": "stream",
     "text": [
      "2022-05-26 22:39:45,149 INFO: USE `testing_featurestore`\n",
      "2022-05-26 22:39:45,960 INFO: SELECT `fg0`.`ride_id` `ride_id`, `fg0`.`pickup_datetime` `pickup_datetime`, `fg0`.`dropoff_datetime` `dropoff_datetime`, `fg0`.`pickup_longitude` `pickup_longitude`, `fg0`.`pickup_latitude` `pickup_latitude`, `fg0`.`dropoff_longitude` `dropoff_longitude`, `fg0`.`dropoff_latitude` `dropoff_latitude`, `fg0`.`passenger_count` `passenger_count`, `fg0`.`taxi_id` `taxi_id`, `fg0`.`driver_id` `driver_id`, `fg0`.`unbalanced_partition_key` `unbalanced_partition_key`, `fg0`.`second_pk` `second_pk`, `fg0`.`third_duplicated_pk` `third_duplicated_pk`\n",
      "FROM `testing_featurestore`.`test8_fg_1` `fg0`\n"
     ]
    }
   ],
   "source": [
    "df_from_fg = fg.read(dataframe_type=\"pandas\")"
   ]
  },
  {
   "cell_type": "code",
   "execution_count": 36,
   "id": "d9bd4eef",
   "metadata": {},
   "outputs": [
    {
     "data": {
      "text/html": [
       "<div>\n",
       "<style scoped>\n",
       "    .dataframe tbody tr th:only-of-type {\n",
       "        vertical-align: middle;\n",
       "    }\n",
       "\n",
       "    .dataframe tbody tr th {\n",
       "        vertical-align: top;\n",
       "    }\n",
       "\n",
       "    .dataframe thead th {\n",
       "        text-align: right;\n",
       "    }\n",
       "</style>\n",
       "<table border=\"1\" class=\"dataframe\">\n",
       "  <thead>\n",
       "    <tr style=\"text-align: right;\">\n",
       "      <th></th>\n",
       "      <th>ride_id</th>\n",
       "      <th>pickup_datetime</th>\n",
       "      <th>dropoff_datetime</th>\n",
       "      <th>pickup_longitude</th>\n",
       "      <th>pickup_latitude</th>\n",
       "      <th>dropoff_longitude</th>\n",
       "      <th>dropoff_latitude</th>\n",
       "      <th>passenger_count</th>\n",
       "      <th>taxi_id</th>\n",
       "      <th>driver_id</th>\n",
       "      <th>unbalanced_partition_key</th>\n",
       "      <th>second_pk</th>\n",
       "      <th>third_duplicated_pk</th>\n",
       "    </tr>\n",
       "  </thead>\n",
       "  <tbody>\n",
       "    <tr>\n",
       "      <th>0</th>\n",
       "      <td>40011</td>\n",
       "      <td>1578680220000</td>\n",
       "      <td>0</td>\n",
       "      <td>-73.908005</td>\n",
       "      <td>40.707993</td>\n",
       "      <td>-73.922620</td>\n",
       "      <td>40.689390</td>\n",
       "      <td>2</td>\n",
       "      <td>2013000075</td>\n",
       "      <td>2013000075</td>\n",
       "      <td>6</td>\n",
       "      <td>140011</td>\n",
       "      <td>2014000075</td>\n",
       "    </tr>\n",
       "    <tr>\n",
       "      <th>1</th>\n",
       "      <td>37955</td>\n",
       "      <td>1578639100000</td>\n",
       "      <td>0</td>\n",
       "      <td>-73.897354</td>\n",
       "      <td>40.721550</td>\n",
       "      <td>-73.924515</td>\n",
       "      <td>40.686980</td>\n",
       "      <td>2</td>\n",
       "      <td>2013000196</td>\n",
       "      <td>2013000196</td>\n",
       "      <td>6</td>\n",
       "      <td>137955</td>\n",
       "      <td>2014000196</td>\n",
       "    </tr>\n",
       "    <tr>\n",
       "      <th>2</th>\n",
       "      <td>14413</td>\n",
       "      <td>1578168260000</td>\n",
       "      <td>0</td>\n",
       "      <td>-73.689290</td>\n",
       "      <td>40.986350</td>\n",
       "      <td>-73.730590</td>\n",
       "      <td>40.933792</td>\n",
       "      <td>4</td>\n",
       "      <td>2013000053</td>\n",
       "      <td>2013000053</td>\n",
       "      <td>3</td>\n",
       "      <td>114413</td>\n",
       "      <td>2014000053</td>\n",
       "    </tr>\n",
       "  </tbody>\n",
       "</table>\n",
       "</div>"
      ],
      "text/plain": [
       "   ride_id pickup_datetime  dropoff_datetime  pickup_longitude  \\\n",
       "0    40011   1578680220000                 0        -73.908005   \n",
       "1    37955   1578639100000                 0        -73.897354   \n",
       "2    14413   1578168260000                 0        -73.689290   \n",
       "\n",
       "   pickup_latitude  dropoff_longitude  dropoff_latitude  passenger_count  \\\n",
       "0        40.707993         -73.922620         40.689390                2   \n",
       "1        40.721550         -73.924515         40.686980                2   \n",
       "2        40.986350         -73.730590         40.933792                4   \n",
       "\n",
       "      taxi_id   driver_id  unbalanced_partition_key  second_pk  \\\n",
       "0  2013000075  2013000075                         6     140011   \n",
       "1  2013000196  2013000196                         6     137955   \n",
       "2  2013000053  2013000053                         3     114413   \n",
       "\n",
       "   third_duplicated_pk  \n",
       "0           2014000075  \n",
       "1           2014000196  \n",
       "2           2014000053  "
      ]
     },
     "execution_count": 36,
     "metadata": {},
     "output_type": "execute_result"
    }
   ],
   "source": [
    "df_from_fg.head(3)"
   ]
  },
  {
   "cell_type": "code",
   "execution_count": 37,
   "id": "42518133",
   "metadata": {},
   "outputs": [
    {
     "data": {
      "text/plain": [
       "(41078, 13)"
      ]
     },
     "execution_count": 37,
     "metadata": {},
     "output_type": "execute_result"
    }
   ],
   "source": [
    "df_from_fg.shape"
   ]
  },
  {
   "cell_type": "code",
   "execution_count": 38,
   "id": "2222815e",
   "metadata": {},
   "outputs": [
    {
     "data": {
      "text/plain": [
       "41078"
      ]
     },
     "execution_count": 38,
     "metadata": {},
     "output_type": "execute_result"
    }
   ],
   "source": [
    "df_from_fg.ride_id.nunique()"
   ]
  },
  {
   "cell_type": "code",
   "execution_count": 39,
   "id": "231a9755",
   "metadata": {},
   "outputs": [
    {
     "data": {
      "text/plain": [
       "200"
      ]
     },
     "execution_count": 39,
     "metadata": {},
     "output_type": "execute_result"
    }
   ],
   "source": [
    "df_from_fg.third_duplicated_pk.nunique()"
   ]
  },
  {
   "cell_type": "markdown",
   "id": "234b13fb",
   "metadata": {},
   "source": [
    "## 10) Create a feature group with different expectations."
   ]
  },
  {
   "cell_type": "code",
   "execution_count": 41,
   "id": "fee71645",
   "metadata": {},
   "outputs": [],
   "source": [
    "from hsfs.rule import Rule"
   ]
  },
  {
   "cell_type": "code",
   "execution_count": 40,
   "id": "da293482",
   "metadata": {},
   "outputs": [
    {
     "name": "stdout",
     "output_type": "stream",
     "text": [
      "{'name': 'HAS_MAX', 'predicate': None, 'acceptedType': 'Fractional', 'featureType': 'Numerical', 'description': 'Assert on the max of a feature.'}\n",
      "{'name': 'IS_CONTAINED_IN', 'predicate': 'LEGAL_VALUES', 'acceptedType': 'String', 'featureType': None, 'description': 'Assert that every non-null value of feature is contained in a set of predefined values.'}\n",
      "{'name': 'IS_LESS_THAN', 'predicate': 'FEATURE', 'acceptedType': 'Fractional', 'featureType': None, 'description': 'Assert on feature A values being less that feature B.'}\n",
      "{'name': 'IS_POSITIVE', 'predicate': None, 'acceptedType': 'Fractional', 'featureType': None, 'description': 'Assert on a feature containing non negative values.'}\n",
      "{'name': 'HAS_DATATYPE', 'predicate': 'ACCEPTED_TYPE', 'acceptedType': 'String', 'featureType': None, 'description': 'Assert on the fraction of rows that conform to the given data type.'}\n",
      "{'name': 'HAS_NUMBER_OF_DISTINCT_VALUES', 'predicate': None, 'acceptedType': 'Integral', 'featureType': None, 'description': 'Assert on the number of distinct values of a feature.'}\n",
      "{'name': 'HAS_SIZE', 'predicate': None, 'acceptedType': 'Integral', 'featureType': None, 'description': 'Assert on the number of rows of the dataframe.'}\n",
      "{'name': 'HAS_CORRELATION', 'predicate': 'FEATURE', 'acceptedType': 'Fractional', 'featureType': 'Numerical', 'description': 'Assert on the pearson correlcation between two features.'}\n",
      "{'name': 'HAS_MUTUAL_INFORMATION', 'predicate': 'FEATURE', 'acceptedType': 'Fractional', 'featureType': None, 'description': 'Assert on the mutual information between two features.'}\n",
      "{'name': 'HAS_MIN', 'predicate': None, 'acceptedType': 'Fractional', 'featureType': 'Numerical', 'description': 'Assert on the min of a feature.'}\n",
      "{'name': 'HAS_UNIQUE_VALUE_RATIO', 'predicate': None, 'acceptedType': 'Fractional', 'featureType': None, 'description': 'Assert on the unique value ratio of a feature, that is the fraction of unique values over the number of all distinct values.'}\n",
      "{'name': 'HAS_MAX_LENGTH', 'predicate': None, 'acceptedType': 'String', 'featureType': 'Categorical', 'description': 'Assert on the maximum length of the feature value.'}\n",
      "{'name': 'IS_LESS_THAN_OR_EQUAL_TO', 'predicate': 'FEATURE', 'acceptedType': 'Fractional', 'featureType': None, 'description': 'Assert on feature A values being less or equal to those of feature B.'}\n",
      "{'name': 'HAS_DISTINCTNESS', 'predicate': None, 'acceptedType': 'Fractional', 'featureType': None, 'description': 'Assert on the distincness of a single or combined set of features.'}\n",
      "{'name': 'HAS_UNIQUENESS', 'predicate': None, 'acceptedType': 'Fractional', 'featureType': None, 'description': 'Assert on the uniqueness of a feature, that is the fraction of unique values over the number of all its values.'}\n",
      "{'name': 'HAS_APPROX_QUANTILE', 'predicate': None, 'acceptedType': 'Fractional', 'featureType': 'Numerical', 'description': 'Assert on the approximate quantile of a feature.'}\n",
      "{'name': 'HAS_MEAN', 'predicate': None, 'acceptedType': 'Fractional', 'featureType': 'Numerical', 'description': 'Assert on the mean of a feature.'}\n",
      "{'name': 'HAS_MIN_LENGTH', 'predicate': None, 'acceptedType': 'String', 'featureType': 'Categorical', 'description': 'Assert on the minimum length of the feature value.'}\n",
      "{'name': 'IS_GREATER_THAN_OR_EQUAL_TO', 'predicate': 'FEATURE', 'acceptedType': 'Fractional', 'featureType': None, 'description': 'Assert on feature A values being greater than or equal to those of feature B.'}\n",
      "{'name': 'HAS_COMPLETENESS', 'predicate': None, 'acceptedType': 'Fractional', 'featureType': None, 'description': 'Assert on the uniqueness of a single or combined set of features.'}\n",
      "{'name': 'HAS_STANDARD_DEVIATION', 'predicate': None, 'acceptedType': 'Fractional', 'featureType': 'Numerical', 'description': 'Assert on the standard deviation of a feature.'}\n",
      "{'name': 'HAS_ENTROPY', 'predicate': None, 'acceptedType': 'Fractional', 'featureType': None, 'description': 'Assert on the entropy of a feature.'}\n",
      "{'name': 'HAS_PATTERN', 'predicate': 'PATTERN', 'acceptedType': 'String', 'featureType': 'Categorical', 'description': 'Assert on the average compliance of the feature to the regular expression.'}\n",
      "{'name': 'HAS_SUM', 'predicate': None, 'acceptedType': 'Fractional', 'featureType': 'Numerical', 'description': 'Assert on the sum of a feature.'}\n",
      "{'name': 'IS_GREATER_THAN', 'predicate': 'FEATURE', 'acceptedType': 'Fractional', 'featureType': None, 'description': 'Assert on feature A values being greater than feature B.'}\n",
      "{'name': 'IS_NON_NEGATIVE', 'predicate': None, 'acceptedType': 'Fractional', 'featureType': None, 'description': 'Assert on feature containing non negative values.'}\n",
      "{'name': 'HAS_APPROX_COUNT_DISTINCT', 'predicate': None, 'acceptedType': 'Fractional', 'featureType': None, 'description': 'Assert on the approximate count distinct of a feature.'}\n"
     ]
    },
    {
     "data": {
      "text/plain": [
       "[None,\n",
       " None,\n",
       " None,\n",
       " None,\n",
       " None,\n",
       " None,\n",
       " None,\n",
       " None,\n",
       " None,\n",
       " None,\n",
       " None,\n",
       " None,\n",
       " None,\n",
       " None,\n",
       " None,\n",
       " None,\n",
       " None,\n",
       " None,\n",
       " None,\n",
       " None,\n",
       " None,\n",
       " None,\n",
       " None,\n",
       " None,\n",
       " None,\n",
       " None,\n",
       " None]"
      ]
     },
     "execution_count": 40,
     "metadata": {},
     "output_type": "execute_result"
    }
   ],
   "source": [
    "# Get all rule definitions available in Hopsworks\n",
    "rules = connection.get_rules()\n",
    "[print(rule.to_dict()) for rule in rules]"
   ]
  },
  {
   "cell_type": "code",
   "execution_count": 42,
   "id": "67fad65b",
   "metadata": {},
   "outputs": [
    {
     "name": "stdout",
     "output_type": "stream",
     "text": [
      "{'name': 'IS_POSITIVE', 'predicate': None, 'acceptedType': 'Fractional', 'featureType': None, 'description': 'Assert on a feature containing non negative values.'}\n"
     ]
    }
   ],
   "source": [
    "# Get a rule definition by name\n",
    "is_positive = connection.get_rule(\"IS_POSITIVE\")\n",
    "print(is_positive.to_dict())"
   ]
  },
  {
   "cell_type": "code",
   "execution_count": 43,
   "id": "3fdadea0",
   "metadata": {},
   "outputs": [
    {
     "name": "stdout",
     "output_type": "stream",
     "text": [
      "<class 'pandas.core.frame.DataFrame'>\n",
      "Int64Index: 41078 entries, 0 to 41077\n",
      "Data columns (total 13 columns):\n",
      " #   Column                    Non-Null Count  Dtype  \n",
      "---  ------                    --------------  -----  \n",
      " 0   ride_id                   41078 non-null  int64  \n",
      " 1   pickup_datetime           41078 non-null  object \n",
      " 2   dropoff_datetime          41078 non-null  int64  \n",
      " 3   pickup_longitude          41078 non-null  float64\n",
      " 4   pickup_latitude           41078 non-null  float64\n",
      " 5   dropoff_longitude         41078 non-null  float64\n",
      " 6   dropoff_latitude          41078 non-null  float64\n",
      " 7   passenger_count           41078 non-null  int64  \n",
      " 8   taxi_id                   41078 non-null  int64  \n",
      " 9   driver_id                 41078 non-null  int64  \n",
      " 10  unbalanced_partition_key  41078 non-null  int64  \n",
      " 11  second_pk                 41078 non-null  int64  \n",
      " 12  third_duplicated_pk       41078 non-null  int64  \n",
      "dtypes: float64(4), int64(8), object(1)\n",
      "memory usage: 5.4+ MB\n"
     ]
    }
   ],
   "source": [
    "df.info()"
   ]
  },
  {
   "cell_type": "code",
   "execution_count": 44,
   "id": "56262edd",
   "metadata": {},
   "outputs": [],
   "source": [
    "expectation_passengers = fs.create_expectation(\"expectation_passengers\",\n",
    "                                           features=[\"passenger_count\"], \n",
    "                                           description=\"expectation_passengers\",\n",
    "                                           rules=[Rule(name=\"IS_POSITIVE\", level=\"ERROR\", max=10)])\n",
    "expectation_passengers.save()"
   ]
  },
  {
   "cell_type": "code",
   "execution_count": 46,
   "id": "dfb22f67",
   "metadata": {},
   "outputs": [
    {
     "name": "stdout",
     "output_type": "stream",
     "text": [
      "Launching offline feature group backfill job...\n",
      "Backfill Job started successfully, you can follow the progress at https://hopsworks.glassfish.service.consul:8182/p/123/jobs/named/test10_fg_1_offline_fg_backfill/executions\n"
     ]
    },
    {
     "data": {
      "text/plain": [
       "<hsfs.core.job.Job at 0x7fe028c07130>"
      ]
     },
     "execution_count": 46,
     "metadata": {},
     "output_type": "execute_result"
    }
   ],
   "source": [
    "test10_fg = fs.create_feature_group(name=\"test10_fg\",\n",
    "                                   version=1,\n",
    "                                   primary_key=[\"ride_id\"],\n",
    "                                   description=\"test10_fg\",\n",
    "                                   expectations= [expectation_passengers])   \n",
    "test10_fg.save(df)\n"
   ]
  },
  {
   "cell_type": "code",
   "execution_count": 48,
   "id": "96edb46d",
   "metadata": {},
   "outputs": [
    {
     "name": "stdout",
     "output_type": "stream",
     "text": [
      "Help on method create_feature_group in module hsfs.feature_store:\n",
      "\n",
      "create_feature_group(name: str, version: Union[int, NoneType] = None, description: Union[str, NoneType] = '', online_enabled: Union[bool, NoneType] = False, time_travel_format: Union[str, NoneType] = 'HUDI', partition_key: Union[List[str], NoneType] = [], primary_key: Union[List[str], NoneType] = [], hudi_precombine_key: Union[str, NoneType] = None, features: Union[List[hsfs.feature.Feature], NoneType] = [], statistics_config: Union[hsfs.statistics_config.StatisticsConfig, bool, dict, NoneType] = None, validation_type: Union[str, NoneType] = 'NONE', expectations: Union[List[hsfs.expectation.Expectation], NoneType] = [], event_time: Union[str, NoneType] = None, stream: Union[bool, NoneType] = False) method of hsfs.feature_store.FeatureStore instance\n",
      "    Create a feature group metadata object.\n",
      "    \n",
      "    !!! note \"Lazy\"\n",
      "        This method is lazy and does not persist any metadata or feature data in the\n",
      "        feature store on its own. To persist the feature group and save feature data\n",
      "        along the metadata in the feature store, call the `save()` method with a\n",
      "        DataFrame.\n",
      "    \n",
      "    # Arguments\n",
      "        name: Name of the feature group to create.\n",
      "        version: Version of the feature group to retrieve, defaults to `None` and\n",
      "            will create the feature group with incremented version from the last\n",
      "            version in the feature store.\n",
      "        description: A string describing the contents of the feature group to\n",
      "            improve discoverability for Data Scientists, defaults to empty string\n",
      "            `\"\"`.\n",
      "        online_enabled: Define whether the feature group should be made available\n",
      "            also in the online feature store for low latency access, defaults to\n",
      "            `False`.\n",
      "        time_travel_format: Format used for time travel, defaults to `\"HUDI\"`.\n",
      "        partition_key: A list of feature names to be used as partition key when\n",
      "            writing the feature data to the offline storage, defaults to empty list\n",
      "            `[]`.\n",
      "        primary_key: A list of feature names to be used as primary key for the\n",
      "            feature group. This primary key can be a composite key of multiple\n",
      "            features and will be used as joining key, if not specified otherwise.\n",
      "            Defaults to empty list `[]`, and the feature group won't have any primary key.\n",
      "        hudi_precombine_key: A feature name to be used as a precombine key for the `\"HUDI\"`\n",
      "            feature group. Defaults to `None`. If feature group has time travel format\n",
      "            `\"HUDI\"` and hudi precombine key was not specified then the first primary key of\n",
      "            the feature group will be used as hudi precombine key.\n",
      "        features: Optionally, define the schema of the feature group manually as a\n",
      "            list of `Feature` objects. Defaults to empty list `[]` and will use the\n",
      "            schema information of the DataFrame provided in the `save` method.\n",
      "        statistics_config: A configuration object, or a dictionary with keys\n",
      "            \"`enabled`\" to generally enable descriptive statistics computation for\n",
      "            this feature group, `\"correlations`\" to turn on feature correlation\n",
      "            computation, `\"histograms\"` to compute feature value frequencies and\n",
      "            `\"exact_uniqueness\"` to compute uniqueness, distinctness and entropy.\n",
      "            The values should be booleans indicating the setting. To fully turn off\n",
      "            statistics computation pass `statistics_config=False`. Defaults to\n",
      "            `None` and will compute only descriptive statistics.\n",
      "        validation_type: Optionally, set the validation type to one of \"NONE\", \"STRICT\",\n",
      "            \"WARNING\", \"ALL\". Determines the mode in which data validation is applied on\n",
      "             ingested or already existing feature group data.\n",
      "        expectations: Optionally, a list of expectations to be attached to the feature group.\n",
      "            The expectations list contains Expectation metadata objects which can be retrieved with\n",
      "            the `get_expectation()` and `get_expectations()` functions.\n",
      "        event_time: Optionally, provide the name of the feature containing the event\n",
      "            time for the features in this feature group. If event_time is set\n",
      "            the feature group can be used for point-in-time joins. Defaults to `None`.\n",
      "        stream: Optionally, Define whether the feature group should support real time stream writing capabilities.\n",
      "            Stream enabled Feature Groups have unified single API for writing streaming features transparently\n",
      "            to both online and offline store.\n",
      "    \n",
      "    # Returns\n",
      "        `FeatureGroup`. The feature group metadata object.\n",
      "\n"
     ]
    }
   ],
   "source": [
    "help(fs.create_feature_group)"
   ]
  },
  {
   "cell_type": "code",
   "execution_count": 51,
   "id": "984808fa",
   "metadata": {},
   "outputs": [
    {
     "ename": "RestAPIError",
     "evalue": "Metadata operation error: (url: https://hopsworks.glassfish.service.consul:8182/hopsworks-api/api/project/123/featurestores/71/featuregroups). Server response: \nHTTP code: 400, HTTP reason: Bad Request, error code: 270183, error msg: Rule is not supported., user msg: For stream featuregroups validattion rules are not supported",
     "output_type": "error",
     "traceback": [
      "\u001b[0;31m---------------------------------------------------------------------------\u001b[0m",
      "\u001b[0;31mRestAPIError\u001b[0m                              Traceback (most recent call last)",
      "\u001b[0;32m<ipython-input-51-fab7b47c6c3e>\u001b[0m in \u001b[0;36m<module>\u001b[0;34m\u001b[0m\n\u001b[1;32m      5\u001b[0m                                    \u001b[0mvalidation_type\u001b[0m\u001b[0;34m=\u001b[0m\u001b[0;34m\"ALL\"\u001b[0m\u001b[0;34m,\u001b[0m\u001b[0;34m\u001b[0m\u001b[0;34m\u001b[0m\u001b[0m\n\u001b[1;32m      6\u001b[0m                                    expectations= [expectation_passengers])   \n\u001b[0;32m----> 7\u001b[0;31m \u001b[0mtest10_fg\u001b[0m\u001b[0;34m.\u001b[0m\u001b[0msave\u001b[0m\u001b[0;34m(\u001b[0m\u001b[0mdf\u001b[0m\u001b[0;34m)\u001b[0m\u001b[0;34m\u001b[0m\u001b[0;34m\u001b[0m\u001b[0m\n\u001b[0m",
      "\u001b[0;32m/srv/hops/anaconda/envs/theenv/lib/python3.8/site-packages/hsfs/feature_group.py\u001b[0m in \u001b[0;36msave\u001b[0;34m(self, features, write_options)\u001b[0m\n\u001b[1;32m    859\u001b[0m \u001b[0;34m\u001b[0m\u001b[0m\n\u001b[1;32m    860\u001b[0m         \u001b[0;31m# fg_job is used only if the python engine is used\u001b[0m\u001b[0;34m\u001b[0m\u001b[0;34m\u001b[0m\u001b[0;34m\u001b[0m\u001b[0m\n\u001b[0;32m--> 861\u001b[0;31m         \u001b[0mfg_job\u001b[0m \u001b[0;34m=\u001b[0m \u001b[0mself\u001b[0m\u001b[0;34m.\u001b[0m\u001b[0m_feature_group_engine\u001b[0m\u001b[0;34m.\u001b[0m\u001b[0msave\u001b[0m\u001b[0;34m(\u001b[0m\u001b[0mself\u001b[0m\u001b[0;34m,\u001b[0m \u001b[0mfeature_dataframe\u001b[0m\u001b[0;34m,\u001b[0m \u001b[0mwrite_options\u001b[0m\u001b[0;34m)\u001b[0m\u001b[0;34m\u001b[0m\u001b[0;34m\u001b[0m\u001b[0m\n\u001b[0m\u001b[1;32m    862\u001b[0m         \u001b[0mself\u001b[0m\u001b[0;34m.\u001b[0m\u001b[0m_code_engine\u001b[0m\u001b[0;34m.\u001b[0m\u001b[0msave_code\u001b[0m\u001b[0;34m(\u001b[0m\u001b[0mself\u001b[0m\u001b[0;34m)\u001b[0m\u001b[0;34m\u001b[0m\u001b[0;34m\u001b[0m\u001b[0m\n\u001b[1;32m    863\u001b[0m         \u001b[0;32mif\u001b[0m \u001b[0mself\u001b[0m\u001b[0;34m.\u001b[0m\u001b[0mstatistics_config\u001b[0m\u001b[0;34m.\u001b[0m\u001b[0menabled\u001b[0m \u001b[0;32mand\u001b[0m \u001b[0mengine\u001b[0m\u001b[0;34m.\u001b[0m\u001b[0mget_type\u001b[0m\u001b[0;34m(\u001b[0m\u001b[0;34m)\u001b[0m \u001b[0;34m==\u001b[0m \u001b[0;34m\"spark\"\u001b[0m\u001b[0;34m:\u001b[0m\u001b[0;34m\u001b[0m\u001b[0;34m\u001b[0m\u001b[0m\n",
      "\u001b[0;32m/srv/hops/anaconda/envs/theenv/lib/python3.8/site-packages/hsfs/core/feature_group_engine.py\u001b[0m in \u001b[0;36msave\u001b[0;34m(self, feature_group, feature_dataframe, write_options)\u001b[0m\n\u001b[1;32m     52\u001b[0m             \u001b[0mfeature_group\u001b[0m\u001b[0;34m.\u001b[0m\u001b[0m_options\u001b[0m \u001b[0;34m=\u001b[0m \u001b[0mwrite_options\u001b[0m\u001b[0;34m\u001b[0m\u001b[0;34m\u001b[0m\u001b[0m\n\u001b[1;32m     53\u001b[0m \u001b[0;34m\u001b[0m\u001b[0m\n\u001b[0;32m---> 54\u001b[0;31m         \u001b[0mself\u001b[0m\u001b[0;34m.\u001b[0m\u001b[0m_feature_group_api\u001b[0m\u001b[0;34m.\u001b[0m\u001b[0msave\u001b[0m\u001b[0;34m(\u001b[0m\u001b[0mfeature_group\u001b[0m\u001b[0;34m)\u001b[0m\u001b[0;34m\u001b[0m\u001b[0;34m\u001b[0m\u001b[0m\n\u001b[0m\u001b[1;32m     55\u001b[0m         \u001b[0mvalidation_id\u001b[0m \u001b[0;34m=\u001b[0m \u001b[0;32mNone\u001b[0m\u001b[0;34m\u001b[0m\u001b[0;34m\u001b[0m\u001b[0m\n\u001b[1;32m     56\u001b[0m         \u001b[0;32mif\u001b[0m \u001b[0mfeature_group\u001b[0m\u001b[0;34m.\u001b[0m\u001b[0mvalidation_type\u001b[0m \u001b[0;34m!=\u001b[0m \u001b[0;34m\"NONE\"\u001b[0m \u001b[0;32mand\u001b[0m \u001b[0mengine\u001b[0m\u001b[0;34m.\u001b[0m\u001b[0mget_type\u001b[0m\u001b[0;34m(\u001b[0m\u001b[0;34m)\u001b[0m \u001b[0;34m==\u001b[0m \u001b[0;34m\"spark\"\u001b[0m\u001b[0;34m:\u001b[0m\u001b[0;34m\u001b[0m\u001b[0;34m\u001b[0m\u001b[0m\n",
      "\u001b[0;32m/srv/hops/anaconda/envs/theenv/lib/python3.8/site-packages/hsfs/core/feature_group_api.py\u001b[0m in \u001b[0;36msave\u001b[0;34m(self, feature_group_instance)\u001b[0m\n\u001b[1;32m     47\u001b[0m \u001b[0;34m\u001b[0m\u001b[0m\n\u001b[1;32m     48\u001b[0m         return feature_group_instance.update_from_response_json(\n\u001b[0;32m---> 49\u001b[0;31m             _client._send_request(\n\u001b[0m\u001b[1;32m     50\u001b[0m                 \u001b[0;34m\"POST\"\u001b[0m\u001b[0;34m,\u001b[0m\u001b[0;34m\u001b[0m\u001b[0;34m\u001b[0m\u001b[0m\n\u001b[1;32m     51\u001b[0m                 \u001b[0mpath_params\u001b[0m\u001b[0;34m,\u001b[0m\u001b[0;34m\u001b[0m\u001b[0;34m\u001b[0m\u001b[0m\n",
      "\u001b[0;32m/srv/hops/anaconda/envs/theenv/lib/python3.8/site-packages/hsfs/decorators.py\u001b[0m in \u001b[0;36mif_connected\u001b[0;34m(inst, *args, **kwargs)\u001b[0m\n\u001b[1;32m     33\u001b[0m         \u001b[0;32mif\u001b[0m \u001b[0;32mnot\u001b[0m \u001b[0minst\u001b[0m\u001b[0;34m.\u001b[0m\u001b[0m_connected\u001b[0m\u001b[0;34m:\u001b[0m\u001b[0;34m\u001b[0m\u001b[0;34m\u001b[0m\u001b[0m\n\u001b[1;32m     34\u001b[0m             \u001b[0;32mraise\u001b[0m \u001b[0mNoHopsworksConnectionError\u001b[0m\u001b[0;34m\u001b[0m\u001b[0;34m\u001b[0m\u001b[0m\n\u001b[0;32m---> 35\u001b[0;31m         \u001b[0;32mreturn\u001b[0m \u001b[0mfn\u001b[0m\u001b[0;34m(\u001b[0m\u001b[0minst\u001b[0m\u001b[0;34m,\u001b[0m \u001b[0;34m*\u001b[0m\u001b[0margs\u001b[0m\u001b[0;34m,\u001b[0m \u001b[0;34m**\u001b[0m\u001b[0mkwargs\u001b[0m\u001b[0;34m)\u001b[0m\u001b[0;34m\u001b[0m\u001b[0;34m\u001b[0m\u001b[0m\n\u001b[0m\u001b[1;32m     36\u001b[0m \u001b[0;34m\u001b[0m\u001b[0m\n\u001b[1;32m     37\u001b[0m     \u001b[0;32mreturn\u001b[0m \u001b[0mif_connected\u001b[0m\u001b[0;34m\u001b[0m\u001b[0;34m\u001b[0m\u001b[0m\n",
      "\u001b[0;32m/srv/hops/anaconda/envs/theenv/lib/python3.8/site-packages/hsfs/client/base.py\u001b[0m in \u001b[0;36m_send_request\u001b[0;34m(self, method, path_params, query_params, headers, data, stream, files)\u001b[0m\n\u001b[1;32m    168\u001b[0m \u001b[0;34m\u001b[0m\u001b[0m\n\u001b[1;32m    169\u001b[0m         \u001b[0;32mif\u001b[0m \u001b[0mresponse\u001b[0m\u001b[0;34m.\u001b[0m\u001b[0mstatus_code\u001b[0m \u001b[0;34m//\u001b[0m \u001b[0;36m100\u001b[0m \u001b[0;34m!=\u001b[0m \u001b[0;36m2\u001b[0m\u001b[0;34m:\u001b[0m\u001b[0;34m\u001b[0m\u001b[0;34m\u001b[0m\u001b[0m\n\u001b[0;32m--> 170\u001b[0;31m             \u001b[0;32mraise\u001b[0m \u001b[0mexceptions\u001b[0m\u001b[0;34m.\u001b[0m\u001b[0mRestAPIError\u001b[0m\u001b[0;34m(\u001b[0m\u001b[0murl\u001b[0m\u001b[0;34m,\u001b[0m \u001b[0mresponse\u001b[0m\u001b[0;34m)\u001b[0m\u001b[0;34m\u001b[0m\u001b[0;34m\u001b[0m\u001b[0m\n\u001b[0m\u001b[1;32m    171\u001b[0m \u001b[0;34m\u001b[0m\u001b[0m\n\u001b[1;32m    172\u001b[0m         \u001b[0;32mif\u001b[0m \u001b[0mstream\u001b[0m\u001b[0;34m:\u001b[0m\u001b[0;34m\u001b[0m\u001b[0;34m\u001b[0m\u001b[0m\n",
      "\u001b[0;31mRestAPIError\u001b[0m: Metadata operation error: (url: https://hopsworks.glassfish.service.consul:8182/hopsworks-api/api/project/123/featurestores/71/featuregroups). Server response: \nHTTP code: 400, HTTP reason: Bad Request, error code: 270183, error msg: Rule is not supported., user msg: For stream featuregroups validattion rules are not supported"
     ]
    }
   ],
   "source": [
    "test10_fg = fs.create_feature_group(name=\"test10_1_fg\",\n",
    "                                   version=1,\n",
    "                                   primary_key=[\"ride_id\"],\n",
    "                                   description=\"test10_fg\",\n",
    "                                   validation_type=\"ALL\",\n",
    "                                   expectations= [expectation_passengers])   \n",
    "test10_fg.save(df)\n"
   ]
  },
  {
   "cell_type": "markdown",
   "id": "12225f94",
   "metadata": {},
   "source": [
    "## 11) Save new version of feature group."
   ]
  },
  {
   "cell_type": "code",
   "execution_count": 8,
   "id": "15b5cd35",
   "metadata": {},
   "outputs": [
    {
     "data": {
      "text/html": [
       "<div>\n",
       "<style scoped>\n",
       "    .dataframe tbody tr th:only-of-type {\n",
       "        vertical-align: middle;\n",
       "    }\n",
       "\n",
       "    .dataframe tbody tr th {\n",
       "        vertical-align: top;\n",
       "    }\n",
       "\n",
       "    .dataframe thead th {\n",
       "        text-align: right;\n",
       "    }\n",
       "</style>\n",
       "<table border=\"1\" class=\"dataframe\">\n",
       "  <thead>\n",
       "    <tr style=\"text-align: right;\">\n",
       "      <th></th>\n",
       "      <th>ride_id</th>\n",
       "      <th>is_start</th>\n",
       "      <th>pickup_datetime</th>\n",
       "      <th>dropoff_datetime</th>\n",
       "      <th>pickup_longitude</th>\n",
       "      <th>pickup_latitude</th>\n",
       "      <th>dropoff_longitude</th>\n",
       "      <th>dropoff_latitude</th>\n",
       "      <th>passenger_count</th>\n",
       "      <th>taxi_id</th>\n",
       "      <th>driver_id</th>\n",
       "    </tr>\n",
       "  </thead>\n",
       "  <tbody>\n",
       "    <tr>\n",
       "      <th>0</th>\n",
       "      <td>1228</td>\n",
       "      <td>True</td>\n",
       "      <td>1577904560000</td>\n",
       "      <td>0</td>\n",
       "      <td>-73.867676</td>\n",
       "      <td>40.759323</td>\n",
       "      <td>-73.864080</td>\n",
       "      <td>40.763897</td>\n",
       "      <td>3</td>\n",
       "      <td>2013000194</td>\n",
       "      <td>2013000194</td>\n",
       "    </tr>\n",
       "    <tr>\n",
       "      <th>1</th>\n",
       "      <td>527</td>\n",
       "      <td>True</td>\n",
       "      <td>1577890540000</td>\n",
       "      <td>0</td>\n",
       "      <td>-73.857086</td>\n",
       "      <td>40.772793</td>\n",
       "      <td>-73.807335</td>\n",
       "      <td>40.836117</td>\n",
       "      <td>3</td>\n",
       "      <td>2013000122</td>\n",
       "      <td>2013000122</td>\n",
       "    </tr>\n",
       "    <tr>\n",
       "      <th>2</th>\n",
       "      <td>394</td>\n",
       "      <td>True</td>\n",
       "      <td>1577887880000</td>\n",
       "      <td>0</td>\n",
       "      <td>-73.844320</td>\n",
       "      <td>40.789043</td>\n",
       "      <td>-73.765950</td>\n",
       "      <td>40.888790</td>\n",
       "      <td>3</td>\n",
       "      <td>2013000102</td>\n",
       "      <td>2013000102</td>\n",
       "    </tr>\n",
       "  </tbody>\n",
       "</table>\n",
       "</div>"
      ],
      "text/plain": [
       "   ride_id  is_start pickup_datetime  dropoff_datetime  pickup_longitude  \\\n",
       "0     1228      True   1577904560000                 0        -73.867676   \n",
       "1      527      True   1577890540000                 0        -73.857086   \n",
       "2      394      True   1577887880000                 0        -73.844320   \n",
       "\n",
       "   pickup_latitude  dropoff_longitude  dropoff_latitude  passenger_count  \\\n",
       "0        40.759323         -73.864080         40.763897                3   \n",
       "1        40.772793         -73.807335         40.836117                3   \n",
       "2        40.789043         -73.765950         40.888790                3   \n",
       "\n",
       "      taxi_id   driver_id  \n",
       "0  2013000194  2013000194  \n",
       "1  2013000122  2013000122  \n",
       "2  2013000102  2013000102  "
      ]
     },
     "execution_count": 8,
     "metadata": {},
     "output_type": "execute_result"
    }
   ],
   "source": [
    "df.head(3)"
   ]
  },
  {
   "cell_type": "code",
   "execution_count": 10,
   "id": "e9544a2f",
   "metadata": {},
   "outputs": [],
   "source": [
    "df11 = df.drop(columns=['is_start', 'dropoff_datetime', 'pickup_longitude', 'pickup_latitude', 'dropoff_longitude', 'dropoff_latitude'])"
   ]
  },
  {
   "cell_type": "code",
   "execution_count": 11,
   "id": "b06a20a7",
   "metadata": {},
   "outputs": [
    {
     "data": {
      "text/html": [
       "<div>\n",
       "<style scoped>\n",
       "    .dataframe tbody tr th:only-of-type {\n",
       "        vertical-align: middle;\n",
       "    }\n",
       "\n",
       "    .dataframe tbody tr th {\n",
       "        vertical-align: top;\n",
       "    }\n",
       "\n",
       "    .dataframe thead th {\n",
       "        text-align: right;\n",
       "    }\n",
       "</style>\n",
       "<table border=\"1\" class=\"dataframe\">\n",
       "  <thead>\n",
       "    <tr style=\"text-align: right;\">\n",
       "      <th></th>\n",
       "      <th>ride_id</th>\n",
       "      <th>pickup_datetime</th>\n",
       "      <th>passenger_count</th>\n",
       "      <th>taxi_id</th>\n",
       "      <th>driver_id</th>\n",
       "    </tr>\n",
       "  </thead>\n",
       "  <tbody>\n",
       "    <tr>\n",
       "      <th>0</th>\n",
       "      <td>1228</td>\n",
       "      <td>1577904560000</td>\n",
       "      <td>3</td>\n",
       "      <td>2013000194</td>\n",
       "      <td>2013000194</td>\n",
       "    </tr>\n",
       "    <tr>\n",
       "      <th>1</th>\n",
       "      <td>527</td>\n",
       "      <td>1577890540000</td>\n",
       "      <td>3</td>\n",
       "      <td>2013000122</td>\n",
       "      <td>2013000122</td>\n",
       "    </tr>\n",
       "    <tr>\n",
       "      <th>2</th>\n",
       "      <td>394</td>\n",
       "      <td>1577887880000</td>\n",
       "      <td>3</td>\n",
       "      <td>2013000102</td>\n",
       "      <td>2013000102</td>\n",
       "    </tr>\n",
       "    <tr>\n",
       "      <th>3</th>\n",
       "      <td>1366</td>\n",
       "      <td>1577907320000</td>\n",
       "      <td>3</td>\n",
       "      <td>2013000059</td>\n",
       "      <td>2013000059</td>\n",
       "    </tr>\n",
       "    <tr>\n",
       "      <th>4</th>\n",
       "      <td>1085</td>\n",
       "      <td>1577901700000</td>\n",
       "      <td>3</td>\n",
       "      <td>2013000064</td>\n",
       "      <td>2013000064</td>\n",
       "    </tr>\n",
       "    <tr>\n",
       "      <th>...</th>\n",
       "      <td>...</td>\n",
       "      <td>...</td>\n",
       "      <td>...</td>\n",
       "      <td>...</td>\n",
       "      <td>...</td>\n",
       "    </tr>\n",
       "    <tr>\n",
       "      <th>41073</th>\n",
       "      <td>40836</td>\n",
       "      <td>1578696720000</td>\n",
       "      <td>2</td>\n",
       "      <td>2013000033</td>\n",
       "      <td>2013000033</td>\n",
       "    </tr>\n",
       "    <tr>\n",
       "      <th>41074</th>\n",
       "      <td>40639</td>\n",
       "      <td>1578692780000</td>\n",
       "      <td>2</td>\n",
       "      <td>2013000162</td>\n",
       "      <td>2013000162</td>\n",
       "    </tr>\n",
       "    <tr>\n",
       "      <th>41075</th>\n",
       "      <td>40909</td>\n",
       "      <td>1578698180000</td>\n",
       "      <td>2</td>\n",
       "      <td>2013000098</td>\n",
       "      <td>2013000098</td>\n",
       "    </tr>\n",
       "    <tr>\n",
       "      <th>41076</th>\n",
       "      <td>40873</td>\n",
       "      <td>1578697460000</td>\n",
       "      <td>2</td>\n",
       "      <td>2013000178</td>\n",
       "      <td>2013000178</td>\n",
       "    </tr>\n",
       "    <tr>\n",
       "      <th>41077</th>\n",
       "      <td>40881</td>\n",
       "      <td>1578697620000</td>\n",
       "      <td>2</td>\n",
       "      <td>2013000165</td>\n",
       "      <td>2013000165</td>\n",
       "    </tr>\n",
       "  </tbody>\n",
       "</table>\n",
       "<p>41078 rows × 5 columns</p>\n",
       "</div>"
      ],
      "text/plain": [
       "       ride_id  pickup_datetime  passenger_count     taxi_id   driver_id\n",
       "0         1228    1577904560000                3  2013000194  2013000194\n",
       "1          527    1577890540000                3  2013000122  2013000122\n",
       "2          394    1577887880000                3  2013000102  2013000102\n",
       "3         1366    1577907320000                3  2013000059  2013000059\n",
       "4         1085    1577901700000                3  2013000064  2013000064\n",
       "...        ...              ...              ...         ...         ...\n",
       "41073    40836    1578696720000                2  2013000033  2013000033\n",
       "41074    40639    1578692780000                2  2013000162  2013000162\n",
       "41075    40909    1578698180000                2  2013000098  2013000098\n",
       "41076    40873    1578697460000                2  2013000178  2013000178\n",
       "41077    40881    1578697620000                2  2013000165  2013000165\n",
       "\n",
       "[41078 rows x 5 columns]"
      ]
     },
     "execution_count": 11,
     "metadata": {},
     "output_type": "execute_result"
    }
   ],
   "source": [
    "df11"
   ]
  },
  {
   "cell_type": "code",
   "execution_count": 12,
   "id": "4d6e10e2",
   "metadata": {},
   "outputs": [],
   "source": [
    "df11.pickup_datetime = df11.pickup_datetime.astype(int)"
   ]
  },
  {
   "cell_type": "code",
   "execution_count": 13,
   "id": "58d1b7c7",
   "metadata": {},
   "outputs": [
    {
     "name": "stdout",
     "output_type": "stream",
     "text": [
      "Launching offline feature group backfill job...\n",
      "Backfill Job started successfully, you can follow the progress at https://hopsworks.glassfish.service.consul:8182/p/123/jobs/named/test5_fg_2_offline_fg_backfill/executions\n"
     ]
    },
    {
     "data": {
      "text/plain": [
       "<hsfs.core.job.Job at 0x7fdc2a3ddfd0>"
      ]
     },
     "execution_count": 13,
     "metadata": {},
     "output_type": "execute_result"
    }
   ],
   "source": [
    "# saving new version of previously created FG\n",
    "\n",
    "test5_fg = fs.create_feature_group(name=\"test5_fg\",\n",
    "                                   version=2,\n",
    "                                   primary_key=[\"ride_id\"],   \n",
    "                                   description=\"test5_fg\",\n",
    "                                   event_time=[\"pickup_datetime\"])   \n",
    "test5_fg.save(df11)"
   ]
  },
  {
   "cell_type": "code",
   "execution_count": null,
   "id": "26e79c26",
   "metadata": {},
   "outputs": [],
   "source": []
  },
  {
   "cell_type": "markdown",
   "id": "1312d157",
   "metadata": {},
   "source": [
    "## 12) Read different versions of the feature group."
   ]
  },
  {
   "cell_type": "code",
   "execution_count": 14,
   "id": "c31bc742",
   "metadata": {},
   "outputs": [
    {
     "name": "stdout",
     "output_type": "stream",
     "text": [
      "Connected. Call `.close()` to terminate connection gracefully.\n"
     ]
    }
   ],
   "source": [
    "import hsfs\n",
    "connection = hsfs.connection()\n",
    "fs = connection.get_feature_store(name='testing_featurestore')\n",
    "fg = fs.get_feature_group('test5_fg', version=2)"
   ]
  },
  {
   "cell_type": "code",
   "execution_count": 15,
   "id": "03af0ecc",
   "metadata": {},
   "outputs": [
    {
     "name": "stdout",
     "output_type": "stream",
     "text": [
      "2022-05-29 10:57:44,611 INFO: USE `testing_featurestore`\n",
      "2022-05-29 10:57:45,459 INFO: SELECT `fg0`.`ride_id` `ride_id`, `fg0`.`pickup_datetime` `pickup_datetime`, `fg0`.`passenger_count` `passenger_count`, `fg0`.`taxi_id` `taxi_id`, `fg0`.`driver_id` `driver_id`\n",
      "FROM `testing_featurestore`.`test5_fg_2` `fg0`\n"
     ]
    }
   ],
   "source": [
    "df_from_fg = fg.read(dataframe_type=\"pandas\")"
   ]
  },
  {
   "cell_type": "code",
   "execution_count": 16,
   "id": "a9363b35",
   "metadata": {},
   "outputs": [
    {
     "data": {
      "text/html": [
       "<div>\n",
       "<style scoped>\n",
       "    .dataframe tbody tr th:only-of-type {\n",
       "        vertical-align: middle;\n",
       "    }\n",
       "\n",
       "    .dataframe tbody tr th {\n",
       "        vertical-align: top;\n",
       "    }\n",
       "\n",
       "    .dataframe thead th {\n",
       "        text-align: right;\n",
       "    }\n",
       "</style>\n",
       "<table border=\"1\" class=\"dataframe\">\n",
       "  <thead>\n",
       "    <tr style=\"text-align: right;\">\n",
       "      <th></th>\n",
       "      <th>ride_id</th>\n",
       "      <th>pickup_datetime</th>\n",
       "      <th>passenger_count</th>\n",
       "      <th>taxi_id</th>\n",
       "      <th>driver_id</th>\n",
       "    </tr>\n",
       "  </thead>\n",
       "  <tbody>\n",
       "    <tr>\n",
       "      <th>0</th>\n",
       "      <td>30400</td>\n",
       "      <td>1578488000000</td>\n",
       "      <td>3</td>\n",
       "      <td>2013000128</td>\n",
       "      <td>2013000128</td>\n",
       "    </tr>\n",
       "    <tr>\n",
       "      <th>1</th>\n",
       "      <td>15067</td>\n",
       "      <td>1578181340000</td>\n",
       "      <td>3</td>\n",
       "      <td>2013000102</td>\n",
       "      <td>2013000102</td>\n",
       "    </tr>\n",
       "    <tr>\n",
       "      <th>2</th>\n",
       "      <td>6993</td>\n",
       "      <td>1578019860000</td>\n",
       "      <td>2</td>\n",
       "      <td>2013000125</td>\n",
       "      <td>2013000125</td>\n",
       "    </tr>\n",
       "  </tbody>\n",
       "</table>\n",
       "</div>"
      ],
      "text/plain": [
       "   ride_id  pickup_datetime  passenger_count     taxi_id   driver_id\n",
       "0    30400    1578488000000                3  2013000128  2013000128\n",
       "1    15067    1578181340000                3  2013000102  2013000102\n",
       "2     6993    1578019860000                2  2013000125  2013000125"
      ]
     },
     "execution_count": 16,
     "metadata": {},
     "output_type": "execute_result"
    }
   ],
   "source": [
    "df_from_fg.head(3)"
   ]
  },
  {
   "cell_type": "code",
   "execution_count": 18,
   "id": "5770ce4a",
   "metadata": {},
   "outputs": [
    {
     "data": {
      "text/plain": [
       "(41078, 5)"
      ]
     },
     "execution_count": 18,
     "metadata": {},
     "output_type": "execute_result"
    }
   ],
   "source": [
    "df_from_fg.shape"
   ]
  },
  {
   "cell_type": "code",
   "execution_count": 20,
   "id": "214ea0ee",
   "metadata": {},
   "outputs": [
    {
     "data": {
      "text/plain": [
       "(41078, 41078)"
      ]
     },
     "execution_count": 20,
     "metadata": {},
     "output_type": "execute_result"
    }
   ],
   "source": [
    "df_from_fg.ride_id.nunique(), df_from_fg.pickup_datetime.nunique()"
   ]
  },
  {
   "cell_type": "markdown",
   "id": "7693b3eb",
   "metadata": {},
   "source": [
    "## 13) Read feature group not specifying version."
   ]
  },
  {
   "cell_type": "code",
   "execution_count": 21,
   "id": "222dec7c",
   "metadata": {},
   "outputs": [
    {
     "name": "stdout",
     "output_type": "stream",
     "text": [
      "Connected. Call `.close()` to terminate connection gracefully.\n"
     ]
    },
    {
     "name": "stderr",
     "output_type": "stream",
     "text": [
      "VersionWarning: No version provided for getting feature group `test5_fg`, defaulting to `1`.\n"
     ]
    }
   ],
   "source": [
    "import hsfs\n",
    "connection = hsfs.connection()\n",
    "fs = connection.get_feature_store(name='testing_featurestore')\n",
    "fg = fs.get_feature_group('test5_fg')"
   ]
  },
  {
   "cell_type": "markdown",
   "id": "d5e8e5bd",
   "metadata": {},
   "source": [
    "## 14) Read the feature group version which does not exist."
   ]
  },
  {
   "cell_type": "code",
   "execution_count": 22,
   "id": "35c7e032",
   "metadata": {},
   "outputs": [
    {
     "name": "stdout",
     "output_type": "stream",
     "text": [
      "Connected. Call `.close()` to terminate connection gracefully.\n"
     ]
    },
    {
     "ename": "RestAPIError",
     "evalue": "Metadata operation error: (url: https://hopsworks.glassfish.service.consul:8182/hopsworks-api/api/project/123/featurestores/71/featuregroups/test5_fg). Server response: \nHTTP code: 404, HTTP reason: Not Found, error code: 270009, error msg: Featuregroup wasn't found., user msg: feature group name: test5_fg feature group version: 5",
     "output_type": "error",
     "traceback": [
      "\u001b[0;31m---------------------------------------------------------------------------\u001b[0m",
      "\u001b[0;31mRestAPIError\u001b[0m                              Traceback (most recent call last)",
      "\u001b[0;32m<ipython-input-22-9d642f2cbe52>\u001b[0m in \u001b[0;36m<module>\u001b[0;34m\u001b[0m\n\u001b[1;32m      2\u001b[0m \u001b[0mconnection\u001b[0m \u001b[0;34m=\u001b[0m \u001b[0mhsfs\u001b[0m\u001b[0;34m.\u001b[0m\u001b[0mconnection\u001b[0m\u001b[0;34m(\u001b[0m\u001b[0;34m)\u001b[0m\u001b[0;34m\u001b[0m\u001b[0;34m\u001b[0m\u001b[0m\n\u001b[1;32m      3\u001b[0m \u001b[0mfs\u001b[0m \u001b[0;34m=\u001b[0m \u001b[0mconnection\u001b[0m\u001b[0;34m.\u001b[0m\u001b[0mget_feature_store\u001b[0m\u001b[0;34m(\u001b[0m\u001b[0mname\u001b[0m\u001b[0;34m=\u001b[0m\u001b[0;34m'testing_featurestore'\u001b[0m\u001b[0;34m)\u001b[0m\u001b[0;34m\u001b[0m\u001b[0;34m\u001b[0m\u001b[0m\n\u001b[0;32m----> 4\u001b[0;31m \u001b[0mfg\u001b[0m \u001b[0;34m=\u001b[0m \u001b[0mfs\u001b[0m\u001b[0;34m.\u001b[0m\u001b[0mget_feature_group\u001b[0m\u001b[0;34m(\u001b[0m\u001b[0;34m'test5_fg'\u001b[0m\u001b[0;34m,\u001b[0m \u001b[0mversion\u001b[0m\u001b[0;34m=\u001b[0m\u001b[0;36m5\u001b[0m\u001b[0;34m)\u001b[0m\u001b[0;34m\u001b[0m\u001b[0;34m\u001b[0m\u001b[0m\n\u001b[0m",
      "\u001b[0;32m/srv/hops/anaconda/envs/theenv/lib/python3.8/site-packages/hsfs/feature_store.py\u001b[0m in \u001b[0;36mget_feature_group\u001b[0;34m(self, name, version)\u001b[0m\n\u001b[1;32m    133\u001b[0m             )\n\u001b[1;32m    134\u001b[0m             \u001b[0mversion\u001b[0m \u001b[0;34m=\u001b[0m \u001b[0mself\u001b[0m\u001b[0;34m.\u001b[0m\u001b[0mDEFAULT_VERSION\u001b[0m\u001b[0;34m\u001b[0m\u001b[0;34m\u001b[0m\u001b[0m\n\u001b[0;32m--> 135\u001b[0;31m         return self._feature_group_api.get(\n\u001b[0m\u001b[1;32m    136\u001b[0m             \u001b[0mname\u001b[0m\u001b[0;34m,\u001b[0m \u001b[0mversion\u001b[0m\u001b[0;34m,\u001b[0m \u001b[0mfeature_group_api\u001b[0m\u001b[0;34m.\u001b[0m\u001b[0mFeatureGroupApi\u001b[0m\u001b[0;34m.\u001b[0m\u001b[0mCACHED\u001b[0m\u001b[0;34m\u001b[0m\u001b[0;34m\u001b[0m\u001b[0m\n\u001b[1;32m    137\u001b[0m         )\n",
      "\u001b[0;32m/srv/hops/anaconda/envs/theenv/lib/python3.8/site-packages/hsfs/core/feature_group_api.py\u001b[0m in \u001b[0;36mget\u001b[0;34m(self, name, version, fg_type)\u001b[0m\n\u001b[1;32m     77\u001b[0m         ]\n\u001b[1;32m     78\u001b[0m         \u001b[0mquery_params\u001b[0m \u001b[0;34m=\u001b[0m \u001b[0;32mNone\u001b[0m \u001b[0;32mif\u001b[0m \u001b[0mversion\u001b[0m \u001b[0;32mis\u001b[0m \u001b[0;32mNone\u001b[0m \u001b[0;32melse\u001b[0m \u001b[0;34m{\u001b[0m\u001b[0;34m\"version\"\u001b[0m\u001b[0;34m:\u001b[0m \u001b[0mversion\u001b[0m\u001b[0;34m}\u001b[0m\u001b[0;34m\u001b[0m\u001b[0;34m\u001b[0m\u001b[0m\n\u001b[0;32m---> 79\u001b[0;31m         \u001b[0mjson_list\u001b[0m \u001b[0;34m=\u001b[0m \u001b[0m_client\u001b[0m\u001b[0;34m.\u001b[0m\u001b[0m_send_request\u001b[0m\u001b[0;34m(\u001b[0m\u001b[0;34m\"GET\"\u001b[0m\u001b[0;34m,\u001b[0m \u001b[0mpath_params\u001b[0m\u001b[0;34m,\u001b[0m \u001b[0mquery_params\u001b[0m\u001b[0;34m)\u001b[0m\u001b[0;34m\u001b[0m\u001b[0;34m\u001b[0m\u001b[0m\n\u001b[0m\u001b[1;32m     80\u001b[0m \u001b[0;34m\u001b[0m\u001b[0m\n\u001b[1;32m     81\u001b[0m         \u001b[0;32mif\u001b[0m \u001b[0mfg_type\u001b[0m \u001b[0;34m==\u001b[0m \u001b[0mself\u001b[0m\u001b[0;34m.\u001b[0m\u001b[0mCACHED\u001b[0m\u001b[0;34m:\u001b[0m\u001b[0;34m\u001b[0m\u001b[0;34m\u001b[0m\u001b[0m\n",
      "\u001b[0;32m/srv/hops/anaconda/envs/theenv/lib/python3.8/site-packages/hsfs/decorators.py\u001b[0m in \u001b[0;36mif_connected\u001b[0;34m(inst, *args, **kwargs)\u001b[0m\n\u001b[1;32m     33\u001b[0m         \u001b[0;32mif\u001b[0m \u001b[0;32mnot\u001b[0m \u001b[0minst\u001b[0m\u001b[0;34m.\u001b[0m\u001b[0m_connected\u001b[0m\u001b[0;34m:\u001b[0m\u001b[0;34m\u001b[0m\u001b[0;34m\u001b[0m\u001b[0m\n\u001b[1;32m     34\u001b[0m             \u001b[0;32mraise\u001b[0m \u001b[0mNoHopsworksConnectionError\u001b[0m\u001b[0;34m\u001b[0m\u001b[0;34m\u001b[0m\u001b[0m\n\u001b[0;32m---> 35\u001b[0;31m         \u001b[0;32mreturn\u001b[0m \u001b[0mfn\u001b[0m\u001b[0;34m(\u001b[0m\u001b[0minst\u001b[0m\u001b[0;34m,\u001b[0m \u001b[0;34m*\u001b[0m\u001b[0margs\u001b[0m\u001b[0;34m,\u001b[0m \u001b[0;34m**\u001b[0m\u001b[0mkwargs\u001b[0m\u001b[0;34m)\u001b[0m\u001b[0;34m\u001b[0m\u001b[0;34m\u001b[0m\u001b[0m\n\u001b[0m\u001b[1;32m     36\u001b[0m \u001b[0;34m\u001b[0m\u001b[0m\n\u001b[1;32m     37\u001b[0m     \u001b[0;32mreturn\u001b[0m \u001b[0mif_connected\u001b[0m\u001b[0;34m\u001b[0m\u001b[0;34m\u001b[0m\u001b[0m\n",
      "\u001b[0;32m/srv/hops/anaconda/envs/theenv/lib/python3.8/site-packages/hsfs/client/base.py\u001b[0m in \u001b[0;36m_send_request\u001b[0;34m(self, method, path_params, query_params, headers, data, stream, files)\u001b[0m\n\u001b[1;32m    168\u001b[0m \u001b[0;34m\u001b[0m\u001b[0m\n\u001b[1;32m    169\u001b[0m         \u001b[0;32mif\u001b[0m \u001b[0mresponse\u001b[0m\u001b[0;34m.\u001b[0m\u001b[0mstatus_code\u001b[0m \u001b[0;34m//\u001b[0m \u001b[0;36m100\u001b[0m \u001b[0;34m!=\u001b[0m \u001b[0;36m2\u001b[0m\u001b[0;34m:\u001b[0m\u001b[0;34m\u001b[0m\u001b[0;34m\u001b[0m\u001b[0m\n\u001b[0;32m--> 170\u001b[0;31m             \u001b[0;32mraise\u001b[0m \u001b[0mexceptions\u001b[0m\u001b[0;34m.\u001b[0m\u001b[0mRestAPIError\u001b[0m\u001b[0;34m(\u001b[0m\u001b[0murl\u001b[0m\u001b[0;34m,\u001b[0m \u001b[0mresponse\u001b[0m\u001b[0;34m)\u001b[0m\u001b[0;34m\u001b[0m\u001b[0;34m\u001b[0m\u001b[0m\n\u001b[0m\u001b[1;32m    171\u001b[0m \u001b[0;34m\u001b[0m\u001b[0m\n\u001b[1;32m    172\u001b[0m         \u001b[0;32mif\u001b[0m \u001b[0mstream\u001b[0m\u001b[0;34m:\u001b[0m\u001b[0;34m\u001b[0m\u001b[0;34m\u001b[0m\u001b[0m\n",
      "\u001b[0;31mRestAPIError\u001b[0m: Metadata operation error: (url: https://hopsworks.glassfish.service.consul:8182/hopsworks-api/api/project/123/featurestores/71/featuregroups/test5_fg). Server response: \nHTTP code: 404, HTTP reason: Not Found, error code: 270009, error msg: Featuregroup wasn't found., user msg: feature group name: test5_fg feature group version: 5"
     ]
    }
   ],
   "source": [
    "import hsfs\n",
    "connection = hsfs.connection()\n",
    "fs = connection.get_feature_store(name='testing_featurestore')\n",
    "fg = fs.get_feature_group('test5_fg', version=5)"
   ]
  }
 ],
 "metadata": {
  "kernelspec": {
   "display_name": "Python",
   "language": "python",
   "name": "python3"
  },
  "language_info": {
   "codemirror_mode": {
    "name": "ipython",
    "version": 3
   },
   "file_extension": ".py",
   "mimetype": "text/x-python",
   "name": "python",
   "nbconvert_exporter": "python",
   "pygments_lexer": "ipython3",
   "version": "3.8.11"
  }
 },
 "nbformat": 4,
 "nbformat_minor": 5
}