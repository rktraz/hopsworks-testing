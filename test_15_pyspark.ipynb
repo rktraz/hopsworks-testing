{
 "cells": [
  {
   "cell_type": "markdown",
   "id": "15ce9f55",
   "metadata": {},
   "source": [
    "# PySpark engine"
   ]
  },
  {
   "cell_type": "markdown",
   "id": "572ae529",
   "metadata": {},
   "source": [
    "## 15) Point-in-time joins testing."
   ]
  },
  {
   "cell_type": "code",
   "execution_count": 1,
   "id": "1f3e227c",
   "metadata": {},
   "outputs": [
    {
     "name": "stdout",
     "output_type": "stream",
     "text": [
      "Starting Spark application\n"
     ]
    },
    {
     "data": {
      "text/html": [
       "<table>\n",
       "<tr><th>ID</th><th>Application ID</th><th>Kind</th><th>State</th><th>Spark UI</th><th>Driver log</th></tr><tr><td>6</td><td>application_1653473648291_0068</td><td>pyspark</td><td>idle</td><td><a target=\"_blank\" href=\"/hopsworks-api/yarnui/https://ip-172-31-17-208.eu-north-1.compute.internal:8089/proxy/application_1653473648291_0068/\">Link</a></td><td><a target=\"_blank\" href=\"/hopsworks-api/yarnui/https://ip-172-31-16-76.eu-north-1.compute.internal:8044/node/containerlogs/container_e01_1653473648291_0068_01_000001/testing__romankah\">Link</a></td></tr></table>"
      ],
      "text/plain": [
       "<IPython.core.display.HTML object>"
      ]
     },
     "metadata": {},
     "output_type": "display_data"
    },
    {
     "name": "stdout",
     "output_type": "stream",
     "text": [
      "SparkSession available as 'spark'.\n"
     ]
    }
   ],
   "source": [
    "import numpy as np\n",
    "import pandas as pd\n",
    "import matplotlib.pyplot as plt\n",
    "import seaborn as sns\n",
    "\n",
    "import hashlib\n",
    "from datetime import datetime\n",
    "\n",
    "from hops import hdfs"
   ]
  },
  {
   "cell_type": "code",
   "execution_count": 2,
   "id": "67efe162",
   "metadata": {},
   "outputs": [
    {
     "name": "stdout",
     "output_type": "stream",
     "text": [
      "Connected. Call `.close()` to terminate connection gracefully."
     ]
    }
   ],
   "source": [
    "import hsfs\n",
    "\n",
    "# Create a connection\n",
    "connection = hsfs.connection()\n",
    "\n",
    "# Get the feature store handle for the project's feature store\n",
    "fs = connection.get_feature_store()"
   ]
  },
  {
   "cell_type": "code",
   "execution_count": 4,
   "id": "24b0266a",
   "metadata": {},
   "outputs": [
    {
     "name": "stdout",
     "output_type": "stream",
     "text": [
      "Connected. Call `.close()` to terminate connection gracefully."
     ]
    }
   ],
   "source": [
    "import hsfs\n",
    "connection = hsfs.connection()\n",
    "fs = connection.get_feature_store(name='testing_featurestore')\n",
    "fg = fs.get_feature_group('test5_fg', version=2)"
   ]
  },
  {
   "cell_type": "code",
   "execution_count": 5,
   "id": "d7176079",
   "metadata": {},
   "outputs": [],
   "source": [
    "commit_details = fg.commit_details()"
   ]
  },
  {
   "cell_type": "code",
   "execution_count": 6,
   "id": "bcbc7e35",
   "metadata": {},
   "outputs": [],
   "source": [
    "commit_time = commit_details[sorted(commit_details)[0]][\"committedOn\"]"
   ]
  },
  {
   "cell_type": "code",
   "execution_count": 7,
   "id": "5167eebf",
   "metadata": {},
   "outputs": [
    {
     "name": "stdout",
     "output_type": "stream",
     "text": [
      "+-------+---------------+---------------+----------+----------+\n",
      "|ride_id|pickup_datetime|passenger_count|   taxi_id| driver_id|\n",
      "+-------+---------------+---------------+----------+----------+\n",
      "|  30400|  1578488000000|              3|2013000128|2013000128|\n",
      "|  15067|  1578181340000|              3|2013000102|2013000102|\n",
      "|   6993|  1578019860000|              2|2013000125|2013000125|\n",
      "|   1238|  1577904760000|              3|2013000130|2013000130|\n",
      "|  20572|  1578291440000|              3|2013000098|2013000098|\n",
      "+-------+---------------+---------------+----------+----------+\n",
      "only showing top 5 rows"
     ]
    }
   ],
   "source": [
    "fg.select_all().as_of(commit_time).read().show(5)"
   ]
  },
  {
   "cell_type": "code",
   "execution_count": null,
   "id": "4ad151b0",
   "metadata": {},
   "outputs": [],
   "source": []
  }
 ],
 "metadata": {
  "kernelspec": {
   "display_name": "PySpark",
   "language": "python",
   "name": "pysparkkernel"
  },
  "language_info": {
   "codemirror_mode": {
    "name": "python",
    "version": 3
   },
   "mimetype": "text/x-python",
   "name": "pyspark",
   "pygments_lexer": "python3"
  }
 },
 "nbformat": 4,
 "nbformat_minor": 5
}